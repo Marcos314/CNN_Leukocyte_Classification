{
 "cells": [
  {
   "cell_type": "code",
   "execution_count": 1,
   "id": "f57a7cae",
   "metadata": {},
   "outputs": [],
   "source": [
    "import os\n",
    "import numpy as np\n",
    "import shutil\n",
    "import random\n",
    "\n",
    "import pathlib\n",
    "import glob\n",
    "from sklearn.model_selection import train_test_split"
   ]
  },
  {
   "cell_type": "code",
   "execution_count": 2,
   "id": "c713b59f",
   "metadata": {},
   "outputs": [],
   "source": [
    "# Buscamos as imagens na pasta e criamos uma variavel com os caminhos.\n",
    "ROOT_DIR = \"/home/marcos/TCC_2020/dataset/novo/\"\n",
    "PATH_E = ROOT_DIR + \"EOSINOPHIL/*.jpg\"\n",
    "PATH_L = ROOT_DIR + \"LYMPHOCYTE/*.jpg\"\n",
    "PATH_M = ROOT_DIR + \"MONOCYTE/*.jpg\"\n",
    "PATH_N = ROOT_DIR + \"NEUTROPHIL/*.jpg\"\n",
    "\n",
    "\n",
    "# PATH_E = '/home/marcos/TCC_2020/dataset/novo/EOSINOPHIL/*.jpg'\n",
    "# PATH_L= '/home/marcos/TCC_2020/dataset/novo/LYMPHOCYTE/*.jpg'\n",
    "# PATH_M = '/home/marcos/TCC_2020/dataset/novo/MONOCYTE/*.jpg'\n",
    "# PATH_N = '/home/marcos/TCC_2020/dataset/novo/NEUTROPHIL/*.jpg'\n",
    "# ROOT_DIR = '/home/marcos/TCC_2020/dataset/novo'"
   ]
  },
  {
   "cell_type": "code",
   "execution_count": 3,
   "id": "0884b410",
   "metadata": {},
   "outputs": [],
   "source": [
    "def split_train_val_test_images(file_path):\n",
    "    \n",
    "    file_pattern = str(file_path)\n",
    "    \n",
    "    dataset_paths = [*glob.glob(file_pattern)]\n",
    "    \n",
    "    train_paths, test_paths = train_test_split(dataset_paths,\n",
    "                                               test_size=0.2,\n",
    "                                               random_state=999)\n",
    "\n",
    "    train_paths, val_paths = train_test_split(train_paths,\n",
    "                                              test_size=0.2,\n",
    "                                              random_state=999)\n",
    "    \n",
    "    \n",
    "    \n",
    "    print('Dados de Treino:', len(train_paths))\n",
    "    print('Dados de Validação:',len(val_paths))\n",
    "    print('Dados de Teste:',len(test_paths))\n",
    "    \n",
    "    sufix = ''\n",
    "    if   file_path[35:-6] == 'EOSINOPHIL': sufix = 'eosinofilo'\n",
    "    elif file_path[35:-6] == 'LYMPHOCYTE': sufix = 'linfocito'\n",
    "    elif file_path[35:-6] == 'MONOCYTE':   sufix = 'monocito'\n",
    "    elif file_path[35:-6] == 'NEUTROPHIL': sufix = 'neutrofilo'\n",
    "    \n",
    "    \n",
    "    \n",
    "    os.makedirs(ROOT_DIR +'train/' + sufix) \n",
    "    os.makedirs(ROOT_DIR +'test/' + sufix)\n",
    "    os.makedirs(ROOT_DIR +'val/' + sufix)\n",
    "    \n",
    "    for name in train_paths:\n",
    "            \n",
    "        shutil.copy(name, ROOT_DIR + '/train/' + sufix)\n",
    "    for name in test_paths:               \n",
    "        shutil.copy(name, ROOT_DIR + '/test/' + sufix)\n",
    "    for name in val_paths:               \n",
    "        shutil.copy(name, ROOT_DIR + '/valid/' + sufix)\n"
   ]
  },
  {
   "cell_type": "code",
   "execution_count": 4,
   "id": "00602816",
   "metadata": {},
   "outputs": [
    {
     "name": "stdout",
     "output_type": "stream",
     "text": [
      "## eosinofilo ##\n",
      "Dados de Treino: 16414\n",
      "Dados de Validação: 4104\n",
      "Dados de Teste: 5130\n",
      "## linfocito ##\n",
      "Dados de Treino: 6384\n",
      "Dados de Validação: 1596\n",
      "Dados de Teste: 1996\n",
      "## monocito ##\n",
      "Dados de Treino: 7372\n",
      "Dados de Validação: 1844\n",
      "Dados de Teste: 2304\n",
      "## neutrofilo ##\n",
      "Dados de Treino: 18104\n",
      "Dados de Validação: 4526\n",
      "Dados de Teste: 5658\n"
     ]
    }
   ],
   "source": [
    "print(\"## eosinofilo ##\")\n",
    "split_train_val_test_images(PATH_E)\n",
    "print(\"## linfocito ##\")\n",
    "split_train_val_test_images(PATH_L)\n",
    "print(\"## monocito ##\")\n",
    "split_train_val_test_images(PATH_M)\n",
    "print(\"## neutrofilo ##\")\n",
    "split_train_val_test_images(PATH_N)"
   ]
  },
  {
   "cell_type": "code",
   "execution_count": null,
   "id": "de6686c0",
   "metadata": {},
   "outputs": [],
   "source": []
  }
 ],
 "metadata": {
  "kernelspec": {
   "display_name": "Python 3",
   "language": "python",
   "name": "python3"
  },
  "language_info": {
   "codemirror_mode": {
    "name": "ipython",
    "version": 3
   },
   "file_extension": ".py",
   "mimetype": "text/x-python",
   "name": "python",
   "nbconvert_exporter": "python",
   "pygments_lexer": "ipython3",
   "version": "3.8.10"
  }
 },
 "nbformat": 4,
 "nbformat_minor": 5
}
