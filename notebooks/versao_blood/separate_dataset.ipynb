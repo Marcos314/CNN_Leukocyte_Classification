{
 "cells": [
  {
   "cell_type": "code",
   "execution_count": null,
   "metadata": {},
   "outputs": [],
   "source": [
    "import os\n",
    "import numpy as np\n",
    "import shutil\n",
    "import random\n",
    "\n",
    "import pathlib\n",
    "import glob\n",
    "from sklearn.model_selection import train_test_split"
   ]
  },
  {
   "cell_type": "code",
   "execution_count": null,
   "metadata": {},
   "outputs": [],
   "source": [
    "# Buscamos as imagens na pasta e criamos uma variavel com os caminhos.\n",
    "ROOT_DIR = \"/home/waldeyr/Insync/OneDrive/IFG/Formosa/TCC/MarcosWesley/TCC_2020/dataset/novo/\"\n",
    "PATH_E = ROOT_DIR + \"eosinofilo/*.jpg\"\n",
    "PATH_L = ROOT_DIR + \"linfocito/*.jpg\"\n",
    "PATH_M = ROOT_DIR + \"monocito/*.jpg\"\n",
    "PATH_N = ROOT_DIR + \"neutrofilo/*.jpg\"\n",
    "\n",
    "\n",
    "# PATH_E = '/home/marcos/TCC_2020/dataset/novo/eosinofilo/*.jpg'\n",
    "# PATH_L= '/home/marcos/TCC_2020/dataset/novo/linfocito/*.jpg'\n",
    "# PATH_M = '/home/marcos/TCC_2020/dataset/novo/monocito/*.jpg'\n",
    "# PATH_N = '/home/marcos/TCC_2020/dataset/novo/neutrofilo/*.jpg'\n",
    "# ROOT_DIR = '/home/marcos/TCC_2020/dataset/novo'"
   ]
  },
  {
   "cell_type": "code",
   "execution_count": null,
   "metadata": {},
   "outputs": [],
   "source": [
    "def split_train_val_test_images(file_path):\n",
    "    \n",
    "    file_pattern = str(file_path)\n",
    "    \n",
    "    dataset_paths = [*glob.glob(file_pattern)]\n",
    "    \n",
    "    train_paths, test_paths = train_test_split(dataset_paths,\n",
    "                                               test_size=0.2,\n",
    "                                               random_state=999)\n",
    "\n",
    "    train_paths, val_paths = train_test_split(train_paths,\n",
    "                                              test_size=0.2,\n",
    "                                              random_state=999)\n",
    "    \n",
    "    \n",
    "    \n",
    "    print('Dados de Treino:', len(train_paths))\n",
    "    print('Dados de Validação:',len(val_paths))\n",
    "    print('Dados de Teste:',len(test_paths))\n",
    "    \n",
    "    os.makedirs(ROOT_DIR +'/train_' + file_path[35:-6]) \n",
    "    os.makedirs(ROOT_DIR +'/test_' + file_path[35:-6])\n",
    "    os.makedirs(ROOT_DIR +'/val_' + file_path[35:-6])\n",
    "    \n",
    "    for name in train_paths:               \n",
    "        shutil.copy(name, ROOT_DIR + '/train_' + file_path[35:-6])\n",
    "    for name in test_paths:               \n",
    "        shutil.copy(name, ROOT_DIR + '/test_' + file_path[35:-6])\n",
    "    for name in val_paths:               \n",
    "        shutil.copy(name, ROOT_DIR + '/val_' + file_path[35:-6])\n"
   ]
  },
  {
   "cell_type": "code",
   "execution_count": null,
   "metadata": {},
   "outputs": [],
   "source": [
    "print(\"## eosinofilo ##\")\n",
    "split_train_val_test_images(PATH_E)\n",
    "print(\"## linfocito ##\")\n",
    "split_train_val_test_images(PATH_L)\n",
    "print(\"## monocito ##\")\n",
    "split_train_val_test_images(PATH_M)\n",
    "print(\"## neutrofilo ##\")\n",
    "split_train_val_test_images(PATH_N)"
   ]
  }
 ],
 "metadata": {
  "kernelspec": {
   "display_name": "Python 3",
   "language": "python",
   "name": "python3"
  },
  "language_info": {
   "codemirror_mode": {
    "name": "ipython",
    "version": 3
   },
   "file_extension": ".py",
   "mimetype": "text/x-python",
   "name": "python",
   "nbconvert_exporter": "python",
   "pygments_lexer": "ipython3",
   "version": "3.8.10"
  }
 },
 "nbformat": 4,
 "nbformat_minor": 5
}
