{
 "cells": [
  {
   "cell_type": "code",
   "execution_count": 1,
   "id": "f57a7cae",
   "metadata": {},
   "outputs": [],
   "source": [
    "import os\n",
    "import numpy as np\n",
    "import shutil\n",
    "import random\n",
    "\n",
    "import pathlib\n",
    "import glob\n",
    "from sklearn.model_selection import train_test_split"
   ]
  },
  {
   "cell_type": "code",
   "execution_count": 27,
   "id": "alert-biodiversity",
   "metadata": {
    "scrolled": true
   },
   "outputs": [
    {
     "name": "stdout",
     "output_type": "stream",
     "text": [
      "--2021-08-03 17:51:37--  https://md-datasets-cache-zipfiles-prod.s3.eu-west-1.amazonaws.com/snkd93bnjr-1.zip\n",
      "Resolvendo md-datasets-cache-zipfiles-prod.s3.eu-west-1.amazonaws.com (md-datasets-cache-zipfiles-prod.s3.eu-west-1.amazonaws.com)... 52.218.112.104\n",
      "Conectando-se a md-datasets-cache-zipfiles-prod.s3.eu-west-1.amazonaws.com (md-datasets-cache-zipfiles-prod.s3.eu-west-1.amazonaws.com)|52.218.112.104|:443... conectado.\n",
      "A requisição HTTP foi enviada, aguardando resposta... 200 OK\n",
      "Tamanho: 278867153 (266M) [application/octet-stream]\n",
      "Salvando em: “snkd93bnjr-1.zip”\n",
      "\n",
      "snkd93bnjr-1.zip    100%[===================>] 265,95M  7,17MB/s    em 52s     \n",
      "\n",
      "2021-08-03 17:52:30 (5,10 MB/s) - “snkd93bnjr-1.zip” salvo [278867153/278867153]\n",
      "\n"
     ]
    }
   ],
   "source": [
    "#Download do dataset\n",
    "'''\n",
    "O comando abaixo vai fazer o download do dataset no diretório atual em que se encontra\n",
    "este notebook\n",
    "'''\n",
    "\n",
    "!wget https://md-datasets-cache-zipfiles-prod.s3.eu-west-1.amazonaws.com/snkd93bnjr-1.zip"
   ]
  },
  {
   "cell_type": "code",
   "execution_count": 29,
   "id": "together-sentence",
   "metadata": {},
   "outputs": [],
   "source": [
    "# Criand o diretório onde serão armazenados os dados desejado\n",
    "'''\n",
    "Obs: Está célula de código deve ser executada apenas uma vez. Após esse process\n",
    "os dados já vão estar no diretório especificado abaixo\n",
    "'''\n",
    "\n",
    "!mkdir '/home/marcos/TCC_2020/dataset'\n",
    "!mv snkd93bnjr-1.zip '/home/marcos/TCC_2020/dataset/source_dataset.zip'"
   ]
  },
  {
   "cell_type": "markdown",
   "id": "conservative-afternoon",
   "metadata": {},
   "source": [
    "Nesse ponto houve um processo manual onde o arquivo enviado ao diretório de destino foi descompactado, e então removeu-se os diretórios com imagens que não serão usadas no trabalho, restando apenas 5 diretório cujo nome é referente ao nome as céluas apresentado na imagem.\n",
    "\n",
    "No diretório /home/marcos/TCC_2020/dataset agora se encontram os subdiretórios: basophil, eosinophil, limphocyte, monocyte e neutrophil\n"
   ]
  },
  {
   "cell_type": "code",
   "execution_count": 34,
   "id": "c713b59f",
   "metadata": {},
   "outputs": [],
   "source": [
    "# Buscamos as imagens na pasta e criamos uma variavel com os paths.O source_path é\n",
    "# um parâmetro referente ao cainho onde o dataset foi inserido após o download.\n",
    "\n",
    "ROOT_DIR = \"/home/marcos/TCC_2020/dataset/\"\n",
    "PATH_E = ROOT_DIR + \"eosinophil/*.jpg\"\n",
    "PATH_L = ROOT_DIR + \"lymphocyte/*.jpg\"\n",
    "PATH_M = ROOT_DIR + \"monocyte/*.jpg\"\n",
    "PATH_N = ROOT_DIR + \"neutrophil/*.jpg\"\n",
    "PATH_B = ROOT_DIR + \"basophil/*.jpg\""
   ]
  },
  {
   "cell_type": "code",
   "execution_count": 42,
   "id": "0884b410",
   "metadata": {},
   "outputs": [],
   "source": [
    "def split_train_val_test_images(file_path):\n",
    "    \n",
    "    file_pattern = str(file_path)\n",
    "    \n",
    "    dataset_paths = [*glob.glob(file_pattern)]\n",
    "    \n",
    "    train_paths, test_paths = train_test_split(dataset_paths,\n",
    "                                               test_size=0.2,\n",
    "                                               random_state=25)\n",
    "    \n",
    "    train_paths, val_paths = train_test_split(train_paths,\n",
    "                                              test_size=0.2,\n",
    "                                              random_state=25)\n",
    "\n",
    "    print('Dados de Treino:', len(train_paths))\n",
    "    print('Dados de Teste:',len(test_paths))\n",
    "    print('Dados de Validação:',len(val_paths))\n",
    "    \n",
    "    # Usando o método find(), que retorna -1 caso a substring não seja encontrada\n",
    "    sufix = ''\n",
    "    if   file_path.find('eosinophil') != -1: sufix = 'EOSINOPHIL'\n",
    "    elif file_path.find('lymphocyte') != -1: sufix = 'LYMPHOCYTE'\n",
    "    elif file_path.find('monocyte') != -1: sufix = 'MONOCYTE'\n",
    "    elif file_path.find('neutrophil') != -1: sufix = 'NEUTROPHIL'\n",
    "    elif file_path.find('basophil') != -1: sufix = 'BASOPHIL'\n",
    "    \n",
    "    os.makedirs(ROOT_DIR +'train/' + sufix) \n",
    "    os.makedirs(ROOT_DIR +'test/' + sufix)\n",
    "    os.makedirs(ROOT_DIR +'val/' + sufix)\n",
    "    \n",
    "    for name in train_paths:            \n",
    "        shutil.copy(name, ROOT_DIR + '/train/' + sufix)\n",
    "    for name in test_paths:               \n",
    "        shutil.copy(name, ROOT_DIR + '/test/' + sufix)\n",
    "    for name in val_paths:\n",
    "        shutil.copy(name, ROOT_DIR + '/valid/' + sufix)\n",
    "    \n"
   ]
  },
  {
   "cell_type": "code",
   "execution_count": 44,
   "id": "00602816",
   "metadata": {},
   "outputs": [
    {
     "name": "stdout",
     "output_type": "stream",
     "text": [
      "## eosinofilo ##\n",
      "Dados de Treino: 1994\n",
      "Dados de Teste: 624\n",
      "Dados de Validação: 499\n",
      "## linfocito ##\n",
      "Dados de Treino: 776\n",
      "Dados de Teste: 243\n",
      "Dados de Validação: 195\n",
      "## monocito ##\n",
      "Dados de Treino: 908\n",
      "Dados de Teste: 284\n",
      "Dados de Validação: 228\n",
      "## neutrofilo ##\n",
      "Dados de Treino: 2130\n",
      "Dados de Teste: 666\n",
      "Dados de Validação: 533\n",
      "## basofilos ##\n",
      "Dados de Treino: 779\n",
      "Dados de Teste: 244\n",
      "Dados de Validação: 195\n"
     ]
    }
   ],
   "source": [
    "print(\"## eosinofilo ##\")\n",
    "split_train_val_test_images(PATH_E)\n",
    "print(\"## linfocito ##\")\n",
    "split_train_val_test_images(PATH_L)\n",
    "print(\"## monocito ##\")\n",
    "split_train_val_test_images(PATH_M)\n",
    "print(\"## neutrofilo ##\")\n",
    "split_train_val_test_images(PATH_N)\n",
    "print(\"## basofilos ##\")\n",
    "split_train_val_test_images(PATH_B)"
   ]
  },
  {
   "cell_type": "code",
   "execution_count": null,
   "id": "de6686c0",
   "metadata": {},
   "outputs": [],
   "source": [
    "Após esse processo, são criados 3 diretórios (train, test, valid) que serão usados no\n",
    "modelo de CNN proposto.\n",
    "Antes, esses três diretórios serão comprimidos no formato .zip e enviado ao drive,\n",
    "possibilidando assim o acesso dos dados aos notebooks que serão executados\n",
    "no googleColaboratory, que apresenta recursos computacionais (GPU) melhores."
   ]
  }
 ],
 "metadata": {
  "kernelspec": {
   "display_name": "Python 3",
   "language": "python",
   "name": "python3"
  },
  "language_info": {
   "codemirror_mode": {
    "name": "ipython",
    "version": 3
   },
   "file_extension": ".py",
   "mimetype": "text/x-python",
   "name": "python",
   "nbconvert_exporter": "python",
   "pygments_lexer": "ipython3",
   "version": "3.8.5"
  }
 },
 "nbformat": 4,
 "nbformat_minor": 5
}
