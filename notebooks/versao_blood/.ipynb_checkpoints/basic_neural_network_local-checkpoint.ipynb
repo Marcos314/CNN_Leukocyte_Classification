{
 "cells": [
  {
   "cell_type": "markdown",
   "metadata": {
    "id": "sVkTUybqV7B-"
   },
   "source": [
    "# Rede Neural básica aplicada aos dados"
   ]
  },
  {
   "cell_type": "code",
   "execution_count": 60,
   "metadata": {
    "id": "25ubox8eVKmc"
   },
   "outputs": [],
   "source": [
    "# Imports do notebook v2\n",
    "import os\n",
    "import zipfile\n",
    "#from google.colab import files\n",
    "from tqdm import tqdm\n",
    "import cv2\n",
    "from sklearn.utils import shuffle\n",
    "from sklearn.model_selection import train_test_split\n",
    "# Imports do curso\n",
    "import tensorflow\n",
    "from tensorflow import keras\n",
    "import matplotlib.pyplot as plt\n",
    "%matplotlib inline\n",
    "from tensorflow.keras.models import load_model\n",
    "import numpy as np"
   ]
  },
  {
   "cell_type": "code",
   "execution_count": 16,
   "metadata": {
    "colab": {
     "base_uri": "https://localhost:8080/"
    },
    "id": "Pw_VZIdeZ1kt",
    "outputId": "14d739d2-1f69-4dee-c0e6-e4828f65971d"
   },
   "outputs": [
    {
     "name": "stdout",
     "output_type": "stream",
     "text": [
      "2.2.0\n"
     ]
    }
   ],
   "source": [
    "print(tensorflow.__version__)"
   ]
  },
  {
   "cell_type": "code",
   "execution_count": 17,
   "metadata": {
    "colab": {
     "base_uri": "https://localhost:8080/"
    },
    "id": "Kaiu7zCErJAx",
    "outputId": "9804c7c5-fed7-4b96-80dc-b7fec65dc8b0"
   },
   "outputs": [
    {
     "name": "stdout",
     "output_type": "stream",
     "text": [
      "total train eosinofilo: 455\n",
      "total valid eosinofilo: 114\n",
      "total test eosinofilo: 143\n",
      "total train linfocito: 168\n",
      "total valid linfocito: 43\n",
      "total test linfocito: 53\n",
      "total train monocito: 102\n",
      "total valid monocito: 26\n",
      "total test monocito: 32\n",
      "total train neutrofilo: 1059\n",
      "total valid neutrofilo: 265\n",
      "total test neutrofilo: 332\n"
     ]
    }
   ],
   "source": [
    "# Lendo dados descompactados a partir dos subdiretórios baixados\n",
    "\n",
    "# Diretorio com imagens de treino de eosinofilo\n",
    "train1 = os.path.join('/home/marcos/TCC_2020/dataset/blood/train_eosinofilo')\n",
    "# Diretorio com imagens de validação de eosinofilo \n",
    "valid1 = os.path.join('/home/marcos/TCC_2020/dataset/blood/val_eosinofilo/')\n",
    "# Diretorio com imagens de teste de eosinofilo \n",
    "test1 = os.path.join('/home/marcos/TCC_2020/dataset/blood/test_eosinofilo/')\n",
    "\n",
    "# Diretorio com imagens de treino de linfocito\n",
    "train2 = os.path.join('/home/marcos/TCC_2020/dataset/blood/train_linfocito/')\n",
    "# Diretorio com imagens de validação de linfocito \n",
    "valid2 = os.path.join('/home/marcos/TCC_2020/dataset/blood/val_linfocito/')\n",
    "# Diretorio com imagens de teste de linfocito \n",
    "test2 = os.path.join('/home/marcos/TCC_2020/dataset/blood/test_linfocito/')\n",
    "\n",
    "# Diretorio com imagens de treino de monocito\n",
    "train3 = os.path.join('/home/marcos/TCC_2020/dataset/blood/train_monocito/')\n",
    "# Diretorio com imagens de validação de monocito \n",
    "valid3 = os.path.join('/home/marcos/TCC_2020/dataset/blood/val_monocito/')\n",
    "# Diretorio com imagens de teste de monocito \n",
    "test3 = os.path.join('/home/marcos/TCC_2020/dataset/blood/test_monocito/')\n",
    "\n",
    "# Diretorio com imagens de treino de neutrofilo\n",
    "train4 = os.path.join('/home/marcos/TCC_2020/dataset/blood/train_neutrofilo/')\n",
    "# Diretorio com imagens de validação de neutrofilo \n",
    "valid4 = os.path.join('/home/marcos/TCC_2020/dataset/blood/val_neutrofilo/')\n",
    "# Diretorio com imagens de teste de neutrofilo \n",
    "test4 = os.path.join('/home/marcos/TCC_2020/dataset/blood/test_neutrofilo/')\n",
    "\n",
    "\n",
    "print('total train eosinofilo:', len(os.listdir(train1)))\n",
    "print('total valid eosinofilo:', len(os.listdir(valid1)))\n",
    "print('total test eosinofilo:', len(os.listdir(test1)))\n",
    "\n",
    "\n",
    "print('total train linfocito:', len(os.listdir(train2)))\n",
    "print('total valid linfocito:', len(os.listdir(valid2)))\n",
    "print('total test linfocito:', len(os.listdir(test2)))\n",
    "\n",
    "print('total train monocito:', len(os.listdir(train3)))\n",
    "print('total valid monocito:', len(os.listdir(valid3)))\n",
    "print('total test monocito:', len(os.listdir(test3)))\n",
    "\n",
    "print('total train neutrofilo:', len(os.listdir(train4)))\n",
    "print('total valid neutrofilo:', len(os.listdir(valid4)))\n",
    "print('total test neutrofilo:', len(os.listdir(test4)))"
   ]
  },
  {
   "cell_type": "markdown",
   "metadata": {
    "id": "mv5dvYIRrVHU"
   },
   "source": [
    "### Normalização e Input dos dados"
   ]
  },
  {
   "cell_type": "code",
   "execution_count": 18,
   "metadata": {
    "id": "HszxSKyZrI9r"
   },
   "outputs": [],
   "source": [
    "# Função que lê as imagens e retorna-as em 2 arrays: images e labels\n",
    "def loadDataset():\n",
    "    datasets = ['/home/marcos/TCC_2020/dataset/blood/blood_input_as_zip/train/','/home/marcos/TCC_2020/dataset/blood/blood_input_as_zip//test/' ]\n",
    "    images = []\n",
    "    labels = []\n",
    "    image_size = (150,150)\n",
    "    # iterar nos datasets de treino e validação\n",
    "    for dataset in datasets:\n",
    "        # iterar nas subpastas dos datasets\n",
    "        for folder in os.listdir(dataset):\n",
    "            if   folder in ['eosinofilo']: label = 0\n",
    "            elif folder in ['linfocito']:  label = 1\n",
    "            elif folder in ['monocito']:   label = 2\n",
    "            elif folder in ['neutrofilo']: label = 3\n",
    "            # iterar em cada imagem dos datasets\n",
    "            for file in tqdm(os.listdir(os.path.join(dataset, folder))):\n",
    "                # pegar caminho de cada imagem\n",
    "                img_path = os.path.join(os.path.join(dataset, folder), file)\n",
    "                # abrir e redimensionar cada imagem\n",
    "                image = cv2.imread(img_path)\n",
    "                image = cv2.cvtColor(image, cv2.COLOR_BGR2RGB)\n",
    "                image = cv2.resize(image, image_size)\n",
    "                # adicionar a imagem e seu label correspondente  à saída\n",
    "                images.append(image)\n",
    "                labels.append(label)\n",
    "    # Criar arrays com as saídas (imagens e labels)\n",
    "    images = np.array(images, dtype = 'float32')\n",
    "    labels = np.array(labels, dtype = 'int32')\n",
    "    return images, labels"
   ]
  },
  {
   "cell_type": "code",
   "execution_count": 19,
   "metadata": {
    "colab": {
     "base_uri": "https://localhost:8080/"
    },
    "id": "_QZxUFSUra5a",
    "outputId": "593eaff0-c607-4180-cdce-7d3dd5039fc3"
   },
   "outputs": [
    {
     "name": "stderr",
     "output_type": "stream",
     "text": [
      "100%|██████████| 1059/1059 [00:03<00:00, 265.37it/s]\n",
      "100%|██████████| 102/102 [00:00<00:00, 249.65it/s]\n",
      "100%|██████████| 455/455 [00:01<00:00, 278.62it/s]\n",
      "100%|██████████| 168/168 [00:00<00:00, 252.27it/s]\n",
      "100%|██████████| 332/332 [00:01<00:00, 303.71it/s]\n",
      "100%|██████████| 32/32 [00:00<00:00, 329.82it/s]\n",
      "100%|██████████| 143/143 [00:00<00:00, 313.99it/s]\n",
      "100%|██████████| 53/53 [00:00<00:00, 307.37it/s]\n"
     ]
    }
   ],
   "source": [
    "# Combinar todas as imagens originais em um único dataset\n",
    "images, labels = loadDataset()"
   ]
  },
  {
   "cell_type": "code",
   "execution_count": 20,
   "metadata": {
    "id": "5_aGuXuWr6SC"
   },
   "outputs": [],
   "source": [
    "# Embaralhar os dados e separar novos conjuntos de  treinamento (80%), validação (10%) e teste (10%)\n",
    "images, labels = shuffle(images, labels, random_state=10)\n",
    "train_images, test_images, train_labels, test_labels = train_test_split(images, labels, test_size = 0.2)\n",
    "test_images, val_images, test_labels, val_labels = train_test_split(test_images, test_labels, test_size = 0.5)"
   ]
  },
  {
   "cell_type": "code",
   "execution_count": 21,
   "metadata": {
    "colab": {
     "base_uri": "https://localhost:8080/"
    },
    "id": "bt2uwPBUx1oi",
    "outputId": "7d2080a4-895c-4a93-9238-f5d5c547fbd8"
   },
   "outputs": [
    {
     "name": "stdout",
     "output_type": "stream",
     "text": [
      "Quantidade de imagens para treinamento: 1875\n",
      "Quantidade de imagens para validação: 235\n",
      "Quantidade de imagens para teste: 234\n"
     ]
    }
   ],
   "source": [
    "n_train = train_labels.shape[0]\n",
    "n_val = val_labels.shape[0]\n",
    "n_test = test_labels.shape[0]\n",
    "\n",
    "print(\"Quantidade de imagens para treinamento: {}\".format(n_train))\n",
    "print(\"Quantidade de imagens para validação: {}\".format(n_val))\n",
    "print(\"Quantidade de imagens para teste: {}\".format(n_test))"
   ]
  },
  {
   "cell_type": "code",
   "execution_count": 13,
   "metadata": {
    "colab": {
     "base_uri": "https://localhost:8080/"
    },
    "id": "p5q82_JXV6s3",
    "outputId": "a5b57756-6e29-40c5-d128-a49ba5e8baff"
   },
   "outputs": [
    {
     "name": "stdout",
     "output_type": "stream",
     "text": [
      "1875\n"
     ]
    },
    {
     "data": {
      "text/plain": [
       "3"
      ]
     },
     "execution_count": 13,
     "metadata": {},
     "output_type": "execute_result"
    }
   ],
   "source": [
    "# Exploração dos dados\n",
    "print(len(train_images))\n",
    "#imagens_treino.shape\n",
    "#imagens_teste.shape\n",
    "#len(identificacoes_teste)\n",
    "# identificacoes_treino.min()\n",
    "train_labels.max()"
   ]
  },
  {
   "cell_type": "markdown",
   "metadata": {
    "id": "Y5Gl1KMRcn5b"
   },
   "source": [
    "### Modelo - Curso Alura"
   ]
  },
  {
   "cell_type": "code",
   "execution_count": 22,
   "metadata": {
    "colab": {
     "base_uri": "https://localhost:8080/"
    },
    "collapsed": true,
    "id": "YKY2MWxxcpgA",
    "outputId": "8a146bd8-e1e2-4712-b8bc-56f0edcb9291"
   },
   "outputs": [
    {
     "name": "stdout",
     "output_type": "stream",
     "text": [
      "Epoch 1/20\n",
      "47/47 [==============================] - 7s 146ms/step - loss: 5.6467 - accuracy: 0.5387 - val_loss: 483.8875 - val_accuracy: 0.5760\n",
      "Epoch 2/20\n",
      "47/47 [==============================] - 7s 140ms/step - loss: 5.6628 - accuracy: 0.5273 - val_loss: 490.7777 - val_accuracy: 0.5760\n",
      "Epoch 3/20\n",
      "47/47 [==============================] - 7s 158ms/step - loss: 5.5968 - accuracy: 0.5387 - val_loss: 490.8438 - val_accuracy: 0.5760\n",
      "Epoch 4/20\n",
      "47/47 [==============================] - 8s 166ms/step - loss: 5.6762 - accuracy: 0.5300 - val_loss: 754.3800 - val_accuracy: 0.5760\n",
      "Epoch 5/20\n",
      "47/47 [==============================] - 7s 141ms/step - loss: 5.5738 - accuracy: 0.5460 - val_loss: 762.8919 - val_accuracy: 0.5760\n",
      "Epoch 6/20\n",
      "47/47 [==============================] - 8s 160ms/step - loss: 5.7288 - accuracy: 0.5267 - val_loss: 762.9599 - val_accuracy: 0.5760\n",
      "Epoch 7/20\n",
      "47/47 [==============================] - 8s 163ms/step - loss: 5.5984 - accuracy: 0.5253 - val_loss: 762.9600 - val_accuracy: 0.5760\n",
      "Epoch 8/20\n",
      "47/47 [==============================] - 8s 162ms/step - loss: 5.5861 - accuracy: 0.5373 - val_loss: 762.9600 - val_accuracy: 0.5760\n",
      "Epoch 9/20\n",
      "47/47 [==============================] - 8s 161ms/step - loss: 5.7043 - accuracy: 0.5253 - val_loss: 762.9600 - val_accuracy: 0.5760\n",
      "Epoch 10/20\n",
      "47/47 [==============================] - 7s 158ms/step - loss: 5.5431 - accuracy: 0.5293 - val_loss: 762.9600 - val_accuracy: 0.5760\n",
      "Epoch 11/20\n",
      "47/47 [==============================] - 7s 157ms/step - loss: 5.5185 - accuracy: 0.5373 - val_loss: 762.9600 - val_accuracy: 0.5760\n",
      "Epoch 12/20\n",
      "47/47 [==============================] - 8s 162ms/step - loss: 5.6505 - accuracy: 0.5353 - val_loss: 762.9600 - val_accuracy: 0.5760\n",
      "Epoch 13/20\n",
      "47/47 [==============================] - 8s 163ms/step - loss: 5.6858 - accuracy: 0.5260 - val_loss: 762.9600 - val_accuracy: 0.5760\n",
      "Epoch 14/20\n",
      "47/47 [==============================] - 7s 156ms/step - loss: 5.5062 - accuracy: 0.5507 - val_loss: 762.9600 - val_accuracy: 0.5760\n",
      "Epoch 15/20\n",
      "47/47 [==============================] - 8s 163ms/step - loss: 5.4541 - accuracy: 0.5453 - val_loss: 762.9600 - val_accuracy: 0.5760\n",
      "Epoch 16/20\n",
      "47/47 [==============================] - 7s 151ms/step - loss: 5.5016 - accuracy: 0.5560 - val_loss: 762.9600 - val_accuracy: 0.5760\n",
      "Epoch 17/20\n",
      "47/47 [==============================] - 8s 166ms/step - loss: 5.5861 - accuracy: 0.5260 - val_loss: 762.9600 - val_accuracy: 0.5760\n",
      "Epoch 18/20\n",
      "47/47 [==============================] - 8s 162ms/step - loss: 5.5492 - accuracy: 0.5360 - val_loss: 762.9600 - val_accuracy: 0.5760\n",
      "Epoch 19/20\n",
      "47/47 [==============================] - 7s 156ms/step - loss: 5.7426 - accuracy: 0.5227 - val_loss: 762.9600 - val_accuracy: 0.5760\n",
      "Epoch 20/20\n",
      "47/47 [==============================] - 8s 160ms/step - loss: 5.6981 - accuracy: 0.5227 - val_loss: 762.9600 - val_accuracy: 0.5760\n"
     ]
    }
   ],
   "source": [
    "# Normalização\n",
    "train_images = train_images / 255.0 \n",
    "# Criação do modelo\n",
    "modelo = keras.Sequential([ \n",
    "    keras.layers.Flatten(input_shape=(150, 150, 3)),\n",
    "    keras.layers.Dense(256, activation=tensorflow.nn.relu),\n",
    "    keras.layers.Dropout(0.2), # \"Adormecendo\" 20% dos dados, um tipo de normalização\n",
    "    keras.layers.Dense(128, activation=tensorflow.nn.relu), # Add nova camada intermerdiária 2º teste\n",
    "    keras.layers.Dropout(0.2), # \"Adormecendo\" 20% dos dados, um tipo de normalização\n",
    "    keras.layers.Dense(64, activation=tensorflow.nn.relu),\n",
    "    keras.layers.Dropout(0.2), # \"Adormecendo\" 20% dos dados, um tipo de normalização\n",
    "    keras.layers.Dense(10, activation=tensorflow.nn.softmax),\n",
    "    keras.layers.Dropout(0.2) # \"Adormecendo\" 20% dos dados, um tipo de normalização\n",
    "])\n",
    "\n",
    "# Compilando o modelo\n",
    "modelo.compile(optimizer = 'adam',\n",
    "               loss = 'sparse_categorical_crossentropy',\n",
    "               metrics = ['accuracy'])\n",
    "\n",
    "# Treinando o modelo\n",
    "historico = modelo.fit(train_images, train_labels, epochs=20, validation_split = 0.2) #validation_split = 0.2 20% pra teste"
   ]
  },
  {
   "cell_type": "markdown",
   "metadata": {
    "id": "b86-q5KTeGO3"
   },
   "source": [
    "### Salvando e carregando o modelo"
   ]
  },
  {
   "cell_type": "code",
   "execution_count": 27,
   "metadata": {
    "id": "pMwkGSJBfBq5"
   },
   "outputs": [],
   "source": [
    "modelo.save(\"modelo.h5\")\n",
    "modelo_salvo = load_model(\"modelo.h5\")"
   ]
  },
  {
   "cell_type": "markdown",
   "metadata": {
    "id": "hT2v2QoSbhHT"
   },
   "source": [
    "### Gráficos de acurácia e validação por época"
   ]
  },
  {
   "cell_type": "code",
   "execution_count": null,
   "metadata": {
    "id": "1vfTpiyblBS3"
   },
   "outputs": [],
   "source": [
    "historico"
   ]
  },
  {
   "cell_type": "code",
   "execution_count": null,
   "metadata": {
    "id": "yEm1ZcFLlN8J"
   },
   "outputs": [],
   "source": [
    "historico.history"
   ]
  },
  {
   "cell_type": "code",
   "execution_count": null,
   "metadata": {
    "id": "8PfGSXD0aqjS"
   },
   "outputs": [],
   "source": [
    "historico.history['accuracy']"
   ]
  },
  {
   "cell_type": "code",
   "execution_count": 84,
   "metadata": {
    "colab": {
     "base_uri": "https://localhost:8080/",
     "height": 312
    },
    "id": "aHv5jhEAa3Oj",
    "outputId": "74e208f9-a717-4581-d2a2-4b2747b1d73b"
   },
   "outputs": [
    {
     "name": "stderr",
     "output_type": "stream",
     "text": [
      "/home/marcos/anaconda3/envs/deep_learning/lib/python3.6/site-packages/ipykernel_launcher.py:9: MatplotlibDeprecationWarning: savefig() got unexpected keyword argument \"figsize\" which is no longer supported as of 3.3 and will become an error two minor releases later\n",
      "  if __name__ == '__main__':\n"
     ]
    },
    {
     "data": {
      "image/png": "[encoded data removed]",
      "text/plain": [
       "<Figure size 432x288 with 1 Axes>"
      ]
     },
     "metadata": {
      "needs_background": "light"
     },
     "output_type": "display_data"
    }
   ],
   "source": [
    "# Gráfico comparativo train x valid\n",
    "plt.grid(True)\n",
    "plt.plot(historico.history['accuracy'])\n",
    "plt.plot(historico.history['val_accuracy'])\n",
    "plt.title('Acurácia por épocas')\n",
    "plt.xlabel('epochs')\n",
    "plt.ylabel('accuracy')\n",
    "plt.legend(['treino','validação'], loc=7)\n",
    "plt.savefig('/home/marcos/TCC_2020/pictures/train_valid_acc.png', dpi=300, figsize=(9,5))\n",
    "plt.show()"
   ]
  },
  {
   "cell_type": "markdown",
   "metadata": {
    "id": "-xpYqc-FmQ6a"
   },
   "source": [
    "### Gráficos de perda e validação por época"
   ]
  },
  {
   "cell_type": "code",
   "execution_count": 85,
   "metadata": {
    "colab": {
     "base_uri": "https://localhost:8080/",
     "height": 312
    },
    "id": "v1k2PpgWbzGn",
    "outputId": "7c102824-0f0c-4d56-c9e8-cf28cf3c4eb4"
   },
   "outputs": [
    {
     "name": "stderr",
     "output_type": "stream",
     "text": [
      "/home/marcos/anaconda3/envs/deep_learning/lib/python3.6/site-packages/ipykernel_launcher.py:9: MatplotlibDeprecationWarning: savefig() got unexpected keyword argument \"figsize\" which is no longer supported as of 3.3 and will become an error two minor releases later\n",
      "  if __name__ == '__main__':\n"
     ]
    },
    {
     "data": {
      "image/png": "[encoded data removed]",
      "text/plain": [
       "<Figure size 432x288 with 1 Axes>"
      ]
     },
     "metadata": {
      "needs_background": "light"
     },
     "output_type": "display_data"
    }
   ],
   "source": [
    "# Gráfico da perda\n",
    "plt.grid(linestyle='-', color = 'grey')\n",
    "plt.plot(historico.history['loss'])\n",
    "plt.plot(historico.history['val_loss'])\n",
    "plt.title('Perda por épocas')\n",
    "plt.xlabel('epochs')\n",
    "plt.ylabel('perda')\n",
    "plt.legend(['treino','validação'], loc=7)\n",
    "plt.savefig('/home/marcos/TCC_2020/pictures/train_valid_loss.png', dpi=300, figsize=(9,5))"
   ]
  },
  {
   "cell_type": "markdown",
   "metadata": {
    "id": "NaaM9NsZft6o"
   },
   "source": [
    "### Testando o Modelo"
   ]
  },
  {
   "cell_type": "code",
   "execution_count": 30,
   "metadata": {
    "id": "SNwx1F0ufxfX"
   },
   "outputs": [
    {
     "name": "stdout",
     "output_type": "stream",
     "text": [
      "Resultado teste: 3\n",
      "Número da imagem de teste teste: 0\n",
      "Resultado teste: 3\n",
      "Número da imagem de teste teste: 0\n"
     ]
    }
   ],
   "source": [
    "testes = modelo.predict(test_images)\n",
    "print('Resultado teste:',np.argmax(testes[12]))\n",
    "print('Número da imagem de teste teste:',test_labels[12])\n",
    "\n",
    "testes_modelo_salvo = modelo_salvo.predict(test_images)\n",
    "print('Resultado teste:',np.argmax(testes_modelo_salvo[12]))\n",
    "print('Número da imagem de teste teste:',test_labels[12])"
   ]
  },
  {
   "cell_type": "markdown",
   "metadata": {
    "id": "0m6-2YupmYiH"
   },
   "source": [
    "### Avaliando o modelo"
   ]
  },
  {
   "cell_type": "code",
   "execution_count": 32,
   "metadata": {
    "id": "GmuXD0YQkF_y"
   },
   "outputs": [
    {
     "name": "stdout",
     "output_type": "stream",
     "text": [
      "8/8 [==============================] - 0s 22ms/step - loss: 171216.3438 - accuracy: 0.6368\n",
      "Perda do teste: 171216.34375\n",
      "Acurácia do teste: 0.6367521286010742\n",
      "8/8 [==============================] - 0s 27ms/step - loss: 171216.3438 - accuracy: 0.6368\n",
      "Perda do teste: 171216.34375\n",
      "Acurácia do teste: 0.6367521286010742\n"
     ]
    }
   ],
   "source": [
    "# Função de avaliação\n",
    "perda_teste, acuracia_teste = modelo.evaluate(test_images, test_labels) #(perda, acuracia)\n",
    "print('Perda do teste:', perda_teste)\n",
    "print('Acurácia do teste:', acuracia_teste)\n",
    "\n",
    "perda_teste2, acuracia_teste2 = modelo_salvo.evaluate(test_images, test_labels) #(perda, acuracia)\n",
    "print('Perda do teste:', perda_teste2)\n",
    "print('Acurácia do teste:', acuracia_teste2)"
   ]
  },
  {
   "cell_type": "code",
   "execution_count": null,
   "metadata": {
    "id": "dKfZnZIjkxPK"
   },
   "outputs": [],
   "source": []
  }
 ],
 "metadata": {
  "accelerator": "GPU",
  "colab": {
   "collapsed_sections": [
    "jlX6zs-FWa-K",
    "ebb2fgCIV2M_"
   ],
   "name": "cnn_basic_01.1.ipynb",
   "provenance": []
  },
  "kernelspec": {
   "display_name": "Python 3",
   "language": "python",
   "name": "python3"
  },
  "language_info": {
   "codemirror_mode": {
    "name": "ipython",
    "version": 3
   },
   "file_extension": ".py",
   "mimetype": "text/x-python",
   "name": "python",
   "nbconvert_exporter": "python",
   "pygments_lexer": "ipython3",
   "version": "3.6.13"
  }
 },
 "nbformat": 4,
 "nbformat_minor": 1
}
