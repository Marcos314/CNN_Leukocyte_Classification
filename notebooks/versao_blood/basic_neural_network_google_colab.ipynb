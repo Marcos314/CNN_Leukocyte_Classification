{
  "nbformat": 4,
  "nbformat_minor": 0,
  "metadata": {
    "colab": {
      "name": "cnn_basic_01.1.ipynb",
      "provenance": [],
      "collapsed_sections": [
        "jlX6zs-FWa-K",
        "ebb2fgCIV2M_"
      ]
    },
    "kernelspec": {
      "name": "python3",
      "display_name": "Python 3"
    },
    "language_info": {
      "name": "python"
    },
    "accelerator": "GPU"
  },
  "cells": [
    {
      "cell_type": "markdown",
      "metadata": {
        "id": "sVkTUybqV7B-"
      },
      "source": [
        "# Rede Neural básica aplicada aos dados"
      ]
    },
    {
      "cell_type": "code",
      "metadata": {
        "id": "1PASRDSNzgS_"
      },
      "source": [
        "#%tensorflow_version 2.x"
      ],
      "execution_count": null,
      "outputs": []
    },
    {
      "cell_type": "code",
      "metadata": {
        "id": "25ubox8eVKmc"
      },
      "source": [
        "# Imports do notebook v2\n",
        "import os\n",
        "import zipfile\n",
        "from google.colab import files\n",
        "from tqdm import tqdm\n",
        "import cv2\n",
        "from sklearn.utils import shuffle\n",
        "from sklearn.model_selection import train_test_split\n",
        "# Imports do curso\n",
        "import tensorflow\n",
        "from tensorflow import keras\n",
        "import matplotlib.pyplot as plt\n",
        "from tensorflow.keras.models import load_model\n",
        "import numpy as np"
      ],
      "execution_count": 18,
      "outputs": []
    },
    {
      "cell_type": "code",
      "metadata": {
        "colab": {
          "base_uri": "https://localhost:8080/"
        },
        "id": "Pw_VZIdeZ1kt",
        "outputId": "14d739d2-1f69-4dee-c0e6-e4828f65971d"
      },
      "source": [
        "print(tensorflow.__version__)"
      ],
      "execution_count": 2,
      "outputs": [
        {
          "output_type": "stream",
          "text": [
            "2.5.0\n"
          ],
          "name": "stdout"
        }
      ]
    },
    {
      "cell_type": "markdown",
      "metadata": {
        "id": "q3S2eAOkq3lu"
      },
      "source": [
        "### Upload dos dados a partir de um arquivo .zip"
      ]
    },
    {
      "cell_type": "code",
      "metadata": {
        "colab": {
          "resources": {
            "http://localhost:8080/nbextensions/google.colab/files.js": {
              "data": "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",
              "ok": true,
              "headers": [
                [
                  "content-type",
                  "application/javascript"
                ]
              ],
              "status": 200,
              "status_text": ""
            }
          },
          "base_uri": "https://localhost:8080/",
          "height": 72
        },
        "id": "DBHlS9oVq22y",
        "outputId": "73f10031-6d8b-4666-e5d7-cce9ae73f7d0"
      },
      "source": [
        "uploaded = files.upload()"
      ],
      "execution_count": 3,
      "outputs": [
        {
          "output_type": "display_data",
          "data": {
            "text/html": [
              "\n",
              "     <input type=\"file\" id=\"files-49475114-16af-422d-be9b-d8423c77c996\" name=\"files[]\" multiple disabled\n",
              "        style=\"border:none\" />\n",
              "     <output id=\"result-49475114-16af-422d-be9b-d8423c77c996\">\n",
              "      Upload widget is only available when the cell has been executed in the\n",
              "      current browser session. Please rerun this cell to enable.\n",
              "      </output>\n",
              "      <script src=\"/nbextensions/google.colab/files.js\"></script> "
            ],
            "text/plain": [
              "<IPython.core.display.HTML object>"
            ]
          },
          "metadata": {
            "tags": []
          }
        },
        {
          "output_type": "stream",
          "text": [
            "Saving blood_input_as_zip.zip to blood_input_as_zip.zip\n"
          ],
          "name": "stdout"
        }
      ]
    },
    {
      "cell_type": "code",
      "metadata": {
        "id": "3kYi6GbFrJDr"
      },
      "source": [
        "local_zip = '/content/blood_input_as_zip.zip' # Caminho referente ao local onde os dados são armazenados quando é feito o upload manualmente\n",
        "zip_ref = zipfile.ZipFile(local_zip, 'r')\n",
        "zip_ref.extractall()\n",
        "\n",
        "class_names = ['eosinofilo', 'linfocito', 'monocito', 'neutrofilo']\n",
        "nb_classes = len(class_names)\n",
        "image_size = (150,150)"
      ],
      "execution_count": 4,
      "outputs": []
    },
    {
      "cell_type": "code",
      "metadata": {
        "colab": {
          "base_uri": "https://localhost:8080/"
        },
        "id": "Kaiu7zCErJAx",
        "outputId": "9804c7c5-fed7-4b96-80dc-b7fec65dc8b0"
      },
      "source": [
        "# Lendo dados descompactados a partir dos subdiretórios baixados\n",
        "\n",
        "# Diretorio com imagens de treino de eosinofilo\n",
        "train1 = os.path.join('/content/blood_input_as_zip/train/eosinofilo')\n",
        "# Diretorio com imagens de validação de eosinofilo \n",
        "valid1 = os.path.join('/content/blood_input_as_zip/valid/eosinofilo')\n",
        "# Diretorio com imagens de teste de eosinofilo \n",
        "test1 = os.path.join('/content/blood_input_as_zip/test/eosinofilo')\n",
        "\n",
        "# Diretorio com imagens de treino de linfocito\n",
        "train2 = os.path.join('/content/blood_input_as_zip/train/linfocito')\n",
        "# Diretorio com imagens de validação de linfocito \n",
        "valid2 = os.path.join('/content/blood_input_as_zip/valid/linfocito')\n",
        "# Diretorio com imagens de teste de linfocito \n",
        "test2 = os.path.join('/content/blood_input_as_zip/test/linfocito')\n",
        "\n",
        "# Diretorio com imagens de treino de monocito\n",
        "train3 = os.path.join('/content/blood_input_as_zip/train/monocito')\n",
        "# Diretorio com imagens de validação de monocito \n",
        "valid3 = os.path.join('/content/blood_input_as_zip/valid/monocito')\n",
        "# Diretorio com imagens de teste de monocito \n",
        "test3 = os.path.join('/content/blood_input_as_zip/test/monocito')\n",
        "\n",
        "# Diretorio com imagens de treino de neutrofilo\n",
        "train4 = os.path.join('/content/blood_input_as_zip/train/neutrofilo')\n",
        "# Diretorio com imagens de validação de neutrofilo \n",
        "valid4 = os.path.join('/content/blood_input_as_zip/valid/neutrofilo')\n",
        "# Diretorio com imagens de teste de neutrofilo \n",
        "test4 = os.path.join('/content/blood_input_as_zip/test/neutrofilo')\n",
        "\n",
        "\n",
        "print('total train eosinofilo:', len(os.listdir(train1)))\n",
        "print('total valid eosinofilo:', len(os.listdir(valid1)))\n",
        "print('total test eosinofilo:', len(os.listdir(test1)))\n",
        "\n",
        "\n",
        "print('total train linfocito:', len(os.listdir(train2)))\n",
        "print('total valid linfocito:', len(os.listdir(valid2)))\n",
        "print('total test linfocito:', len(os.listdir(test2)))\n",
        "\n",
        "print('total train monocito:', len(os.listdir(train3)))\n",
        "print('total valid monocito:', len(os.listdir(valid3)))\n",
        "print('total test monocito:', len(os.listdir(test3)))\n",
        "\n",
        "print('total train neutrofilo:', len(os.listdir(train4)))\n",
        "print('total valid neutrofilo:', len(os.listdir(valid4)))\n",
        "print('total test neutrofilo:', len(os.listdir(test4)))"
      ],
      "execution_count": 5,
      "outputs": [
        {
          "output_type": "stream",
          "text": [
            "total train eosinofilo: 455\n",
            "total valid eosinofilo: 114\n",
            "total test eosinofilo: 143\n",
            "total train linfocito: 168\n",
            "total valid linfocito: 43\n",
            "total test linfocito: 53\n",
            "total train monocito: 102\n",
            "total valid monocito: 26\n",
            "total test monocito: 32\n",
            "total train neutrofilo: 1059\n",
            "total valid neutrofilo: 265\n",
            "total test neutrofilo: 332\n"
          ],
          "name": "stdout"
        }
      ]
    },
    {
      "cell_type": "markdown",
      "metadata": {
        "id": "mv5dvYIRrVHU"
      },
      "source": [
        "### Normalização e Input dos dados"
      ]
    },
    {
      "cell_type": "code",
      "metadata": {
        "id": "HszxSKyZrI9r"
      },
      "source": [
        "# Função que lê as imagens e retorna-as em 2 arrays: images e labels\n",
        "def loadDataset():\n",
        "    datasets = ['/content/blood_input_as_zip/train/','/content/blood_input_as_zip/valid/', '/content/blood_input_as_zip/test/' ]\n",
        "    images = []\n",
        "    labels = []\n",
        "    image_size = (150,150)\n",
        "    # iterar nos datasets de treino e validação\n",
        "    for dataset in datasets:\n",
        "        # iterar nas subpastas dos datasets\n",
        "        for folder in os.listdir(dataset):\n",
        "            if   folder in ['eosinofilo']: label = 0\n",
        "            elif folder in ['linfocito']:  label = 1\n",
        "            elif folder in ['monocito']:   label = 2\n",
        "            elif folder in ['neutrofilo']: label = 3\n",
        "            # iterar em cada imagem dos datasets\n",
        "            for file in tqdm(os.listdir(os.path.join(dataset, folder))):\n",
        "                # pegar caminho de cada imagem\n",
        "                img_path = os.path.join(os.path.join(dataset, folder), file)\n",
        "                # abrir e redimensionar cada imagem\n",
        "                image = cv2.imread(img_path)\n",
        "                image = cv2.cvtColor(image, cv2.COLOR_BGR2RGB)\n",
        "                image = cv2.resize(image, image_size)\n",
        "                # adicionar a imagem e seu label correspondente  à saída\n",
        "                images.append(image)\n",
        "                labels.append(label)\n",
        "    # Criar arrays com as saídas (imagens e labels)\n",
        "    images = np.array(images, dtype = 'float32')\n",
        "    labels = np.array(labels, dtype = 'int32')\n",
        "    return images, labels"
      ],
      "execution_count": 11,
      "outputs": []
    },
    {
      "cell_type": "code",
      "metadata": {
        "colab": {
          "base_uri": "https://localhost:8080/"
        },
        "id": "_QZxUFSUra5a",
        "outputId": "593eaff0-c607-4180-cdce-7d3dd5039fc3"
      },
      "source": [
        "# Combinar todas as imagens originais em um único dataset\n",
        "images, labels = loadDataset()"
      ],
      "execution_count": 14,
      "outputs": [
        {
          "output_type": "stream",
          "text": [
            "100%|██████████| 168/168 [00:00<00:00, 238.62it/s]\n",
            "100%|██████████| 455/455 [00:02<00:00, 222.81it/s]\n",
            "100%|██████████| 102/102 [00:00<00:00, 216.28it/s]\n",
            "100%|██████████| 1059/1059 [00:04<00:00, 226.22it/s]\n",
            "100%|██████████| 43/43 [00:00<00:00, 230.73it/s]\n",
            "100%|██████████| 114/114 [00:00<00:00, 238.62it/s]\n",
            "100%|██████████| 26/26 [00:00<00:00, 239.05it/s]\n",
            "100%|██████████| 265/265 [00:01<00:00, 235.39it/s]\n",
            "100%|██████████| 53/53 [00:00<00:00, 239.95it/s]\n",
            "100%|██████████| 143/143 [00:00<00:00, 247.31it/s]\n",
            "100%|██████████| 32/32 [00:00<00:00, 242.56it/s]\n",
            "100%|██████████| 332/332 [00:01<00:00, 243.06it/s]\n"
          ],
          "name": "stderr"
        }
      ]
    },
    {
      "cell_type": "code",
      "metadata": {
        "id": "5_aGuXuWr6SC"
      },
      "source": [
        "# Embaralhar os dados e separar novos conjuntos de  treinamento (80%), validação (10%) e teste (10%)\n",
        "images, labels = shuffle(images, labels, random_state=10)\n",
        "train_images, test_images, train_labels, test_labels = train_test_split(images, labels, test_size = 0.2)\n",
        "test_images, val_images, test_labels, val_labels = train_test_split(test_images, test_labels, test_size = 0.5)"
      ],
      "execution_count": 19,
      "outputs": []
    },
    {
      "cell_type": "code",
      "metadata": {
        "colab": {
          "base_uri": "https://localhost:8080/"
        },
        "id": "bt2uwPBUx1oi",
        "outputId": "7d2080a4-895c-4a93-9238-f5d5c547fbd8"
      },
      "source": [
        "n_train = train_labels.shape[0]\n",
        "n_val = val_labels.shape[0]\n",
        "n_test = test_labels.shape[0]\n",
        "\n",
        "print(\"Quantidade de imagens para treinamento: {}\".format(n_train))\n",
        "print(\"Quantidade de imagens para validação: {}\".format(n_val))\n",
        "print(\"Quantidade de imagens para teste: {}\".format(n_test))"
      ],
      "execution_count": 25,
      "outputs": [
        {
          "output_type": "stream",
          "text": [
            "Quantidade de imagens para treinamento: 2233\n",
            "Quantidade de imagens para validação: 280\n",
            "Quantidade de imagens para teste: 279\n"
          ],
          "name": "stdout"
        }
      ]
    },
    {
      "cell_type": "code",
      "metadata": {
        "id": "CJev7cnMV6u-"
      },
      "source": [
        ""
      ],
      "execution_count": null,
      "outputs": []
    },
    {
      "cell_type": "code",
      "metadata": {
        "colab": {
          "base_uri": "https://localhost:8080/"
        },
        "id": "p5q82_JXV6s3",
        "outputId": "a5b57756-6e29-40c5-d128-a49ba5e8baff"
      },
      "source": [
        "# Exploração dos dados\n",
        "print(len(imagens_treino))\n",
        "#imagens_treino.shape\n",
        "#imagens_teste.shape\n",
        "#len(identificacoes_teste)\n",
        "# identificacoes_treino.min()\n",
        "identificacoes_treino.max()"
      ],
      "execution_count": null,
      "outputs": [
        {
          "output_type": "stream",
          "text": [
            "60000\n"
          ],
          "name": "stdout"
        },
        {
          "output_type": "execute_result",
          "data": {
            "text/plain": [
              "9"
            ]
          },
          "metadata": {
            "tags": []
          },
          "execution_count": 5
        }
      ]
    },
    {
      "cell_type": "markdown",
      "metadata": {
        "id": "Y5Gl1KMRcn5b"
      },
      "source": [
        "### Modelo - Curso Alura"
      ]
    },
    {
      "cell_type": "code",
      "metadata": {
        "id": "YKY2MWxxcpgA",
        "colab": {
          "base_uri": "https://localhost:8080/"
        },
        "outputId": "8a146bd8-e1e2-4712-b8bc-56f0edcb9291"
      },
      "source": [
        "# Normalização\n",
        "train_images = train_images / 255.0 \n",
        "# Criação do modelo\n",
        "modelo = keras.Sequential([ \n",
        "    keras.layers.Flatten(input_shape=(150, 150, 3)),\n",
        "    keras.layers.Dense(256, activation=tensorflow.nn.relu),\n",
        "    keras.layers.Dropout(0.2), # \"Adormecendo\" 20% dos dados, um tipo de normalização\n",
        "    keras.layers.Dense(128, activation=tensorflow.nn.relu), # Add nova camada intermerdiária 2º teste\n",
        "    keras.layers.Dropout(0.2), # \"Adormecendo\" 20% dos dados, um tipo de normalização\n",
        "    keras.layers.Dense(64, activation=tensorflow.nn.relu),\n",
        "    keras.layers.Dropout(0.2), # \"Adormecendo\" 20% dos dados, um tipo de normalização\n",
        "    keras.layers.Dense(10, activation=tensorflow.nn.softmax),\n",
        "    keras.layers.Dropout(0.2) # \"Adormecendo\" 20% dos dados, um tipo de normalização\n",
        "])\n",
        "\n",
        "# Compilando o modelo\n",
        "modelo.compile(optimizer = 'adam',\n",
        "               loss = 'sparse_categorical_crossentropy',\n",
        "               metrics = ['accuracy'])\n",
        "\n",
        "# Treinando o modelo\n",
        "historico = modelo.fit(train_images, train_labels, epochs=100, validation_split = 0.2) #validation_split = 0.2 20% pra teste"
      ],
      "execution_count": 31,
      "outputs": [
        {
          "output_type": "stream",
          "text": [
            "Epoch 1/100\n",
            "56/56 [==============================] - 1s 14ms/step - loss: 4.4932 - accuracy: 0.5129 - val_loss: 1.5444 - val_accuracy: 0.5705\n",
            "Epoch 2/100\n",
            "56/56 [==============================] - 1s 10ms/step - loss: 3.7887 - accuracy: 0.5224 - val_loss: 1.1509 - val_accuracy: 0.5705\n",
            "Epoch 3/100\n",
            "56/56 [==============================] - 1s 10ms/step - loss: 3.7839 - accuracy: 0.5246 - val_loss: 1.3154 - val_accuracy: 0.5705\n",
            "Epoch 4/100\n",
            "56/56 [==============================] - 1s 10ms/step - loss: 4.0238 - accuracy: 0.5039 - val_loss: 1.2614 - val_accuracy: 0.5705\n",
            "Epoch 5/100\n",
            "56/56 [==============================] - 1s 10ms/step - loss: 3.9475 - accuracy: 0.5213 - val_loss: 1.3150 - val_accuracy: 0.5705\n",
            "Epoch 6/100\n",
            "56/56 [==============================] - 1s 10ms/step - loss: 3.6992 - accuracy: 0.5207 - val_loss: 1.2517 - val_accuracy: 0.5705\n",
            "Epoch 7/100\n",
            "56/56 [==============================] - 1s 10ms/step - loss: 3.8227 - accuracy: 0.5134 - val_loss: 1.1820 - val_accuracy: 0.5705\n",
            "Epoch 8/100\n",
            "56/56 [==============================] - 1s 10ms/step - loss: 3.8545 - accuracy: 0.5084 - val_loss: 1.1757 - val_accuracy: 0.5705\n",
            "Epoch 9/100\n",
            "56/56 [==============================] - 1s 10ms/step - loss: 3.8962 - accuracy: 0.5168 - val_loss: 1.3074 - val_accuracy: 0.5705\n",
            "Epoch 10/100\n",
            "56/56 [==============================] - 1s 10ms/step - loss: 3.7006 - accuracy: 0.5196 - val_loss: 1.1420 - val_accuracy: 0.5705\n",
            "Epoch 11/100\n",
            "56/56 [==============================] - 1s 11ms/step - loss: 4.0478 - accuracy: 0.5129 - val_loss: 1.2699 - val_accuracy: 0.5705\n",
            "Epoch 12/100\n",
            "56/56 [==============================] - 1s 10ms/step - loss: 3.6257 - accuracy: 0.5286 - val_loss: 1.1327 - val_accuracy: 0.5705\n",
            "Epoch 13/100\n",
            "56/56 [==============================] - 1s 10ms/step - loss: 3.9959 - accuracy: 0.5090 - val_loss: 1.2109 - val_accuracy: 0.5705\n",
            "Epoch 14/100\n",
            "56/56 [==============================] - 1s 10ms/step - loss: 3.5655 - accuracy: 0.5302 - val_loss: 1.1620 - val_accuracy: 0.5705\n",
            "Epoch 15/100\n",
            "56/56 [==============================] - 1s 10ms/step - loss: 3.9635 - accuracy: 0.5140 - val_loss: 1.2751 - val_accuracy: 0.5705\n",
            "Epoch 16/100\n",
            "56/56 [==============================] - 1s 10ms/step - loss: 3.8488 - accuracy: 0.5190 - val_loss: 1.1770 - val_accuracy: 0.5705\n",
            "Epoch 17/100\n",
            "56/56 [==============================] - 1s 10ms/step - loss: 3.7777 - accuracy: 0.5157 - val_loss: 1.1272 - val_accuracy: 0.5705\n",
            "Epoch 18/100\n",
            "56/56 [==============================] - 1s 10ms/step - loss: 3.8849 - accuracy: 0.5274 - val_loss: 1.1818 - val_accuracy: 0.5705\n",
            "Epoch 19/100\n",
            "56/56 [==============================] - 1s 10ms/step - loss: 3.9450 - accuracy: 0.5112 - val_loss: 1.1990 - val_accuracy: 0.5705\n",
            "Epoch 20/100\n",
            "56/56 [==============================] - 1s 10ms/step - loss: 3.8440 - accuracy: 0.5190 - val_loss: 1.1837 - val_accuracy: 0.5705\n",
            "Epoch 21/100\n",
            "56/56 [==============================] - 1s 10ms/step - loss: 3.7658 - accuracy: 0.5252 - val_loss: 1.2580 - val_accuracy: 0.5705\n",
            "Epoch 22/100\n",
            "56/56 [==============================] - 1s 10ms/step - loss: 3.9432 - accuracy: 0.5185 - val_loss: 1.1865 - val_accuracy: 0.5705\n",
            "Epoch 23/100\n",
            "56/56 [==============================] - 1s 10ms/step - loss: 3.5351 - accuracy: 0.5437 - val_loss: 1.1730 - val_accuracy: 0.5705\n",
            "Epoch 24/100\n",
            "56/56 [==============================] - 1s 10ms/step - loss: 3.9252 - accuracy: 0.5056 - val_loss: 1.2411 - val_accuracy: 0.5705\n",
            "Epoch 25/100\n",
            "56/56 [==============================] - 1s 10ms/step - loss: 3.7213 - accuracy: 0.5224 - val_loss: 1.2071 - val_accuracy: 0.5705\n",
            "Epoch 26/100\n",
            "56/56 [==============================] - 1s 10ms/step - loss: 3.6596 - accuracy: 0.5252 - val_loss: 1.1397 - val_accuracy: 0.5705\n",
            "Epoch 27/100\n",
            "56/56 [==============================] - 1s 10ms/step - loss: 3.7721 - accuracy: 0.5235 - val_loss: 1.2303 - val_accuracy: 0.5705\n",
            "Epoch 28/100\n",
            "56/56 [==============================] - 1s 10ms/step - loss: 3.8133 - accuracy: 0.5235 - val_loss: 1.1473 - val_accuracy: 0.5705\n",
            "Epoch 29/100\n",
            "56/56 [==============================] - 1s 10ms/step - loss: 3.7590 - accuracy: 0.5252 - val_loss: 1.1878 - val_accuracy: 0.5705\n",
            "Epoch 30/100\n",
            "56/56 [==============================] - 1s 10ms/step - loss: 3.5518 - accuracy: 0.5330 - val_loss: 1.1646 - val_accuracy: 0.5705\n",
            "Epoch 31/100\n",
            "56/56 [==============================] - 1s 10ms/step - loss: 3.7902 - accuracy: 0.5134 - val_loss: 1.1543 - val_accuracy: 0.5705\n",
            "Epoch 32/100\n",
            "56/56 [==============================] - 1s 10ms/step - loss: 3.9355 - accuracy: 0.5190 - val_loss: 1.2305 - val_accuracy: 0.5705\n",
            "Epoch 33/100\n",
            "56/56 [==============================] - 1s 11ms/step - loss: 3.4962 - accuracy: 0.5420 - val_loss: 1.1019 - val_accuracy: 0.5705\n",
            "Epoch 34/100\n",
            "56/56 [==============================] - 1s 10ms/step - loss: 3.7808 - accuracy: 0.5106 - val_loss: 1.1261 - val_accuracy: 0.5705\n",
            "Epoch 35/100\n",
            "56/56 [==============================] - 1s 10ms/step - loss: 4.0660 - accuracy: 0.5095 - val_loss: 1.1643 - val_accuracy: 0.5705\n",
            "Epoch 36/100\n",
            "56/56 [==============================] - 1s 10ms/step - loss: 3.9550 - accuracy: 0.5151 - val_loss: 1.2630 - val_accuracy: 0.5705\n",
            "Epoch 37/100\n",
            "56/56 [==============================] - 1s 10ms/step - loss: 3.5678 - accuracy: 0.5263 - val_loss: 1.1479 - val_accuracy: 0.5705\n",
            "Epoch 38/100\n",
            "56/56 [==============================] - 1s 10ms/step - loss: 3.7333 - accuracy: 0.5235 - val_loss: 1.1625 - val_accuracy: 0.5705\n",
            "Epoch 39/100\n",
            "56/56 [==============================] - 1s 10ms/step - loss: 3.6585 - accuracy: 0.5146 - val_loss: 1.1423 - val_accuracy: 0.5705\n",
            "Epoch 40/100\n",
            "56/56 [==============================] - 1s 10ms/step - loss: 3.7281 - accuracy: 0.5213 - val_loss: 1.1753 - val_accuracy: 0.5705\n",
            "Epoch 41/100\n",
            "56/56 [==============================] - 1s 10ms/step - loss: 3.5247 - accuracy: 0.5358 - val_loss: 1.1591 - val_accuracy: 0.5705\n",
            "Epoch 42/100\n",
            "56/56 [==============================] - 1s 10ms/step - loss: 3.7363 - accuracy: 0.5196 - val_loss: 1.1236 - val_accuracy: 0.5705\n",
            "Epoch 43/100\n",
            "56/56 [==============================] - 1s 10ms/step - loss: 3.5105 - accuracy: 0.5246 - val_loss: 1.1084 - val_accuracy: 0.5705\n",
            "Epoch 44/100\n",
            "56/56 [==============================] - 1s 10ms/step - loss: 3.7872 - accuracy: 0.5185 - val_loss: 1.1784 - val_accuracy: 0.5705\n",
            "Epoch 45/100\n",
            "56/56 [==============================] - 1s 10ms/step - loss: 3.9190 - accuracy: 0.5179 - val_loss: 1.2418 - val_accuracy: 0.5705\n",
            "Epoch 46/100\n",
            "56/56 [==============================] - 1s 11ms/step - loss: 3.5741 - accuracy: 0.5258 - val_loss: 1.1432 - val_accuracy: 0.5705\n",
            "Epoch 47/100\n",
            "56/56 [==============================] - 1s 10ms/step - loss: 3.6232 - accuracy: 0.5297 - val_loss: 1.1504 - val_accuracy: 0.5705\n",
            "Epoch 48/100\n",
            "56/56 [==============================] - 1s 10ms/step - loss: 3.6882 - accuracy: 0.5202 - val_loss: 1.1954 - val_accuracy: 0.5705\n",
            "Epoch 49/100\n",
            "56/56 [==============================] - 1s 10ms/step - loss: 3.8888 - accuracy: 0.5174 - val_loss: 1.1946 - val_accuracy: 0.5705\n",
            "Epoch 50/100\n",
            "56/56 [==============================] - 1s 10ms/step - loss: 3.5441 - accuracy: 0.5286 - val_loss: 1.2736 - val_accuracy: 0.5705\n",
            "Epoch 51/100\n",
            "56/56 [==============================] - 1s 10ms/step - loss: 3.9230 - accuracy: 0.5235 - val_loss: 1.1204 - val_accuracy: 0.5705\n",
            "Epoch 52/100\n",
            "56/56 [==============================] - 1s 10ms/step - loss: 3.4768 - accuracy: 0.5314 - val_loss: 1.0977 - val_accuracy: 0.5705\n",
            "Epoch 53/100\n",
            "56/56 [==============================] - 1s 11ms/step - loss: 3.6804 - accuracy: 0.5157 - val_loss: 1.1277 - val_accuracy: 0.5705\n",
            "Epoch 54/100\n",
            "56/56 [==============================] - 1s 10ms/step - loss: 3.5484 - accuracy: 0.5325 - val_loss: 1.1246 - val_accuracy: 0.5705\n",
            "Epoch 55/100\n",
            "56/56 [==============================] - 1s 10ms/step - loss: 3.6203 - accuracy: 0.5319 - val_loss: 1.1837 - val_accuracy: 0.5705\n",
            "Epoch 56/100\n",
            "56/56 [==============================] - 1s 10ms/step - loss: 3.8456 - accuracy: 0.5118 - val_loss: 1.1632 - val_accuracy: 0.5705\n",
            "Epoch 57/100\n",
            "56/56 [==============================] - 1s 11ms/step - loss: 3.6322 - accuracy: 0.5330 - val_loss: 1.2118 - val_accuracy: 0.5705\n",
            "Epoch 58/100\n",
            "56/56 [==============================] - 1s 11ms/step - loss: 3.7948 - accuracy: 0.5146 - val_loss: 1.1485 - val_accuracy: 0.5705\n",
            "Epoch 59/100\n",
            "56/56 [==============================] - 1s 10ms/step - loss: 3.7892 - accuracy: 0.5146 - val_loss: 1.1967 - val_accuracy: 0.5705\n",
            "Epoch 60/100\n",
            "56/56 [==============================] - 1s 10ms/step - loss: 3.7719 - accuracy: 0.5146 - val_loss: 1.1458 - val_accuracy: 0.5705\n",
            "Epoch 61/100\n",
            "56/56 [==============================] - 1s 10ms/step - loss: 3.6902 - accuracy: 0.5151 - val_loss: 1.1629 - val_accuracy: 0.5705\n",
            "Epoch 62/100\n",
            "56/56 [==============================] - 1s 10ms/step - loss: 3.8259 - accuracy: 0.5095 - val_loss: 1.1617 - val_accuracy: 0.5705\n",
            "Epoch 63/100\n",
            "56/56 [==============================] - 1s 10ms/step - loss: 3.8137 - accuracy: 0.5095 - val_loss: 1.1316 - val_accuracy: 0.5705\n",
            "Epoch 64/100\n",
            "56/56 [==============================] - 1s 10ms/step - loss: 3.6902 - accuracy: 0.5459 - val_loss: 1.1455 - val_accuracy: 0.5705\n",
            "Epoch 65/100\n",
            "56/56 [==============================] - 1s 10ms/step - loss: 3.8424 - accuracy: 0.5258 - val_loss: 1.1745 - val_accuracy: 0.5705\n",
            "Epoch 66/100\n",
            "56/56 [==============================] - 1s 10ms/step - loss: 3.6796 - accuracy: 0.5162 - val_loss: 1.2261 - val_accuracy: 0.5705\n",
            "Epoch 67/100\n",
            "56/56 [==============================] - 1s 10ms/step - loss: 3.5390 - accuracy: 0.5353 - val_loss: 1.1701 - val_accuracy: 0.5705\n",
            "Epoch 68/100\n",
            "56/56 [==============================] - 1s 10ms/step - loss: 3.6215 - accuracy: 0.5218 - val_loss: 1.1616 - val_accuracy: 0.5705\n",
            "Epoch 69/100\n",
            "56/56 [==============================] - 1s 10ms/step - loss: 3.7861 - accuracy: 0.5246 - val_loss: 1.1847 - val_accuracy: 0.5705\n",
            "Epoch 70/100\n",
            "56/56 [==============================] - 1s 10ms/step - loss: 3.8057 - accuracy: 0.5118 - val_loss: 1.1925 - val_accuracy: 0.5705\n",
            "Epoch 71/100\n",
            "56/56 [==============================] - 1s 11ms/step - loss: 3.6308 - accuracy: 0.5347 - val_loss: 1.1379 - val_accuracy: 0.5705\n",
            "Epoch 72/100\n",
            "56/56 [==============================] - 1s 11ms/step - loss: 4.2044 - accuracy: 0.4966 - val_loss: 1.2222 - val_accuracy: 0.5705\n",
            "Epoch 73/100\n",
            "56/56 [==============================] - 1s 11ms/step - loss: 3.7682 - accuracy: 0.5246 - val_loss: 1.1443 - val_accuracy: 0.5705\n",
            "Epoch 74/100\n",
            "56/56 [==============================] - 1s 11ms/step - loss: 3.8786 - accuracy: 0.5230 - val_loss: 1.1774 - val_accuracy: 0.5705\n",
            "Epoch 75/100\n",
            "56/56 [==============================] - 1s 10ms/step - loss: 3.8589 - accuracy: 0.5202 - val_loss: 1.1110 - val_accuracy: 0.5705\n",
            "Epoch 76/100\n",
            "56/56 [==============================] - 1s 10ms/step - loss: 3.7102 - accuracy: 0.5202 - val_loss: 1.1107 - val_accuracy: 0.5705\n",
            "Epoch 77/100\n",
            "56/56 [==============================] - 1s 10ms/step - loss: 3.7817 - accuracy: 0.5280 - val_loss: 1.1531 - val_accuracy: 0.5705\n",
            "Epoch 78/100\n",
            "56/56 [==============================] - 1s 10ms/step - loss: 3.8365 - accuracy: 0.5050 - val_loss: 1.1720 - val_accuracy: 0.5705\n",
            "Epoch 79/100\n",
            "56/56 [==============================] - 1s 10ms/step - loss: 3.6864 - accuracy: 0.5235 - val_loss: 1.1468 - val_accuracy: 0.5705\n",
            "Epoch 80/100\n",
            "56/56 [==============================] - 1s 10ms/step - loss: 3.8803 - accuracy: 0.5140 - val_loss: 1.1690 - val_accuracy: 0.5705\n",
            "Epoch 81/100\n",
            "56/56 [==============================] - 1s 10ms/step - loss: 3.9871 - accuracy: 0.5118 - val_loss: 1.2183 - val_accuracy: 0.5705\n",
            "Epoch 82/100\n",
            "56/56 [==============================] - 1s 11ms/step - loss: 3.5825 - accuracy: 0.5263 - val_loss: 1.1377 - val_accuracy: 0.5705\n",
            "Epoch 83/100\n",
            "56/56 [==============================] - 1s 10ms/step - loss: 3.8995 - accuracy: 0.5157 - val_loss: 1.1260 - val_accuracy: 0.5705\n",
            "Epoch 84/100\n",
            "56/56 [==============================] - 1s 10ms/step - loss: 3.8790 - accuracy: 0.5050 - val_loss: 1.2027 - val_accuracy: 0.5705\n",
            "Epoch 85/100\n",
            "56/56 [==============================] - 1s 10ms/step - loss: 3.6814 - accuracy: 0.5235 - val_loss: 1.1254 - val_accuracy: 0.5705\n",
            "Epoch 86/100\n",
            "56/56 [==============================] - 1s 10ms/step - loss: 3.6541 - accuracy: 0.5179 - val_loss: 1.1234 - val_accuracy: 0.5705\n",
            "Epoch 87/100\n",
            "56/56 [==============================] - 1s 10ms/step - loss: 3.9425 - accuracy: 0.5084 - val_loss: 1.2790 - val_accuracy: 0.5705\n",
            "Epoch 88/100\n",
            "56/56 [==============================] - 1s 10ms/step - loss: 3.4152 - accuracy: 0.5246 - val_loss: 1.1454 - val_accuracy: 0.5705\n",
            "Epoch 89/100\n",
            "56/56 [==============================] - 1s 11ms/step - loss: 3.9168 - accuracy: 0.5062 - val_loss: 1.1900 - val_accuracy: 0.5705\n",
            "Epoch 90/100\n",
            "56/56 [==============================] - 1s 10ms/step - loss: 3.5906 - accuracy: 0.5336 - val_loss: 1.1321 - val_accuracy: 0.5705\n",
            "Epoch 91/100\n",
            "56/56 [==============================] - 1s 11ms/step - loss: 3.8326 - accuracy: 0.5106 - val_loss: 1.1538 - val_accuracy: 0.5705\n",
            "Epoch 92/100\n",
            "56/56 [==============================] - 1s 10ms/step - loss: 3.5593 - accuracy: 0.5263 - val_loss: 1.1388 - val_accuracy: 0.5705\n",
            "Epoch 93/100\n",
            "56/56 [==============================] - 1s 11ms/step - loss: 3.7461 - accuracy: 0.5196 - val_loss: 1.1305 - val_accuracy: 0.5705\n",
            "Epoch 94/100\n",
            "56/56 [==============================] - 1s 10ms/step - loss: 3.8333 - accuracy: 0.5112 - val_loss: 1.1254 - val_accuracy: 0.5705\n",
            "Epoch 95/100\n",
            "56/56 [==============================] - 1s 10ms/step - loss: 3.8018 - accuracy: 0.5224 - val_loss: 1.1704 - val_accuracy: 0.5705\n",
            "Epoch 96/100\n",
            "56/56 [==============================] - 1s 10ms/step - loss: 3.7297 - accuracy: 0.5280 - val_loss: 1.1752 - val_accuracy: 0.5705\n",
            "Epoch 97/100\n",
            "56/56 [==============================] - 1s 10ms/step - loss: 3.7427 - accuracy: 0.5258 - val_loss: 1.1542 - val_accuracy: 0.5705\n",
            "Epoch 98/100\n",
            "56/56 [==============================] - 1s 11ms/step - loss: 3.6271 - accuracy: 0.5286 - val_loss: 1.1605 - val_accuracy: 0.5705\n",
            "Epoch 99/100\n",
            "56/56 [==============================] - 1s 10ms/step - loss: 3.6767 - accuracy: 0.5207 - val_loss: 1.1283 - val_accuracy: 0.5705\n",
            "Epoch 100/100\n",
            "56/56 [==============================] - 1s 10ms/step - loss: 3.5358 - accuracy: 0.5319 - val_loss: 1.1295 - val_accuracy: 0.5705\n"
          ],
          "name": "stdout"
        }
      ]
    },
    {
      "cell_type": "markdown",
      "metadata": {
        "id": "b86-q5KTeGO3"
      },
      "source": [
        "### Salvando e carregando o modelo"
      ]
    },
    {
      "cell_type": "code",
      "metadata": {
        "id": "pMwkGSJBfBq5"
      },
      "source": [
        "modelo.save(\"modelo.h5\")\n",
        "modelo_salvo = load_model(\"modelo.h5\")"
      ],
      "execution_count": null,
      "outputs": []
    },
    {
      "cell_type": "markdown",
      "metadata": {
        "id": "hT2v2QoSbhHT"
      },
      "source": [
        "### Gráficos de acurácia e validação por época"
      ]
    },
    {
      "cell_type": "code",
      "metadata": {
        "id": "1vfTpiyblBS3"
      },
      "source": [
        "historico"
      ],
      "execution_count": null,
      "outputs": []
    },
    {
      "cell_type": "code",
      "metadata": {
        "id": "yEm1ZcFLlN8J"
      },
      "source": [
        "historico.history"
      ],
      "execution_count": null,
      "outputs": []
    },
    {
      "cell_type": "code",
      "metadata": {
        "id": "8PfGSXD0aqjS"
      },
      "source": [
        "historico.history['accuracy']"
      ],
      "execution_count": null,
      "outputs": []
    },
    {
      "cell_type": "code",
      "metadata": {
        "colab": {
          "base_uri": "https://localhost:8080/",
          "height": 312
        },
        "id": "aHv5jhEAa3Oj",
        "outputId": "74e208f9-a717-4581-d2a2-4b2747b1d73b"
      },
      "source": [
        "# Gráfico comparativo train x valid\n",
        "plt.plot(historico.history['accuracy'])\n",
        "plt.plot(historico.history['val_accuracy'])\n",
        "plt.title('Acurácia por épocas')\n",
        "plt.xlabel('epochs')\n",
        "plt.ylabel('accuracy')\n",
        "plt.legend(['treino','validação'])"
      ],
      "execution_count": 32,
      "outputs": [
        {
          "output_type": "execute_result",
          "data": {
            "text/plain": [
              "<matplotlib.legend.Legend at 0x7fbb2a6cae10>"
            ]
          },
          "metadata": {
            "tags": []
          },
          "execution_count": 32
        },
        {
          "output_type": "display_data",
          "data": {
            "image/png": "[encoded data removed]",
            "text/plain": [
              "<Figure size 432x288 with 1 Axes>"
            ]
          },
          "metadata": {
            "tags": [],
            "needs_background": "light"
          }
        }
      ]
    },
    {
      "cell_type": "markdown",
      "metadata": {
        "id": "-xpYqc-FmQ6a"
      },
      "source": [
        "### Gráficos de perda e validação por época"
      ]
    },
    {
      "cell_type": "code",
      "metadata": {
        "colab": {
          "base_uri": "https://localhost:8080/",
          "height": 312
        },
        "id": "v1k2PpgWbzGn",
        "outputId": "7c102824-0f0c-4d56-c9e8-cf28cf3c4eb4"
      },
      "source": [
        "# Gráfico da perda\n",
        "plt.plot(historico.history['loss'])\n",
        "plt.plot(historico.history['val_loss'])\n",
        "plt.title('Perda por épocas')\n",
        "plt.xlabel('epochs')\n",
        "plt.ylabel('perda')\n",
        "plt.legend(['treino','validação'])"
      ],
      "execution_count": 33,
      "outputs": [
        {
          "output_type": "execute_result",
          "data": {
            "text/plain": [
              "<matplotlib.legend.Legend at 0x7fbb2a653fd0>"
            ]
          },
          "metadata": {
            "tags": []
          },
          "execution_count": 33
        },
        {
          "output_type": "display_data",
          "data": {
            "image/png": "[encoded data removed]",
            "text/plain": [
              "<Figure size 432x288 with 1 Axes>"
            ]
          },
          "metadata": {
            "tags": [],
            "needs_background": "light"
          }
        }
      ]
    },
    {
      "cell_type": "markdown",
      "metadata": {
        "id": "NaaM9NsZft6o"
      },
      "source": [
        "### Testando o Modelo"
      ]
    },
    {
      "cell_type": "code",
      "metadata": {
        "id": "SNwx1F0ufxfX"
      },
      "source": [
        "testes = modelo.predict(imagens_teste)\n",
        "print('Resultado teste:',np.argmax(testes[0]))\n",
        "print('Número da imagem de teste teste:',identificacoes_teste[0])\n",
        "\n",
        "testes_modelo_salvo = modelo_salvo.predict(imagens_teste)\n",
        "print('Resultado teste:',np.argmax(testes_modelo_salvo[0]))\n",
        "print('Número da imagem de teste teste:',identificacoes_teste[0])"
      ],
      "execution_count": null,
      "outputs": []
    },
    {
      "cell_type": "markdown",
      "metadata": {
        "id": "0m6-2YupmYiH"
      },
      "source": [
        "### Avaliando o modelo"
      ]
    },
    {
      "cell_type": "code",
      "metadata": {
        "id": "GmuXD0YQkF_y"
      },
      "source": [
        "# Função de avaliação\n",
        "perda_teste, acuracia_teste = modelo.evaluate(imagens_teste, identificacoes_teste) #(perda, acuracia)\n",
        "print('Perda do teste:', perda_teste)\n",
        "print('Acurácia do teste:', acuracia_teste)\n",
        "\n",
        "perda_teste2, acuracia_teste2 = modelo_salvo.evaluate(imagens_teste, identificacoes_teste) #(perda, acuracia)\n",
        "print('Perda do teste:', perda_teste2)\n",
        "print('Acurácia do teste:', acuracia_teste2)"
      ],
      "execution_count": null,
      "outputs": []
    },
    {
      "cell_type": "code",
      "metadata": {
        "id": "dKfZnZIjkxPK"
      },
      "source": [
        ""
      ],
      "execution_count": null,
      "outputs": []
    }
  ]
}