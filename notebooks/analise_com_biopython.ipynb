{
  "nbformat": 4,
  "nbformat_minor": 0,
  "metadata": {
    "colab": {
      "name": "estudo_biopython.ipynb",
      "provenance": []
    },
    "kernelspec": {
      "name": "python3",
      "display_name": "Python 3"
    }
  },
  "cells": [
    {
      "cell_type": "markdown",
      "metadata": {
        "id": "M0pEpZDJl39R",
        "colab_type": "text"
      },
      "source": [
        "## Trabalhando com a biblioteca biopython \n",
        "Semana 24/09 - 01/10\n",
        " \n",
        " - Obter atráves do biopython as sequências dos genes a partir do geneName (ou geneId)\n"
      ]
    },
    {
      "cell_type": "code",
      "metadata": {
        "id": "Pnf0RfKqk2he",
        "colab_type": "code",
        "colab": {}
      },
      "source": [
        "!pip install biopython"
      ],
      "execution_count": null,
      "outputs": []
    },
    {
      "cell_type": "code",
      "metadata": {
        "id": "Spawef17kjfa",
        "colab_type": "code",
        "colab": {}
      },
      "source": [
        "# Imports\n",
        "from Bio import Entrez\n",
        "from Bio import SeqIO\n",
        "import pandas as pd"
      ],
      "execution_count": 7,
      "outputs": []
    },
    {
      "cell_type": "code",
      "metadata": {
        "id": "2jPIgMnNlo-W",
        "colab_type": "code",
        "colab": {}
      },
      "source": [
        "df = pd.read_csv('/content/drive/My Drive/TCC - 2020/dataset_with_mirnaSeq.csv')"
      ],
      "execution_count": 8,
      "outputs": []
    },
    {
      "cell_type": "code",
      "metadata": {
        "id": "8RylmTPDlv2f",
        "colab_type": "code",
        "colab": {
          "base_uri": "https://localhost:8080/",
          "height": 198
        },
        "outputId": "44ab16a1-ba11-43f6-e48f-b062beeede10"
      },
      "source": [
        "del df['Unnamed: 0']\n",
        "df.head()"
      ],
      "execution_count": 10,
      "outputs": [
        {
          "output_type": "execute_result",
          "data": {
            "text/html": [
              "<div>\n",
              "<style scoped>\n",
              "    .dataframe tbody tr th:only-of-type {\n",
              "        vertical-align: middle;\n",
              "    }\n",
              "\n",
              "    .dataframe tbody tr th {\n",
              "        vertical-align: top;\n",
              "    }\n",
              "\n",
              "    .dataframe thead th {\n",
              "        text-align: right;\n",
              "    }\n",
              "</style>\n",
              "<table border=\"1\" class=\"dataframe\">\n",
              "  <thead>\n",
              "    <tr style=\"text-align: right;\">\n",
              "      <th></th>\n",
              "      <th>geneId</th>\n",
              "      <th>geneName</th>\n",
              "      <th>mirna</th>\n",
              "      <th>species</th>\n",
              "      <th>sequencia</th>\n",
              "    </tr>\n",
              "  </thead>\n",
              "  <tbody>\n",
              "    <tr>\n",
              "      <th>0</th>\n",
              "      <td>AC233070_21.1(mtr)</td>\n",
              "      <td>AC233070_21.1(mtr)</td>\n",
              "      <td>mtr-miR396a-5p</td>\n",
              "      <td>Medicago truncatula</td>\n",
              "      <td>UUCCACAGCUUUCUUGAACUU</td>\n",
              "    </tr>\n",
              "    <tr>\n",
              "      <th>1</th>\n",
              "      <td>AC233070_21.1(mtr)</td>\n",
              "      <td>AC233070_21.1(mtr)</td>\n",
              "      <td>mtr-miR396b-5p</td>\n",
              "      <td>Medicago truncatula</td>\n",
              "      <td>UUCCACAGCUUUCUUGAACUG</td>\n",
              "    </tr>\n",
              "    <tr>\n",
              "      <th>2</th>\n",
              "      <td>AC233100_46.1(mtr)</td>\n",
              "      <td>AC233100_46.1(mtr)</td>\n",
              "      <td>mtr-miR1507-3p</td>\n",
              "      <td>Medicago truncatula</td>\n",
              "      <td>CCUCGUUCCAUACAUCAUCUAG</td>\n",
              "    </tr>\n",
              "    <tr>\n",
              "      <th>3</th>\n",
              "      <td>AC233680_24.1(mtr)</td>\n",
              "      <td>AC233680_24.1(mtr)</td>\n",
              "      <td>mtr-miR2643a</td>\n",
              "      <td>Medicago truncatula</td>\n",
              "      <td>UUUGGGAUCAGAAAUUAGAGA</td>\n",
              "    </tr>\n",
              "    <tr>\n",
              "      <th>4</th>\n",
              "      <td>AC233685_3.1(mtr)</td>\n",
              "      <td>AC233685_3.1(mtr)</td>\n",
              "      <td>mtr-miR159a</td>\n",
              "      <td>Medicago truncatula</td>\n",
              "      <td>UUUGGAUUGAAGGGAGCUCUA</td>\n",
              "    </tr>\n",
              "  </tbody>\n",
              "</table>\n",
              "</div>"
            ],
            "text/plain": [
              "               geneId  ...               sequencia\n",
              "0  AC233070_21.1(mtr)  ...   UUCCACAGCUUUCUUGAACUU\n",
              "1  AC233070_21.1(mtr)  ...   UUCCACAGCUUUCUUGAACUG\n",
              "2  AC233100_46.1(mtr)  ...  CCUCGUUCCAUACAUCAUCUAG\n",
              "3  AC233680_24.1(mtr)  ...   UUUGGGAUCAGAAAUUAGAGA\n",
              "4   AC233685_3.1(mtr)  ...   UUUGGAUUGAAGGGAGCUCUA\n",
              "\n",
              "[5 rows x 5 columns]"
            ]
          },
          "metadata": {
            "tags": []
          },
          "execution_count": 10
        }
      ]
    },
    {
      "cell_type": "code",
      "metadata": {
        "id": "E67GJzcMk8nM",
        "colab_type": "code",
        "colab": {
          "base_uri": "https://localhost:8080/",
          "height": 55
        },
        "outputId": "caed7d24-acb8-4232-9a26-a53374f913f8"
      },
      "source": [
        "Entrez.email = \"marcoswesley314@gmail.com\"     # Always tell NCBI who you are\n",
        "handle = Entrez.einfo()\n",
        "result = handle.read()\n",
        "print(result)"
      ],
      "execution_count": 4,
      "outputs": [
        {
          "output_type": "stream",
          "text": [
            "b'<?xml version=\"1.0\" encoding=\"UTF-8\" ?>\\n<!DOCTYPE eInfoResult PUBLIC \"-//NLM//DTD einfo 20190110//EN\" \"https://eutils.ncbi.nlm.nih.gov/eutils/dtd/20190110/einfo.dtd\">\\n<eInfoResult>\\n<DbList>\\n\\n\\t<DbName>pubmed</DbName>\\n\\t<DbName>protein</DbName>\\n\\t<DbName>nuccore</DbName>\\n\\t<DbName>ipg</DbName>\\n\\t<DbName>nucleotide</DbName>\\n\\t<DbName>structure</DbName>\\n\\t<DbName>sparcle</DbName>\\n\\t<DbName>genome</DbName>\\n\\t<DbName>annotinfo</DbName>\\n\\t<DbName>assembly</DbName>\\n\\t<DbName>bioproject</DbName>\\n\\t<DbName>biosample</DbName>\\n\\t<DbName>blastdbinfo</DbName>\\n\\t<DbName>books</DbName>\\n\\t<DbName>cdd</DbName>\\n\\t<DbName>clinvar</DbName>\\n\\t<DbName>gap</DbName>\\n\\t<DbName>gapplus</DbName>\\n\\t<DbName>grasp</DbName>\\n\\t<DbName>dbvar</DbName>\\n\\t<DbName>gene</DbName>\\n\\t<DbName>gds</DbName>\\n\\t<DbName>geoprofiles</DbName>\\n\\t<DbName>homologene</DbName>\\n\\t<DbName>medgen</DbName>\\n\\t<DbName>mesh</DbName>\\n\\t<DbName>ncbisearch</DbName>\\n\\t<DbName>nlmcatalog</DbName>\\n\\t<DbName>omim</DbName>\\n\\t<DbName>orgtrack</DbName>\\n\\t<DbName>pmc</DbName>\\n\\t<DbName>popset</DbName>\\n\\t<DbName>proteinclusters</DbName>\\n\\t<DbName>pcassay</DbName>\\n\\t<DbName>biosystems</DbName>\\n\\t<DbName>pccompound</DbName>\\n\\t<DbName>pcsubstance</DbName>\\n\\t<DbName>seqannot</DbName>\\n\\t<DbName>snp</DbName>\\n\\t<DbName>sra</DbName>\\n\\t<DbName>taxonomy</DbName>\\n\\t<DbName>biocollections</DbName>\\n\\t<DbName>gtr</DbName>\\n</DbList>\\n\\n</eInfoResult>\\n'\n"
          ],
          "name": "stdout"
        }
      ]
    },
    {
      "cell_type": "code",
      "metadata": {
        "id": "709s3Dd5lAmc",
        "colab_type": "code",
        "colab": {}
      },
      "source": [
        "# Filtrando genes pelo Id\n",
        "geneid = 'At1g50055'\n",
        "specie = 'Arabidopsis thaliana'\n",
        "mirna = 'ath-miR173-5p'\n",
        "search_string = geneid\n",
        "\n",
        "handle = Entrez.esearch(db=\"gene\", term=search_string)\n",
        "record = Entrez.read(handle)\n",
        "ids = record['IdList']\n"
      ],
      "execution_count": 5,
      "outputs": []
    },
    {
      "cell_type": "code",
      "metadata": {
        "id": "QB5YXLyrlItU",
        "colab_type": "code",
        "colab": {}
      },
      "source": [
        "seq_id = ids[0] #you must implement an if to deal with <0 or >1 cases\n",
        "handle = Entrez.efetch(db=\"nucleotide\", id=seq_id, rettype=\"fasta\", retmode=\"text\")\n",
        "record = handle.read()"
      ],
      "execution_count": 6,
      "outputs": []
    },
    {
      "cell_type": "code",
      "metadata": {
        "id": "tGRmtWkzku_x",
        "colab_type": "code",
        "colab": {}
      },
      "source": [
        "Entrez.email = \"marcoswesley314@gmail.com\"\n",
        "\n",
        "with Entrez.efetch(db=\"gene\", id=ids[0], rettype=\"gb\", retmode=\"text\") as handle:\n",
        "  seq_record = SeqIO.read(handle, \"gb\")\n",
        "  \n",
        "print( seq_record.id, str(seq_record.seq) )"
      ],
      "execution_count": null,
      "outputs": []
    }
  ]
}