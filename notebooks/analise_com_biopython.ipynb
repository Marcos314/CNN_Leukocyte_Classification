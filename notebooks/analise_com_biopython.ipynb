{
 "cells": [
  {
   "cell_type": "markdown",
   "metadata": {
    "colab_type": "text",
    "id": "M0pEpZDJl39R"
   },
   "source": [
    "## Trabalhando com a biblioteca biopython \n",
    "Semana 24/09 - 01/10\n",
    " \n",
    " - Obter atráves do biopython as sequências dos genes a partir do geneName (ou geneId)\n"
   ]
  },
  {
   "cell_type": "code",
   "execution_count": null,
   "metadata": {
    "colab": {},
    "colab_type": "code",
    "id": "Pnf0RfKqk2he"
   },
   "outputs": [],
   "source": [
    "!pip install biopython"
   ]
  },
  {
   "cell_type": "code",
   "execution_count": 7,
   "metadata": {
    "colab": {},
    "colab_type": "code",
    "id": "Spawef17kjfa"
   },
   "outputs": [],
   "source": [
    "# Imports\n",
    "from Bio import Entrez\n",
    "from Bio import SeqIO\n",
    "import pandas as pd"
   ]
  },
  {
   "cell_type": "code",
   "execution_count": 8,
   "metadata": {
    "colab": {},
    "colab_type": "code",
    "id": "2jPIgMnNlo-W"
   },
   "outputs": [],
   "source": [
    "df = pd.read_csv('/content/drive/My Drive/TCC - 2020/dataset_with_mirnaSeq.csv')"
   ]
  },
  {
   "cell_type": "code",
   "execution_count": 10,
   "metadata": {
    "colab": {
     "base_uri": "https://localhost:8080/",
     "height": 198
    },
    "colab_type": "code",
    "id": "8RylmTPDlv2f",
    "outputId": "44ab16a1-ba11-43f6-e48f-b062beeede10"
   },
   "outputs": [
    {
     "data": {
      "text/html": [
       "<div>\n",
       "<style scoped>\n",
       "    .dataframe tbody tr th:only-of-type {\n",
       "        vertical-align: middle;\n",
       "    }\n",
       "\n",
       "    .dataframe tbody tr th {\n",
       "        vertical-align: top;\n",
       "    }\n",
       "\n",
       "    .dataframe thead th {\n",
       "        text-align: right;\n",
       "    }\n",
       "</style>\n",
       "<table border=\"1\" class=\"dataframe\">\n",
       "  <thead>\n",
       "    <tr style=\"text-align: right;\">\n",
       "      <th></th>\n",
       "      <th>geneId</th>\n",
       "      <th>geneName</th>\n",
       "      <th>mirna</th>\n",
       "      <th>species</th>\n",
       "      <th>sequencia</th>\n",
       "    </tr>\n",
       "  </thead>\n",
       "  <tbody>\n",
       "    <tr>\n",
       "      <th>0</th>\n",
       "      <td>AC233070_21.1(mtr)</td>\n",
       "      <td>AC233070_21.1(mtr)</td>\n",
       "      <td>mtr-miR396a-5p</td>\n",
       "      <td>Medicago truncatula</td>\n",
       "      <td>UUCCACAGCUUUCUUGAACUU</td>\n",
       "    </tr>\n",
       "    <tr>\n",
       "      <th>1</th>\n",
       "      <td>AC233070_21.1(mtr)</td>\n",
       "      <td>AC233070_21.1(mtr)</td>\n",
       "      <td>mtr-miR396b-5p</td>\n",
       "      <td>Medicago truncatula</td>\n",
       "      <td>UUCCACAGCUUUCUUGAACUG</td>\n",
       "    </tr>\n",
       "    <tr>\n",
       "      <th>2</th>\n",
       "      <td>AC233100_46.1(mtr)</td>\n",
       "      <td>AC233100_46.1(mtr)</td>\n",
       "      <td>mtr-miR1507-3p</td>\n",
       "      <td>Medicago truncatula</td>\n",
       "      <td>CCUCGUUCCAUACAUCAUCUAG</td>\n",
       "    </tr>\n",
       "    <tr>\n",
       "      <th>3</th>\n",
       "      <td>AC233680_24.1(mtr)</td>\n",
       "      <td>AC233680_24.1(mtr)</td>\n",
       "      <td>mtr-miR2643a</td>\n",
       "      <td>Medicago truncatula</td>\n",
       "      <td>UUUGGGAUCAGAAAUUAGAGA</td>\n",
       "    </tr>\n",
       "    <tr>\n",
       "      <th>4</th>\n",
       "      <td>AC233685_3.1(mtr)</td>\n",
       "      <td>AC233685_3.1(mtr)</td>\n",
       "      <td>mtr-miR159a</td>\n",
       "      <td>Medicago truncatula</td>\n",
       "      <td>UUUGGAUUGAAGGGAGCUCUA</td>\n",
       "    </tr>\n",
       "  </tbody>\n",
       "</table>\n",
       "</div>"
      ],
      "text/plain": [
       "               geneId  ...               sequencia\n",
       "0  AC233070_21.1(mtr)  ...   UUCCACAGCUUUCUUGAACUU\n",
       "1  AC233070_21.1(mtr)  ...   UUCCACAGCUUUCUUGAACUG\n",
       "2  AC233100_46.1(mtr)  ...  CCUCGUUCCAUACAUCAUCUAG\n",
       "3  AC233680_24.1(mtr)  ...   UUUGGGAUCAGAAAUUAGAGA\n",
       "4   AC233685_3.1(mtr)  ...   UUUGGAUUGAAGGGAGCUCUA\n",
       "\n",
       "[5 rows x 5 columns]"
      ]
     },
     "execution_count": 10,
     "metadata": {
      "tags": []
     },
     "output_type": "execute_result"
    }
   ],
   "source": [
    "del df['Unnamed: 0']\n",
    "df.head()"
   ]
  },
  {
   "cell_type": "code",
   "execution_count": 4,
   "metadata": {
    "colab": {
     "base_uri": "https://localhost:8080/",
     "height": 55
    },
    "colab_type": "code",
    "id": "E67GJzcMk8nM",
    "outputId": "caed7d24-acb8-4232-9a26-a53374f913f8"
   },
   "outputs": [
    {
     "name": "stdout",
     "output_type": "stream",
     "text": [
      "b'<?xml version=\"1.0\" encoding=\"UTF-8\" ?>\\n<!DOCTYPE eInfoResult PUBLIC \"-//NLM//DTD einfo 20190110//EN\" \"https://eutils.ncbi.nlm.nih.gov/eutils/dtd/20190110/einfo.dtd\">\\n<eInfoResult>\\n<DbList>\\n\\n\\t<DbName>pubmed</DbName>\\n\\t<DbName>protein</DbName>\\n\\t<DbName>nuccore</DbName>\\n\\t<DbName>ipg</DbName>\\n\\t<DbName>nucleotide</DbName>\\n\\t<DbName>structure</DbName>\\n\\t<DbName>sparcle</DbName>\\n\\t<DbName>genome</DbName>\\n\\t<DbName>annotinfo</DbName>\\n\\t<DbName>assembly</DbName>\\n\\t<DbName>bioproject</DbName>\\n\\t<DbName>biosample</DbName>\\n\\t<DbName>blastdbinfo</DbName>\\n\\t<DbName>books</DbName>\\n\\t<DbName>cdd</DbName>\\n\\t<DbName>clinvar</DbName>\\n\\t<DbName>gap</DbName>\\n\\t<DbName>gapplus</DbName>\\n\\t<DbName>grasp</DbName>\\n\\t<DbName>dbvar</DbName>\\n\\t<DbName>gene</DbName>\\n\\t<DbName>gds</DbName>\\n\\t<DbName>geoprofiles</DbName>\\n\\t<DbName>homologene</DbName>\\n\\t<DbName>medgen</DbName>\\n\\t<DbName>mesh</DbName>\\n\\t<DbName>ncbisearch</DbName>\\n\\t<DbName>nlmcatalog</DbName>\\n\\t<DbName>omim</DbName>\\n\\t<DbName>orgtrack</DbName>\\n\\t<DbName>pmc</DbName>\\n\\t<DbName>popset</DbName>\\n\\t<DbName>proteinclusters</DbName>\\n\\t<DbName>pcassay</DbName>\\n\\t<DbName>biosystems</DbName>\\n\\t<DbName>pccompound</DbName>\\n\\t<DbName>pcsubstance</DbName>\\n\\t<DbName>seqannot</DbName>\\n\\t<DbName>snp</DbName>\\n\\t<DbName>sra</DbName>\\n\\t<DbName>taxonomy</DbName>\\n\\t<DbName>biocollections</DbName>\\n\\t<DbName>gtr</DbName>\\n</DbList>\\n\\n</eInfoResult>\\n'\n"
     ]
    }
   ],
   "source": [
    "Entrez.email = \"marcoswesley314@gmail.com\"     # Always tell NCBI who you are\n",
    "handle = Entrez.einfo()\n",
    "result = handle.read()\n",
    "print(result)"
   ]
  },
  {
   "cell_type": "code",
   "execution_count": 5,
   "metadata": {
    "colab": {},
    "colab_type": "code",
    "id": "709s3Dd5lAmc"
   },
   "outputs": [],
   "source": [
    "# Filtrando genes pelo Id\n",
    "geneid = 'At1g50055'\n",
    "specie = 'Arabidopsis thaliana'\n",
    "mirna = 'ath-miR173-5p'\n",
    "search_string = geneid\n",
    "\n",
    "handle = Entrez.esearch(db=\"gene\", term=search_string)\n",
    "record = Entrez.read(handle)\n",
    "ids = record['IdList']\n"
   ]
  },
  {
   "cell_type": "code",
   "execution_count": 6,
   "metadata": {
    "colab": {},
    "colab_type": "code",
    "id": "QB5YXLyrlItU"
   },
   "outputs": [],
   "source": [
    "seq_id = ids[0] #you must implement an if to deal with <0 or >1 cases\n",
    "handle = Entrez.efetch(db=\"nucleotide\", id=seq_id, rettype=\"fasta\", retmode=\"text\")\n",
    "record = handle.read()"
   ]
  },
  {
   "cell_type": "code",
   "execution_count": null,
   "metadata": {
    "colab": {},
    "colab_type": "code",
    "id": "tGRmtWkzku_x"
   },
   "outputs": [],
   "source": [
    "Entrez.email = \"marcoswesley314@gmail.com\"\n",
    "\n",
    "with Entrez.efetch(db=\"gene\", id=ids[0], rettype=\"gb\", retmode=\"text\") as handle:\n",
    "  seq_record = SeqIO.read(handle, \"gb\")\n",
    "  \n",
    "print( seq_record.id, str(seq_record.seq) )"
   ]
  }
 ],
 "metadata": {
  "colab": {
   "name": "estudo_biopython.ipynb",
   "provenance": []
  },
  "kernelspec": {
   "display_name": "Python 3",
   "language": "python",
   "name": "python3"
  },
  "language_info": {
   "codemirror_mode": {
    "name": "ipython",
    "version": 3
   },
   "file_extension": ".py",
   "mimetype": "text/x-python",
   "name": "python",
   "nbconvert_exporter": "python",
   "pygments_lexer": "ipython3",
   "version": "3.7.6"
  }
 },
 "nbformat": 4,
 "nbformat_minor": 1
}
