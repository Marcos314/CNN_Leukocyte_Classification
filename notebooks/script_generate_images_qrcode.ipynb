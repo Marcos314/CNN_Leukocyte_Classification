{
 "cells": [
  {
   "cell_type": "markdown",
   "metadata": {},
   "source": [
    "### Gerar QRcode a partir das sequências\n",
    "\n",
    "- Obter os qrcode atráves das sequências dos miRNAs."
   ]
  },
  {
   "cell_type": "code",
   "execution_count": 2,
   "metadata": {
    "collapsed": true
   },
   "outputs": [
    {
     "name": "stdout",
     "output_type": "stream",
     "text": [
      "Requirement already satisfied: biopython in /home/marcos/anaconda3/lib/python3.7/site-packages (1.78)\r\n",
      "Requirement already satisfied: numpy in /home/marcos/anaconda3/lib/python3.7/site-packages (from biopython) (1.18.1)\r\n"
     ]
    }
   ],
   "source": [
    "!pip install biopython"
   ]
  },
  {
   "cell_type": "code",
   "execution_count": 1,
   "metadata": {},
   "outputs": [],
   "source": [
    "# Imports\n",
    "from Bio import Entrez\n",
    "from Bio import SeqIO\n",
    "import pandas as pd"
   ]
  },
  {
   "cell_type": "code",
   "execution_count": 3,
   "metadata": {},
   "outputs": [],
   "source": [
    "array_seq = []\n",
    "file = '/home/marcos/Desktop/TCC_2020/dados/mature.fa'\n",
    "\n",
    "for i in SeqIO.parse(file, \"fasta\"):\n",
    "    array_seq.append(str(i.seq))\n",
    "\n",
    "#print(array_seq)\n",
    "\n"
   ]
  },
  {
   "cell_type": "code",
   "execution_count": 4,
   "metadata": {},
   "outputs": [
    {
     "name": "stdout",
     "output_type": "stream",
     "text": [
      "48885\n"
     ]
    }
   ],
   "source": [
    "# Número de seqências obtidas\n",
    "print(len(array_seq))"
   ]
  },
  {
   "cell_type": "code",
   "execution_count": 5,
   "metadata": {},
   "outputs": [
    {
     "name": "stdout",
     "output_type": "stream",
     "text": [
      "22\n"
     ]
    }
   ],
   "source": [
    "# Tamanho da primeira sequência da lista\n",
    "print(len(array_seq[1]))"
   ]
  },
  {
   "cell_type": "markdown",
   "metadata": {},
   "source": [
    "### Transformando sequências em códigos QR"
   ]
  },
  {
   "cell_type": "code",
   "execution_count": 6,
   "metadata": {},
   "outputs": [
    {
     "name": "stdout",
     "output_type": "stream",
     "text": [
      "Collecting qrcode\n",
      "  Downloading qrcode-6.1-py2.py3-none-any.whl (31 kB)\n",
      "Requirement already satisfied: six in /home/marcos/anaconda3/lib/python3.7/site-packages (from qrcode) (1.14.0)\n",
      "Installing collected packages: qrcode\n",
      "Successfully installed qrcode-6.1\n"
     ]
    }
   ],
   "source": [
    "!pip install qrcode"
   ]
  },
  {
   "cell_type": "code",
   "execution_count": 10,
   "metadata": {},
   "outputs": [],
   "source": [
    "import qrcode\n",
    "import shutil"
   ]
  },
  {
   "cell_type": "code",
   "execution_count": 14,
   "metadata": {},
   "outputs": [],
   "source": [
    "img = qrcode.make(array_seq[0])\n",
    "img"
   ]
  },
  {
   "cell_type": "code",
   "execution_count": 16,
   "metadata": {},
   "outputs": [
    {
     "name": "stdout",
     "output_type": "stream",
     "text": [
      "Sequências lidas 5000\n",
      "Sequências lidas 10000\n",
      "Sequências lidas 15000\n",
      "Sequências lidas 20000\n",
      "Sequências lidas 25000\n",
      "Sequências lidas 30000\n",
      "Sequências lidas 35000\n",
      "Sequências lidas 40000\n",
      "Sequências lidas 45000\n"
     ]
    }
   ],
   "source": [
    "# TENTAR PARALELIZAR O PROCESSO USANDO DASK\n",
    "count = 0\n",
    "for seq in array_seq:\n",
    "    count+=1    \n",
    "    # Gerando qrcode a partir do array_seq  \n",
    "    img = qrcode.make(seq)\n",
    "    \n",
    "    # Salvando a imagem\n",
    "    filename = (f'seq{count}.jpeg')\n",
    "    img.save(filename)\n",
    "    \n",
    "    # Salvando as imagens em um diretório especifico\n",
    "    shutil.move(filename, '/home/marcos/Desktop/TCC_2020/notebooks/images_sequence_qrcode')        \n",
    "    \n",
    "    if count % 5000 == 0:\n",
    "        print(f'Sequências lidas {count}')"
   ]
  },
  {
   "cell_type": "code",
   "execution_count": null,
   "metadata": {},
   "outputs": [],
   "source": []
  }
 ],
 "metadata": {
  "kernelspec": {
   "display_name": "Python 3",
   "language": "python",
   "name": "python3"
  },
  "language_info": {
   "codemirror_mode": {
    "name": "ipython",
    "version": 3
   },
   "file_extension": ".py",
   "mimetype": "text/x-python",
   "name": "python",
   "nbconvert_exporter": "python",
   "pygments_lexer": "ipython3",
   "version": "3.7.6"
  }
 },
 "nbformat": 4,
 "nbformat_minor": 4
}
