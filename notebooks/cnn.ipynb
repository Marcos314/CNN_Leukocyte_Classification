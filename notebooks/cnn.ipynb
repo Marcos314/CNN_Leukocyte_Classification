{
  "nbformat": 4,
  "nbformat_minor": 0,
  "metadata": {
    "colab": {
      "name": "cnn.ipynb",
      "provenance": [],
      "collapsed_sections": [
        "wP-I_nVpn_82",
        "c0CrYYlnROgO",
        "gOaf1x3k3D4s",
        "WnuJZ2_kw_pd",
        "1TjB_aelKW0d"
      ],
      "machine_shape": "hm"
    },
    "kernelspec": {
      "name": "python3",
      "display_name": "Python 3"
    },
    "language_info": {
      "name": "python"
    },
    "accelerator": "GPU"
  },
  "cells": [
    {
      "cell_type": "markdown",
      "metadata": {
        "id": "acITcmNB2QFU"
      },
      "source": [
        "# Rede convolucional para identificação de células de tecido sanguíneo a partir de imagens de microscópio\n",
        "\n",
        "Fonte de dados: https://data.mendeley.com/datasets/snkd93bnjr/1\n",
        "\n",
        "Rede Neural Convolucional estudada: **Xception**\n",
        "\n",
        "Última modificação: 07/08/2021"
      ]
    },
    {
      "cell_type": "code",
      "metadata": {
        "id": "LUxXp6c_2B0c"
      },
      "source": [
        "# Bibliotecas Python necessárias e outras\n",
        "import os\n",
        "from google.colab import files\n",
        "import zipfile\n",
        "import numpy as np\n",
        "import pandas as pd\n",
        "import cv2\n",
        "# Visualização\n",
        "import matplotlib.pyplot as plt\n",
        "import seaborn as sns\n",
        "from tqdm import tqdm\n",
        "import plotly.express as px\n",
        "# Sklearn\n",
        "from sklearn.utils import shuffle\n",
        "from sklearn import decomposition\n",
        "from sklearn.model_selection import train_test_split\n",
        "from sklearn.metrics import accuracy_score, confusion_matrix, precision_recall_curve, classification_report\n",
        "\n",
        "import tensorflow as tf\n",
        "# Keras\n",
        "import keras\n",
        "from keras.applications.xception import Xception\n",
        "from keras.preprocessing import image\n",
        "from keras.models import Sequential, Model \n",
        "from keras.initializers import he_normal\n",
        "from keras.layers import Lambda, SeparableConv2D, BatchNormalization, Dropout, MaxPooling2D, Input, Dense, Conv2D, Activation, Flatten, GlobalAveragePooling2D, GlobalMaxPooling2D\n",
        "from keras.callbacks import EarlyStopping, ReduceLROnPlateau, ModelCheckpoint\n",
        "from keras.utils.data_utils import get_file"
      ],
      "execution_count": 1,
      "outputs": []
    },
    {
      "cell_type": "markdown",
      "metadata": {
        "id": "wP-I_nVpn_82"
      },
      "source": [
        "## Leitura dos dados"
      ]
    },
    {
      "cell_type": "code",
      "metadata": {
        "colab": {
          "base_uri": "https://localhost:8080/"
        },
        "id": "SBngUMwIoR_r",
        "outputId": "c0cc1a6d-ea79-4bb5-b0a8-025eea23e480"
      },
      "source": [
        "from google.colab import drive\n",
        "drive.mount('/content/drive')"
      ],
      "execution_count": 2,
      "outputs": [
        {
          "output_type": "stream",
          "text": [
            "Mounted at /content/drive\n"
          ],
          "name": "stdout"
        }
      ]
    },
    {
      "cell_type": "code",
      "metadata": {
        "id": "TNeKCqtEv2MC"
      },
      "source": [
        "# Criação de um diretório \"dataset\", o zip é colocado nesse dataset\n",
        "os.makedirs(\"/content/dataset_zip/\", exist_ok=True)"
      ],
      "execution_count": 13,
      "outputs": []
    },
    {
      "cell_type": "code",
      "metadata": {
        "id": "DsZQsbw2re9j"
      },
      "source": [
        "!cp /content/drive/MyDrive/TCC2020/blood/dados_bood/dataset_zip.zip /content/"
      ],
      "execution_count": 14,
      "outputs": []
    },
    {
      "cell_type": "code",
      "metadata": {
        "id": "2HwyPlwsx6RT"
      },
      "source": [
        "!unzip /content/dataset_zip.zip"
      ],
      "execution_count": null,
      "outputs": []
    },
    {
      "cell_type": "code",
      "metadata": {
        "id": "K0SCUJhSTyRK"
      },
      "source": [
        "# TESTAR\n",
        "!mv /content/train /content/dataset_zip/\n",
        "!mv /content/test /content/dataset_zip/"
      ],
      "execution_count": 16,
      "outputs": []
    },
    {
      "cell_type": "code",
      "metadata": {
        "colab": {
          "base_uri": "https://localhost:8080/"
        },
        "id": "YA9MhkS7OHdC",
        "outputId": "7bb53a07-b3d2-49c5-97e1-c7ed1499a9f3"
      },
      "source": [
        "# Diretorio com imagens de treino de eosinofilo\n",
        "train1 = os.path.join('/content/dataset_zip/train/EOSINOPHIL')\n",
        "# Diretorio com imagens de teste de EOSINOPHIL \n",
        "test1 = os.path.join('/content/dataset_zip/test/EOSINOPHIL')\n",
        "\n",
        "# Diretorio com imagens de treino de linfocito\n",
        "train2 = os.path.join('/content/dataset_zip/train/LYMPHOCYTE')\n",
        "# Diretorio com imagens de teste de linfocito \n",
        "test2 = os.path.join('/content/dataset_zip/test/LYMPHOCYTE')\n",
        "\n",
        "# Diretorio com imagens de treino de monocito\n",
        "train3 = os.path.join('/content/dataset_zip/train/MONOCYTE')\n",
        "# Diretorio com imagens de teste de monocito \n",
        "test3 = os.path.join('/content/dataset_zip/test/MONOCYTE')\n",
        "\n",
        "# Diretorio com imagens de treino de neutrofilo\n",
        "train4 = os.path.join('/content/dataset_zip/train/NEUTROPHIL')\n",
        "# Diretorio com imagens de teste de neutrofilo \n",
        "test4 = os.path.join('/content/dataset_zip/test/NEUTROPHIL')\n",
        "\n",
        "# Diretorio com imagens de treino de basofilos\n",
        "train5 = os.path.join('/content/dataset_zip/train/BASOPHIL')\n",
        "# Diretorio com imagens de teste de neutrofilo \n",
        "test5 = os.path.join('/content/dataset_zip/test/BASOPHIL')\n",
        "\n",
        "\n",
        "\n",
        "print('total train eosinofilo:', len(os.listdir(train1)))\n",
        "print('total test eosinofilo:', len(os.listdir(test1)))\n",
        "\n",
        "\n",
        "print('total train linfocito:', len(os.listdir(train2)))\n",
        "print('total test linfocito:', len(os.listdir(test2)))\n",
        "\n",
        "print('total train monocito:', len(os.listdir(train3)))\n",
        "print('total test monocito:', len(os.listdir(test3)))\n",
        "\n",
        "print('total train neutrofilo:', len(os.listdir(train4)))\n",
        "print('total test neutrofilo:', len(os.listdir(test4)))\n",
        "\n",
        "\n",
        "print('total train basofilo:', len(os.listdir(train5)))\n",
        "print('total test basofilo:', len(os.listdir(test5)))"
      ],
      "execution_count": 17,
      "outputs": [
        {
          "output_type": "stream",
          "text": [
            "total train eosinofilo: 2493\n",
            "total test eosinofilo: 624\n",
            "total train linfocito: 971\n",
            "total test linfocito: 243\n",
            "total train monocito: 1136\n",
            "total test monocito: 284\n",
            "total train neutrofilo: 2663\n",
            "total test neutrofilo: 666\n",
            "total train basofilo: 974\n",
            "total test basofilo: 244\n"
          ],
          "name": "stdout"
        }
      ]
    },
    {
      "cell_type": "markdown",
      "metadata": {
        "id": "c0CrYYlnROgO"
      },
      "source": [
        "## Pré-processamento dos dados"
      ]
    },
    {
      "cell_type": "code",
      "metadata": {
        "id": "HumdRwQh0iET"
      },
      "source": [
        "IMAGE_SIZE = (150,150)\n",
        "TRAIN_DIR = '/content/dataset_zip/train'\n",
        "TEST_DIR = '/content/dataset_zip/test'\n",
        "BATCH_SIZE = 32"
      ],
      "execution_count": null,
      "outputs": []
    },
    {
      "cell_type": "code",
      "metadata": {
        "id": "33IN_MMu2DXw"
      },
      "source": [
        "# Criação dos geradores\n",
        "# Separando os dados de treino (80% treino e 20% validação)\n",
        "train_gen = tf.keras.preprocessing.image.ImageDataGenerator(\n",
        "    preprocessing_function=tf.keras.applications.xception.preprocess_input,\n",
        "    validation_split=0.2\n",
        ")\n",
        "\n",
        "test_gen = tf.keras.preprocessing.image.ImageDataGenerator(\n",
        "    preprocessing_function=tf.keras.applications.xception.preprocess_input\n",
        ")"
      ],
      "execution_count": null,
      "outputs": []
    },
    {
      "cell_type": "code",
      "metadata": {
        "colab": {
          "base_uri": "https://localhost:8080/"
        },
        "id": "dBm99h1u2yrc",
        "outputId": "a905b75f-0569-44a9-894a-9bfb936a4819"
      },
      "source": [
        "# Gerar lotes de dados\n",
        "'''\n",
        "Return:\n",
        "Uma tupla DirectoryIterator produtiva de (x, y) onde x é uma matriz numpy contendo um lote\n",
        "de imagens com forma (batch_size, *target_size, channels) e y uma matriz numpy\n",
        "de rótulos correspondentes.\n",
        "'''\n",
        "train_images = train_gen.flow_from_directory(\n",
        "    directory=TRAIN_DIR,\n",
        "    target_size=IMAGE_SIZE,\n",
        "    color_mode='rgb',\n",
        "    class_mode='categorical',\n",
        "    batch_size=BATCH_SIZE,\n",
        "    shuffle=True,\n",
        "    seed=42,\n",
        "    subset='training'\n",
        ")\n",
        "\n",
        "val_images = train_gen.flow_from_directory(\n",
        "    directory=TRAIN_DIR,\n",
        "    target_size=IMAGE_SIZE,\n",
        "    color_mode='rgb',\n",
        "    class_mode='categorical',\n",
        "    batch_size=BATCH_SIZE,\n",
        "    shuffle=True,\n",
        "    seed=42,\n",
        "    subset='validation'\n",
        ")\n",
        "\n",
        "test_images = test_gen.flow_from_directory(\n",
        "    directory=TEST_DIR,\n",
        "    target_size=IMAGE_SIZE,\n",
        "    color_mode='rgb',\n",
        "    class_mode='categorical',\n",
        "    batch_size=BATCH_SIZE,\n",
        "    shuffle=False,\n",
        "    seed=42\n",
        ")"
      ],
      "execution_count": null,
      "outputs": [
        {
          "output_type": "stream",
          "text": [
            "Found 6592 images belonging to 5 classes.\n",
            "Found 1645 images belonging to 5 classes.\n",
            "Found 2061 images belonging to 5 classes.\n"
          ],
          "name": "stdout"
        }
      ]
    },
    {
      "cell_type": "markdown",
      "metadata": {
        "id": "gOaf1x3k3D4s"
      },
      "source": [
        "## Xception com *Transfer Learning*\n",
        "Baseado na documentação do keras: https://keras.io/guides/transfer_learning/#the-typical-transferlearning-workflow"
      ]
    },
    {
      "cell_type": "code",
      "metadata": {
        "id": "HTXX0RnX3Zxb"
      },
      "source": [
        "# Instanciando um modelo básico com pesos pré-treinados\n",
        "base_model = Xception(\n",
        "    weights='imagenet',  # Load weights pre-trained on ImageNet.\n",
        "    input_shape=(150, 150, 3),\n",
        "    include_top=False,\n",
        "    pooling='avg')\n",
        "\n",
        "base_model.trainable = False"
      ],
      "execution_count": null,
      "outputs": []
    },
    {
      "cell_type": "code",
      "metadata": {
        "collapsed": true,
        "id": "9r8CtEsK_w8v"
      },
      "source": [
        "# Criação de um novo modelo \n",
        "inputs = base_model.input\n",
        "x = Dense(128, activation='relu')(base_model.output) # Adicionando mais uma camada Dense\n",
        "outputs = Dense(5, activation='softmax')(x) # Camada de saida\n",
        "\n",
        "base_model = tf.keras.Model(inputs = inputs, outputs = outputs)"
      ],
      "execution_count": null,
      "outputs": []
    },
    {
      "cell_type": "code",
      "metadata": {
        "colab": {
          "base_uri": "https://localhost:8080/"
        },
        "collapsed": true,
        "id": "j704gsHoDLYB",
        "outputId": "01a71ae7-fa41-42d4-847a-5c7156b446b2"
      },
      "source": [
        "# Compilando o modelo\n",
        "base_model.compile(\n",
        "    optimizer='adam',\n",
        "    loss='categorical_crossentropy',\n",
        "    metrics=['accuracy']\n",
        ")\n",
        "base_model.summary()"
      ],
      "execution_count": null,
      "outputs": [
        {
          "output_type": "stream",
          "text": [
            "Model: \"model\"\n",
            "__________________________________________________________________________________________________\n",
            "Layer (type)                    Output Shape         Param #     Connected to                     \n",
            "==================================================================================================\n",
            "Total params: 21,124,397\n",
            "Trainable params: 262,917\n",
            "Non-trainable params: 20,861,480\n",
            "__________________________________________________________________________________________________\n"
          ],
          "name": "stdout"
        }
      ]
    },
    {
      "cell_type": "markdown",
      "metadata": {
        "id": "tC1VsYiYWOvV"
      },
      "source": [
        "![image.png](data:image/png;base64,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)"
      ]
    },
    {
      "cell_type": "code",
      "metadata": {
        "colab": {
          "base_uri": "https://localhost:8080/"
        },
        "collapsed": true,
        "id": "liw1pTil40TV",
        "outputId": "eabce7a0-f2c5-4c83-8c67-b2effac8e858"
      },
      "source": [
        "# Treino do modelo\n",
        "%%time\n",
        "history_base = base_model.fit(\n",
        "    train_images,\n",
        "    epochs=100,\n",
        "    steps_per_epoch=train_images.samples // train_images.batch_size,\n",
        "    validation_steps=val_images.samples // val_images.batch_size,\n",
        "    validation_data=val_images)"
      ],
      "execution_count": null,
      "outputs": [
        {
          "output_type": "stream",
          "text": [
            "Epoch 1/100\n"
          ],
          "name": "stdout"
        }
      ]
    },
    {
      "cell_type": "markdown",
      "metadata": {
        "id": "WnuJZ2_kw_pd"
      },
      "source": [
        "### Visualização Accuracy / Loss"
      ]
    },
    {
      "cell_type": "code",
      "metadata": {
        "id": "ABsHdliLGOgM"
      },
      "source": [
        "plt.figure(figsize=(8, 8))\n",
        "loss_train = history_base.history['accuracy']\n",
        "loss_val = history_base.history['val_accuracy']\n",
        "epochs = range(0,100)\n",
        "plt.plot(epochs, loss_train, 'b', label='Acurácia de treino')\n",
        "plt.plot(epochs, loss_val, 'g', label='Acurácia de validação')\n",
        "plt.title('Acurácia de treino e validação')\n",
        "plt.xlabel('Epochs')\n",
        "plt.ylabel('Accuracy')\n",
        "plt.legend()\n",
        "plt.grid()\n",
        "plt.show()"
      ],
      "execution_count": null,
      "outputs": []
    },
    {
      "cell_type": "code",
      "metadata": {
        "id": "iovYnxsERP7g"
      },
      "source": [
        "# Try\n",
        "pd.DataFrame(history_base.history).plot(figsize=(8,8))\n",
        "plt.grid()\n",
        "plt.show()"
      ],
      "execution_count": null,
      "outputs": []
    },
    {
      "cell_type": "code",
      "metadata": {
        "id": "4bv072DnIvUM"
      },
      "source": [
        "# Avaliação dp desempenh da CNN\n",
        "def plotAccucaria(history):\n",
        "    epochs = [i for i in range(100)]\n",
        "    fig , ax = plt.subplots(1,2)\n",
        "    train_acc = history_base.history['accuracy']\n",
        "    train_loss = history_base.history['loss']\n",
        "    val_acc = history_base.history['val_accuracy']\n",
        "    val_loss = history_base.history['val_loss']\n",
        "    fig.set_size_inches(20,10)\n",
        "    ax[0].plot(epochs , train_acc , 'b-' , label = 'Acurácia de treinamento')\n",
        "    ax[0].plot(epochs , val_acc , 'g-' , label = 'Acurária de validação')\n",
        "    ax[0].set_title('Acurácia de treinamento e validação')\n",
        "    ax[0].legend()\n",
        "    ax[0].set_xlabel(\"Épocas\")\n",
        "    ax[0].set_ylabel(\"Acurácia\")\n",
        "    ax[0].grid()\n",
        "    ax[1].grid()\n",
        "    ax[1].plot(epochs , train_loss , 'b.-' , label = 'Perda no treinamento')\n",
        "    ax[1].plot(epochs , val_loss , 'r.-' , label = 'Perda na validação')\n",
        "    ax[1].set_title('Perdas no treinamento e validação')\n",
        "    ax[1].legend()\n",
        "    ax[1].set_xlabel(\"Épocas\")\n",
        "    ax[1].set_ylabel(\"Perdas\")\n",
        "    \n",
        "    plt.show()"
      ],
      "execution_count": null,
      "outputs": []
    },
    {
      "cell_type": "code",
      "metadata": {
        "id": "9zjApdOtJVk-"
      },
      "source": [
        "# Usando a função plotAcuracia\n",
        "plotAccucaria(history)"
      ],
      "execution_count": null,
      "outputs": []
    },
    {
      "cell_type": "markdown",
      "metadata": {
        "id": "1TjB_aelKW0d"
      },
      "source": [
        "### Resultados - Com *Transfer Learning*"
      ]
    },
    {
      "cell_type": "code",
      "metadata": {
        "id": "IQtWHgRjxOXN"
      },
      "source": [
        "# Evaluate\n",
        "score = base_model.evaluate(test_images)"
      ],
      "execution_count": null,
      "outputs": []
    },
    {
      "cell_type": "code",
      "metadata": {
        "id": "ml9O2m3DxQDA"
      },
      "source": [
        "print(\"Perda do modelo = \", score[0] * 100, \"%\")\n",
        "print(\"Acurácia do modelo = \", score[1] *100, \"%\")"
      ],
      "execution_count": null,
      "outputs": []
    },
    {
      "cell_type": "code",
      "metadata": {
        "id": "2gD6qqWXxXQy"
      },
      "source": [
        "# Salvando o modelo\n",
        "base_model.save(\"content/xception_TL_epochs100_acc9315.hdf5\")"
      ],
      "execution_count": null,
      "outputs": []
    },
    {
      "cell_type": "code",
      "metadata": {
        "id": "w2m1QlOSKU1V"
      },
      "source": [
        "CLASS_NAMES = list(train_images.class_indices.keys())\n",
        "CLASS_NAMES"
      ],
      "execution_count": null,
      "outputs": []
    },
    {
      "cell_type": "code",
      "metadata": {
        "id": "WF_L1R_vJPvK"
      },
      "source": [
        "predictions = np.argmax(base_model.predict(test_images, verbose=1, steps=65), axis=1)\n",
        "acc = accuracy_score(test_images.labels, predictions)\n",
        "cm = tf.math.confusion_matrix(test_images.labels, predictions)\n",
        "clr = classification_report(test_images.labels, predictions, target_names=CLASS_NAMES)\n",
        "\n",
        "print(\"Test Accuracy: {:.3f}%\".format(acc * 100))"
      ],
      "execution_count": null,
      "outputs": []
    },
    {
      "cell_type": "code",
      "metadata": {
        "id": "x1jfjKDqMUms"
      },
      "source": [
        "plt.figure(figsize=(8, 8))\n",
        "sns.heatmap(cm, annot=True, fmt='g', vmin=0, cmap='Blues', cbar=False, linecolor = 'black', linewidth = 1)\n",
        "plt.xticks(ticks= np.arange(5) + 0.5, labels=CLASS_NAMES)\n",
        "plt.yticks(ticks= np.arange(5) + 0.5, labels=CLASS_NAMES)\n",
        "\n",
        "plt.xlabel(\"Classes previstas\")\n",
        "plt.ylabel(\"Classes reais\")\n",
        "\n",
        "plt.title(\"Matriz de confusão\")\n",
        "plt.show()\n",
        "\n",
        "print(\"Relatório de classificação:\\n----------------------\\n\", clr)"
      ],
      "execution_count": null,
      "outputs": []
    },
    {
      "cell_type": "code",
      "metadata": {
        "id": "RuA6yoNWcvB6"
      },
      "source": [
        "CLASS_NAMES = list(train_images.class_indices.keys())\n",
        "CLASS_NAMES"
      ],
      "execution_count": null,
      "outputs": []
    },
    {
      "cell_type": "markdown",
      "metadata": {
        "id": "f2sSgND4m0-S"
      },
      "source": [
        "## Xception Model"
      ]
    },
    {
      "cell_type": "code",
      "metadata": {
        "id": "2fhBL4Ftn7a8"
      },
      "source": [
        "from keras.models import Model\n",
        "from keras import layers\n",
        "from keras.layers import Dense, Input, BatchNormalization, Activation\n",
        "from keras.layers import Conv2D, SeparableConv2D, MaxPooling2D, GlobalAveragePooling2D, GlobalMaxPooling2D\n",
        "from keras.utils.data_utils import get_file"
      ],
      "execution_count": null,
      "outputs": []
    },
    {
      "cell_type": "code",
      "metadata": {
        "id": "N894wjr6m4EA"
      },
      "source": [
        "def Xception():\n",
        "\n",
        "\timg_input = Input(shape=(150,150,3))\n",
        "\n",
        "\t# Block 1\n",
        "\tx = Conv2D(32, (3, 3), strides=(2, 2), use_bias=False)(img_input)\n",
        "\tx = BatchNormalization()(x)\n",
        "\tx = Activation('relu')(x)\n",
        "\tx = Conv2D(64, (3, 3), use_bias=False)(x)\n",
        "\tx = BatchNormalization()(x)\n",
        "\tx = Activation('relu')(x)\n",
        "\n",
        "\tresidual = Conv2D(128, (1, 1), strides=(2, 2), padding='same', use_bias=False)(x)\n",
        "\tresidual = BatchNormalization()(residual)\n",
        "\n",
        "\t# Block 2\n",
        "\tx = SeparableConv2D(128, (3, 3), padding='same', use_bias=False)(x)\n",
        "\tx = BatchNormalization()(x)\n",
        "\tx = Activation('relu')(x)\n",
        "\tx = SeparableConv2D(128, (3, 3), padding='same', use_bias=False)(x)\n",
        "\tx = BatchNormalization()(x)\n",
        "\n",
        "\t# Block 2 Pool\n",
        "\tx = MaxPooling2D((3, 3), strides=(2, 2), padding='same')(x)\n",
        "\tx = layers.add([x, residual])\n",
        "\n",
        "\tresidual = Conv2D(256, (1, 1), strides=(2, 2), padding='same', use_bias=False)(x)\n",
        "\tresidual = BatchNormalization()(residual)\n",
        "\n",
        "\t# Block 3\n",
        "\tx = Activation('relu')(x)\n",
        "\tx = SeparableConv2D(256, (3, 3), padding='same', use_bias=False)(x)\n",
        "\tx = BatchNormalization()(x)\n",
        "\tx = Activation('relu')(x)\n",
        "\tx = SeparableConv2D(256, (3, 3), padding='same', use_bias=False)(x)\n",
        "\tx = BatchNormalization()(x)\n",
        "\n",
        "\t# Block 3 Pool\n",
        "\tx = MaxPooling2D((3, 3), strides=(2, 2), padding='same')(x)\n",
        "\tx = layers.add([x, residual])\n",
        "\n",
        "\tresidual = Conv2D(728, (1, 1), strides=(2, 2), padding='same', use_bias=False)(x)\n",
        "\tresidual = BatchNormalization()(residual)\n",
        "\n",
        "\t# Block 4\n",
        "\tx = Activation('relu')(x)\n",
        "\tx = SeparableConv2D(728, (3, 3), padding='same', use_bias=False)(x)\n",
        "\tx = BatchNormalization()(x)\n",
        "\tx = Activation('relu')(x)\n",
        "\tx = SeparableConv2D(728, (3, 3), padding='same', use_bias=False)(x)\n",
        "\tx = BatchNormalization()(x)\n",
        "\n",
        "\tx = MaxPooling2D((3, 3), strides=(2, 2), padding='same')(x)\n",
        "\tx = layers.add([x, residual])\n",
        "\n",
        "\t# Block 5 - 12\n",
        "\tfor i in range(8):\n",
        "\t\tresidual = x\n",
        "\n",
        "\t\tx = Activation('relu')(x)\n",
        "\t\tx = SeparableConv2D(728, (3, 3), padding='same', use_bias=False)(x)\n",
        "\t\tx = BatchNormalization()(x)\n",
        "\t\tx = Activation('relu')(x)\n",
        "\t\tx = SeparableConv2D(728, (3, 3), padding='same', use_bias=False)(x)\n",
        "\t\tx = BatchNormalization()(x)\n",
        "\t\tx = Activation('relu')(x)\n",
        "\t\tx = SeparableConv2D(728, (3, 3), padding='same', use_bias=False)(x)\n",
        "\t\tx = BatchNormalization()(x)\n",
        "\n",
        "\t\tx = layers.add([x, residual])\n",
        "\n",
        "\tresidual = Conv2D(1024, (1, 1), strides=(2, 2), padding='same', use_bias=False)(x)\n",
        "\tresidual = BatchNormalization()(residual)\n",
        "\n",
        "\t# Block 13\n",
        "\tx = Activation('relu')(x)\n",
        "\tx = SeparableConv2D(728, (3, 3), padding='same', use_bias=False)(x)\n",
        "\tx = BatchNormalization()(x)\n",
        "\tx = Activation('relu')(x)\n",
        "\tx = SeparableConv2D(1024, (3, 3), padding='same', use_bias=False)(x)\n",
        "\tx = BatchNormalization()(x)\n",
        "\n",
        "\t# Block 13 Pool\n",
        "\tx = MaxPooling2D((3, 3), strides=(2, 2), padding='same')(x)\n",
        "\tx = layers.add([x, residual])\n",
        "\n",
        "\t# Block 14\n",
        "\tx = SeparableConv2D(1536, (3, 3), padding='same', use_bias=False)(x)\n",
        "\tx = BatchNormalization()(x)\n",
        "\tx = Activation('relu')(x)\n",
        "\n",
        "\t# Block 14 part 2\n",
        "\tx = SeparableConv2D(2048, (3, 3), padding='same', use_bias=False)(x)\n",
        "\tx = BatchNormalization()(x)\n",
        "\tx = Activation('relu')(x)\n",
        "\n",
        "\t# Fully Connected Layer\n",
        "\tx = GlobalAveragePooling2D()(x)\n",
        "\tx = Dense(5, activation='softmax')(x)\n",
        "\n",
        "\tinputs = img_input\n",
        "\n",
        "\t# Create model\n",
        "\tmodel = Model(inputs, x, name='xception')\n",
        "\n",
        "\t# Download and cache the Xception weights file\n",
        "\t# weights_path = get_file('xception_weights.h5', WEIGHTS_PATH, cache_subdir='models')\n",
        "\n",
        "\t# load weights\n",
        "\t# model.load_weights(weights_path)\n",
        "\n",
        "\treturn model"
      ],
      "execution_count": null,
      "outputs": []
    },
    {
      "cell_type": "code",
      "metadata": {
        "id": "YwFp5KTvTOYw"
      },
      "source": [
        "# Instanciando o modelo\n",
        "model = Xception()"
      ],
      "execution_count": null,
      "outputs": []
    },
    {
      "cell_type": "code",
      "metadata": {
        "id": "bbxMl4gwoohC",
        "collapsed": true,
        "colab": {
          "base_uri": "https://localhost:8080/"
        },
        "outputId": "bd82c362-7476-433a-8e40-2f4ca432727e"
      },
      "source": [
        "%%time\n",
        "model.compile(optimizer = 'adam', loss = 'categorical_crossentropy', metrics = ['accuracy'])\n",
        "model.summary()\n",
        "\n",
        "# Callback\n",
        "checkpoint = ModelCheckpoint(filepath='/content/model_propose_20210807_epochs20.hdf5', save_best_only=True, save_weights_only=False)\n",
        "#early_stop = EarlyStopping(monitor='val_loss', min_delta=0.1, patience=3, verbose = 1, mode='min', restore_best_weights = True)"
      ],
      "execution_count": null,
      "outputs": [
        {
          "output_type": "stream",
          "text": [
            "Model: \"xception\"\n",
            "__________________________________________________________________________________________________\n",
            "Layer (type)                    Output Shape         Param #     Connected to                     \n",
            "==================================================================================================\n",
            "input_3 (InputLayer)            [(None, 150, 150, 3) 0                                            \n",
            "__________________________________________________________________________________________________\n",
            "conv2d_12 (Conv2D)              (None, 74, 74, 32)   864         input_3[0][0]                    \n",
            "__________________________________________________________________________________________________\n",
            "batch_normalization_80 (BatchNo (None, 74, 74, 32)   128         conv2d_12[0][0]                  \n",
            "__________________________________________________________________________________________________\n",
            "activation_70 (Activation)      (None, 74, 74, 32)   0           batch_normalization_80[0][0]     \n",
            "__________________________________________________________________________________________________\n",
            "conv2d_13 (Conv2D)              (None, 72, 72, 64)   18432       activation_70[0][0]              \n",
            "__________________________________________________________________________________________________\n",
            "batch_normalization_81 (BatchNo (None, 72, 72, 64)   256         conv2d_13[0][0]                  \n",
            "__________________________________________________________________________________________________\n",
            "activation_71 (Activation)      (None, 72, 72, 64)   0           batch_normalization_81[0][0]     \n",
            "__________________________________________________________________________________________________\n",
            "separable_conv2d_68 (SeparableC (None, 72, 72, 128)  8768        activation_71[0][0]              \n",
            "__________________________________________________________________________________________________\n",
            "batch_normalization_83 (BatchNo (None, 72, 72, 128)  512         separable_conv2d_68[0][0]        \n",
            "__________________________________________________________________________________________________\n",
            "activation_72 (Activation)      (None, 72, 72, 128)  0           batch_normalization_83[0][0]     \n",
            "__________________________________________________________________________________________________\n",
            "separable_conv2d_69 (SeparableC (None, 72, 72, 128)  17536       activation_72[0][0]              \n",
            "__________________________________________________________________________________________________\n",
            "batch_normalization_84 (BatchNo (None, 72, 72, 128)  512         separable_conv2d_69[0][0]        \n",
            "__________________________________________________________________________________________________\n",
            "conv2d_14 (Conv2D)              (None, 36, 36, 128)  8192        activation_71[0][0]              \n",
            "__________________________________________________________________________________________________\n",
            "max_pooling2d_8 (MaxPooling2D)  (None, 36, 36, 128)  0           batch_normalization_84[0][0]     \n",
            "__________________________________________________________________________________________________\n",
            "batch_normalization_82 (BatchNo (None, 36, 36, 128)  512         conv2d_14[0][0]                  \n",
            "__________________________________________________________________________________________________\n",
            "add_24 (Add)                    (None, 36, 36, 128)  0           max_pooling2d_8[0][0]            \n",
            "                                                                 batch_normalization_82[0][0]     \n",
            "__________________________________________________________________________________________________\n",
            "activation_73 (Activation)      (None, 36, 36, 128)  0           add_24[0][0]                     \n",
            "__________________________________________________________________________________________________\n",
            "separable_conv2d_70 (SeparableC (None, 36, 36, 256)  33920       activation_73[0][0]              \n",
            "__________________________________________________________________________________________________\n",
            "batch_normalization_86 (BatchNo (None, 36, 36, 256)  1024        separable_conv2d_70[0][0]        \n",
            "__________________________________________________________________________________________________\n",
            "activation_74 (Activation)      (None, 36, 36, 256)  0           batch_normalization_86[0][0]     \n",
            "__________________________________________________________________________________________________\n",
            "separable_conv2d_71 (SeparableC (None, 36, 36, 256)  67840       activation_74[0][0]              \n",
            "__________________________________________________________________________________________________\n",
            "batch_normalization_87 (BatchNo (None, 36, 36, 256)  1024        separable_conv2d_71[0][0]        \n",
            "__________________________________________________________________________________________________\n",
            "conv2d_15 (Conv2D)              (None, 18, 18, 256)  32768       add_24[0][0]                     \n",
            "__________________________________________________________________________________________________\n",
            "max_pooling2d_9 (MaxPooling2D)  (None, 18, 18, 256)  0           batch_normalization_87[0][0]     \n",
            "__________________________________________________________________________________________________\n",
            "batch_normalization_85 (BatchNo (None, 18, 18, 256)  1024        conv2d_15[0][0]                  \n",
            "__________________________________________________________________________________________________\n",
            "add_25 (Add)                    (None, 18, 18, 256)  0           max_pooling2d_9[0][0]            \n",
            "                                                                 batch_normalization_85[0][0]     \n",
            "__________________________________________________________________________________________________\n",
            "activation_75 (Activation)      (None, 18, 18, 256)  0           add_25[0][0]                     \n",
            "__________________________________________________________________________________________________\n",
            "separable_conv2d_72 (SeparableC (None, 18, 18, 728)  188672      activation_75[0][0]              \n",
            "__________________________________________________________________________________________________\n",
            "batch_normalization_89 (BatchNo (None, 18, 18, 728)  2912        separable_conv2d_72[0][0]        \n",
            "__________________________________________________________________________________________________\n",
            "activation_76 (Activation)      (None, 18, 18, 728)  0           batch_normalization_89[0][0]     \n",
            "__________________________________________________________________________________________________\n",
            "separable_conv2d_73 (SeparableC (None, 18, 18, 728)  536536      activation_76[0][0]              \n",
            "__________________________________________________________________________________________________\n",
            "batch_normalization_90 (BatchNo (None, 18, 18, 728)  2912        separable_conv2d_73[0][0]        \n",
            "__________________________________________________________________________________________________\n",
            "conv2d_16 (Conv2D)              (None, 9, 9, 728)    186368      add_25[0][0]                     \n",
            "__________________________________________________________________________________________________\n",
            "max_pooling2d_10 (MaxPooling2D) (None, 9, 9, 728)    0           batch_normalization_90[0][0]     \n",
            "__________________________________________________________________________________________________\n",
            "batch_normalization_88 (BatchNo (None, 9, 9, 728)    2912        conv2d_16[0][0]                  \n",
            "__________________________________________________________________________________________________\n",
            "add_26 (Add)                    (None, 9, 9, 728)    0           max_pooling2d_10[0][0]           \n",
            "                                                                 batch_normalization_88[0][0]     \n",
            "__________________________________________________________________________________________________\n",
            "activation_77 (Activation)      (None, 9, 9, 728)    0           add_26[0][0]                     \n",
            "__________________________________________________________________________________________________\n",
            "separable_conv2d_74 (SeparableC (None, 9, 9, 728)    536536      activation_77[0][0]              \n",
            "__________________________________________________________________________________________________\n",
            "batch_normalization_91 (BatchNo (None, 9, 9, 728)    2912        separable_conv2d_74[0][0]        \n",
            "__________________________________________________________________________________________________\n",
            "activation_78 (Activation)      (None, 9, 9, 728)    0           batch_normalization_91[0][0]     \n",
            "__________________________________________________________________________________________________\n",
            "separable_conv2d_75 (SeparableC (None, 9, 9, 728)    536536      activation_78[0][0]              \n",
            "__________________________________________________________________________________________________\n",
            "batch_normalization_92 (BatchNo (None, 9, 9, 728)    2912        separable_conv2d_75[0][0]        \n",
            "__________________________________________________________________________________________________\n",
            "activation_79 (Activation)      (None, 9, 9, 728)    0           batch_normalization_92[0][0]     \n",
            "__________________________________________________________________________________________________\n",
            "separable_conv2d_76 (SeparableC (None, 9, 9, 728)    536536      activation_79[0][0]              \n",
            "__________________________________________________________________________________________________\n",
            "batch_normalization_93 (BatchNo (None, 9, 9, 728)    2912        separable_conv2d_76[0][0]        \n",
            "__________________________________________________________________________________________________\n",
            "add_27 (Add)                    (None, 9, 9, 728)    0           batch_normalization_93[0][0]     \n",
            "                                                                 add_26[0][0]                     \n",
            "__________________________________________________________________________________________________\n",
            "activation_80 (Activation)      (None, 9, 9, 728)    0           add_27[0][0]                     \n",
            "__________________________________________________________________________________________________\n",
            "separable_conv2d_77 (SeparableC (None, 9, 9, 728)    536536      activation_80[0][0]              \n",
            "__________________________________________________________________________________________________\n",
            "batch_normalization_94 (BatchNo (None, 9, 9, 728)    2912        separable_conv2d_77[0][0]        \n",
            "__________________________________________________________________________________________________\n",
            "activation_81 (Activation)      (None, 9, 9, 728)    0           batch_normalization_94[0][0]     \n",
            "__________________________________________________________________________________________________\n",
            "separable_conv2d_78 (SeparableC (None, 9, 9, 728)    536536      activation_81[0][0]              \n",
            "__________________________________________________________________________________________________\n",
            "batch_normalization_95 (BatchNo (None, 9, 9, 728)    2912        separable_conv2d_78[0][0]        \n",
            "__________________________________________________________________________________________________\n",
            "activation_82 (Activation)      (None, 9, 9, 728)    0           batch_normalization_95[0][0]     \n",
            "__________________________________________________________________________________________________\n",
            "separable_conv2d_79 (SeparableC (None, 9, 9, 728)    536536      activation_82[0][0]              \n",
            "__________________________________________________________________________________________________\n",
            "batch_normalization_96 (BatchNo (None, 9, 9, 728)    2912        separable_conv2d_79[0][0]        \n",
            "__________________________________________________________________________________________________\n",
            "add_28 (Add)                    (None, 9, 9, 728)    0           batch_normalization_96[0][0]     \n",
            "                                                                 add_27[0][0]                     \n",
            "__________________________________________________________________________________________________\n",
            "activation_83 (Activation)      (None, 9, 9, 728)    0           add_28[0][0]                     \n",
            "__________________________________________________________________________________________________\n",
            "separable_conv2d_80 (SeparableC (None, 9, 9, 728)    536536      activation_83[0][0]              \n",
            "__________________________________________________________________________________________________\n",
            "batch_normalization_97 (BatchNo (None, 9, 9, 728)    2912        separable_conv2d_80[0][0]        \n",
            "__________________________________________________________________________________________________\n",
            "activation_84 (Activation)      (None, 9, 9, 728)    0           batch_normalization_97[0][0]     \n",
            "__________________________________________________________________________________________________\n",
            "separable_conv2d_81 (SeparableC (None, 9, 9, 728)    536536      activation_84[0][0]              \n",
            "__________________________________________________________________________________________________\n",
            "batch_normalization_98 (BatchNo (None, 9, 9, 728)    2912        separable_conv2d_81[0][0]        \n",
            "__________________________________________________________________________________________________\n",
            "activation_85 (Activation)      (None, 9, 9, 728)    0           batch_normalization_98[0][0]     \n",
            "__________________________________________________________________________________________________\n",
            "separable_conv2d_82 (SeparableC (None, 9, 9, 728)    536536      activation_85[0][0]              \n",
            "__________________________________________________________________________________________________\n",
            "batch_normalization_99 (BatchNo (None, 9, 9, 728)    2912        separable_conv2d_82[0][0]        \n",
            "__________________________________________________________________________________________________\n",
            "add_29 (Add)                    (None, 9, 9, 728)    0           batch_normalization_99[0][0]     \n",
            "                                                                 add_28[0][0]                     \n",
            "__________________________________________________________________________________________________\n",
            "activation_86 (Activation)      (None, 9, 9, 728)    0           add_29[0][0]                     \n",
            "__________________________________________________________________________________________________\n",
            "separable_conv2d_83 (SeparableC (None, 9, 9, 728)    536536      activation_86[0][0]              \n",
            "__________________________________________________________________________________________________\n",
            "batch_normalization_100 (BatchN (None, 9, 9, 728)    2912        separable_conv2d_83[0][0]        \n",
            "__________________________________________________________________________________________________\n",
            "activation_87 (Activation)      (None, 9, 9, 728)    0           batch_normalization_100[0][0]    \n",
            "__________________________________________________________________________________________________\n",
            "separable_conv2d_84 (SeparableC (None, 9, 9, 728)    536536      activation_87[0][0]              \n",
            "__________________________________________________________________________________________________\n",
            "batch_normalization_101 (BatchN (None, 9, 9, 728)    2912        separable_conv2d_84[0][0]        \n",
            "__________________________________________________________________________________________________\n",
            "activation_88 (Activation)      (None, 9, 9, 728)    0           batch_normalization_101[0][0]    \n",
            "__________________________________________________________________________________________________\n",
            "separable_conv2d_85 (SeparableC (None, 9, 9, 728)    536536      activation_88[0][0]              \n",
            "__________________________________________________________________________________________________\n",
            "batch_normalization_102 (BatchN (None, 9, 9, 728)    2912        separable_conv2d_85[0][0]        \n",
            "__________________________________________________________________________________________________\n",
            "add_30 (Add)                    (None, 9, 9, 728)    0           batch_normalization_102[0][0]    \n",
            "                                                                 add_29[0][0]                     \n",
            "__________________________________________________________________________________________________\n",
            "activation_89 (Activation)      (None, 9, 9, 728)    0           add_30[0][0]                     \n",
            "__________________________________________________________________________________________________\n",
            "separable_conv2d_86 (SeparableC (None, 9, 9, 728)    536536      activation_89[0][0]              \n",
            "__________________________________________________________________________________________________\n",
            "batch_normalization_103 (BatchN (None, 9, 9, 728)    2912        separable_conv2d_86[0][0]        \n",
            "__________________________________________________________________________________________________\n",
            "activation_90 (Activation)      (None, 9, 9, 728)    0           batch_normalization_103[0][0]    \n",
            "__________________________________________________________________________________________________\n",
            "separable_conv2d_87 (SeparableC (None, 9, 9, 728)    536536      activation_90[0][0]              \n",
            "__________________________________________________________________________________________________\n",
            "batch_normalization_104 (BatchN (None, 9, 9, 728)    2912        separable_conv2d_87[0][0]        \n",
            "__________________________________________________________________________________________________\n",
            "activation_91 (Activation)      (None, 9, 9, 728)    0           batch_normalization_104[0][0]    \n",
            "__________________________________________________________________________________________________\n",
            "separable_conv2d_88 (SeparableC (None, 9, 9, 728)    536536      activation_91[0][0]              \n",
            "__________________________________________________________________________________________________\n",
            "batch_normalization_105 (BatchN (None, 9, 9, 728)    2912        separable_conv2d_88[0][0]        \n",
            "__________________________________________________________________________________________________\n",
            "add_31 (Add)                    (None, 9, 9, 728)    0           batch_normalization_105[0][0]    \n",
            "                                                                 add_30[0][0]                     \n",
            "__________________________________________________________________________________________________\n",
            "activation_92 (Activation)      (None, 9, 9, 728)    0           add_31[0][0]                     \n",
            "__________________________________________________________________________________________________\n",
            "separable_conv2d_89 (SeparableC (None, 9, 9, 728)    536536      activation_92[0][0]              \n",
            "__________________________________________________________________________________________________\n",
            "batch_normalization_106 (BatchN (None, 9, 9, 728)    2912        separable_conv2d_89[0][0]        \n",
            "__________________________________________________________________________________________________\n",
            "activation_93 (Activation)      (None, 9, 9, 728)    0           batch_normalization_106[0][0]    \n",
            "__________________________________________________________________________________________________\n",
            "separable_conv2d_90 (SeparableC (None, 9, 9, 728)    536536      activation_93[0][0]              \n",
            "__________________________________________________________________________________________________\n",
            "batch_normalization_107 (BatchN (None, 9, 9, 728)    2912        separable_conv2d_90[0][0]        \n",
            "__________________________________________________________________________________________________\n",
            "activation_94 (Activation)      (None, 9, 9, 728)    0           batch_normalization_107[0][0]    \n",
            "__________________________________________________________________________________________________\n",
            "separable_conv2d_91 (SeparableC (None, 9, 9, 728)    536536      activation_94[0][0]              \n",
            "__________________________________________________________________________________________________\n",
            "batch_normalization_108 (BatchN (None, 9, 9, 728)    2912        separable_conv2d_91[0][0]        \n",
            "__________________________________________________________________________________________________\n",
            "add_32 (Add)                    (None, 9, 9, 728)    0           batch_normalization_108[0][0]    \n",
            "                                                                 add_31[0][0]                     \n",
            "__________________________________________________________________________________________________\n",
            "activation_95 (Activation)      (None, 9, 9, 728)    0           add_32[0][0]                     \n",
            "__________________________________________________________________________________________________\n",
            "separable_conv2d_92 (SeparableC (None, 9, 9, 728)    536536      activation_95[0][0]              \n",
            "__________________________________________________________________________________________________\n",
            "batch_normalization_109 (BatchN (None, 9, 9, 728)    2912        separable_conv2d_92[0][0]        \n",
            "__________________________________________________________________________________________________\n",
            "activation_96 (Activation)      (None, 9, 9, 728)    0           batch_normalization_109[0][0]    \n",
            "__________________________________________________________________________________________________\n",
            "separable_conv2d_93 (SeparableC (None, 9, 9, 728)    536536      activation_96[0][0]              \n",
            "__________________________________________________________________________________________________\n",
            "batch_normalization_110 (BatchN (None, 9, 9, 728)    2912        separable_conv2d_93[0][0]        \n",
            "__________________________________________________________________________________________________\n",
            "activation_97 (Activation)      (None, 9, 9, 728)    0           batch_normalization_110[0][0]    \n",
            "__________________________________________________________________________________________________\n",
            "separable_conv2d_94 (SeparableC (None, 9, 9, 728)    536536      activation_97[0][0]              \n",
            "__________________________________________________________________________________________________\n",
            "batch_normalization_111 (BatchN (None, 9, 9, 728)    2912        separable_conv2d_94[0][0]        \n",
            "__________________________________________________________________________________________________\n",
            "add_33 (Add)                    (None, 9, 9, 728)    0           batch_normalization_111[0][0]    \n",
            "                                                                 add_32[0][0]                     \n",
            "__________________________________________________________________________________________________\n",
            "activation_98 (Activation)      (None, 9, 9, 728)    0           add_33[0][0]                     \n",
            "__________________________________________________________________________________________________\n",
            "separable_conv2d_95 (SeparableC (None, 9, 9, 728)    536536      activation_98[0][0]              \n",
            "__________________________________________________________________________________________________\n",
            "batch_normalization_112 (BatchN (None, 9, 9, 728)    2912        separable_conv2d_95[0][0]        \n",
            "__________________________________________________________________________________________________\n",
            "activation_99 (Activation)      (None, 9, 9, 728)    0           batch_normalization_112[0][0]    \n",
            "__________________________________________________________________________________________________\n",
            "separable_conv2d_96 (SeparableC (None, 9, 9, 728)    536536      activation_99[0][0]              \n",
            "__________________________________________________________________________________________________\n",
            "batch_normalization_113 (BatchN (None, 9, 9, 728)    2912        separable_conv2d_96[0][0]        \n",
            "__________________________________________________________________________________________________\n",
            "activation_100 (Activation)     (None, 9, 9, 728)    0           batch_normalization_113[0][0]    \n",
            "__________________________________________________________________________________________________\n",
            "separable_conv2d_97 (SeparableC (None, 9, 9, 728)    536536      activation_100[0][0]             \n",
            "__________________________________________________________________________________________________\n",
            "batch_normalization_114 (BatchN (None, 9, 9, 728)    2912        separable_conv2d_97[0][0]        \n",
            "__________________________________________________________________________________________________\n",
            "add_34 (Add)                    (None, 9, 9, 728)    0           batch_normalization_114[0][0]    \n",
            "                                                                 add_33[0][0]                     \n",
            "__________________________________________________________________________________________________\n",
            "activation_101 (Activation)     (None, 9, 9, 728)    0           add_34[0][0]                     \n",
            "__________________________________________________________________________________________________\n",
            "separable_conv2d_98 (SeparableC (None, 9, 9, 728)    536536      activation_101[0][0]             \n",
            "__________________________________________________________________________________________________\n",
            "batch_normalization_116 (BatchN (None, 9, 9, 728)    2912        separable_conv2d_98[0][0]        \n",
            "__________________________________________________________________________________________________\n",
            "activation_102 (Activation)     (None, 9, 9, 728)    0           batch_normalization_116[0][0]    \n",
            "__________________________________________________________________________________________________\n",
            "separable_conv2d_99 (SeparableC (None, 9, 9, 1024)   752024      activation_102[0][0]             \n",
            "__________________________________________________________________________________________________\n",
            "batch_normalization_117 (BatchN (None, 9, 9, 1024)   4096        separable_conv2d_99[0][0]        \n",
            "__________________________________________________________________________________________________\n",
            "conv2d_17 (Conv2D)              (None, 5, 5, 1024)   745472      add_34[0][0]                     \n",
            "__________________________________________________________________________________________________\n",
            "max_pooling2d_11 (MaxPooling2D) (None, 5, 5, 1024)   0           batch_normalization_117[0][0]    \n",
            "__________________________________________________________________________________________________\n",
            "batch_normalization_115 (BatchN (None, 5, 5, 1024)   4096        conv2d_17[0][0]                  \n",
            "__________________________________________________________________________________________________\n",
            "add_35 (Add)                    (None, 5, 5, 1024)   0           max_pooling2d_11[0][0]           \n",
            "                                                                 batch_normalization_115[0][0]    \n",
            "__________________________________________________________________________________________________\n",
            "separable_conv2d_100 (Separable (None, 5, 5, 1536)   1582080     add_35[0][0]                     \n",
            "__________________________________________________________________________________________________\n",
            "batch_normalization_118 (BatchN (None, 5, 5, 1536)   6144        separable_conv2d_100[0][0]       \n",
            "__________________________________________________________________________________________________\n",
            "activation_103 (Activation)     (None, 5, 5, 1536)   0           batch_normalization_118[0][0]    \n",
            "__________________________________________________________________________________________________\n",
            "separable_conv2d_101 (Separable (None, 5, 5, 2048)   3159552     activation_103[0][0]             \n",
            "__________________________________________________________________________________________________\n",
            "batch_normalization_119 (BatchN (None, 5, 5, 2048)   8192        separable_conv2d_101[0][0]       \n",
            "__________________________________________________________________________________________________\n",
            "activation_104 (Activation)     (None, 5, 5, 2048)   0           batch_normalization_119[0][0]    \n",
            "__________________________________________________________________________________________________\n",
            "global_average_pooling2d_2 (Glo (None, 2048)         0           activation_104[0][0]             \n",
            "__________________________________________________________________________________________________\n",
            "dense_2 (Dense)                 (None, 5)            10245       global_average_pooling2d_2[0][0] \n",
            "==================================================================================================\n",
            "Total params: 20,871,725\n",
            "Trainable params: 20,817,197\n",
            "Non-trainable params: 54,528\n",
            "__________________________________________________________________________________________________\n",
            "CPU times: user 49.5 ms, sys: 13.2 ms, total: 62.7 ms\n",
            "Wall time: 51.6 ms\n"
          ],
          "name": "stdout"
        }
      ]
    },
    {
      "cell_type": "code",
      "metadata": {
        "id": "-eafyIfgThzJ",
        "colab": {
          "base_uri": "https://localhost:8080/"
        },
        "collapsed": true,
        "outputId": "1985cdcd-8e32-4131-e573-caa080d4e50f"
      },
      "source": [
        "# Treinamento\n",
        "%%time\n",
        "history = model.fit(\n",
        "    train_images,\n",
        "    steps_per_epoch=train_images.samples // train_images.batch_size,\n",
        "    epochs=100,\n",
        "    validation_data=val_images,\n",
        "    validation_steps=val_images.samples // val_images.batch_size\n",
        "    )"
      ],
      "execution_count": null,
      "outputs": [
        {
          "output_type": "stream",
          "text": [
            "Epoch 1/100\n",
            "206/206 [==============================] - 52s 215ms/step - loss: 0.4075 - accuracy: 0.8480 - val_loss: 2.0249 - val_accuracy: 0.1183\n",
            "Epoch 2/100\n",
            "206/206 [==============================] - 42s 204ms/step - loss: 0.1100 - accuracy: 0.9683 - val_loss: 4.5353 - val_accuracy: 0.1385\n",
            "Epoch 3/100\n",
            "206/206 [==============================] - 42s 204ms/step - loss: 0.0555 - accuracy: 0.9831 - val_loss: 1.2678 - val_accuracy: 0.8554\n",
            "Epoch 4/100\n",
            "206/206 [==============================] - 42s 204ms/step - loss: 0.0651 - accuracy: 0.9803 - val_loss: 12.4391 - val_accuracy: 0.3088\n",
            "Epoch 5/100\n",
            "206/206 [==============================] - 42s 204ms/step - loss: 0.0400 - accuracy: 0.9879 - val_loss: 13.9376 - val_accuracy: 0.2175\n",
            "Epoch 6/100\n",
            "206/206 [==============================] - 42s 204ms/step - loss: 0.0842 - accuracy: 0.9742 - val_loss: 1.5383 - val_accuracy: 0.8051\n",
            "Epoch 7/100\n",
            "206/206 [==============================] - 42s 204ms/step - loss: 0.0441 - accuracy: 0.9825 - val_loss: 0.3790 - val_accuracy: 0.9007\n",
            "Epoch 8/100\n",
            "206/206 [==============================] - 42s 204ms/step - loss: 0.0326 - accuracy: 0.9899 - val_loss: 0.2117 - val_accuracy: 0.9375\n",
            "Epoch 9/100\n",
            "206/206 [==============================] - 42s 204ms/step - loss: 0.0485 - accuracy: 0.9837 - val_loss: 2.7172 - val_accuracy: 0.7181\n",
            "Epoch 10/100\n",
            "206/206 [==============================] - 42s 203ms/step - loss: 0.0326 - accuracy: 0.9914 - val_loss: 0.6912 - val_accuracy: 0.8284\n",
            "Epoch 11/100\n",
            "206/206 [==============================] - 42s 203ms/step - loss: 0.0244 - accuracy: 0.9909 - val_loss: 2.9904 - val_accuracy: 0.6887\n",
            "Epoch 12/100\n",
            "206/206 [==============================] - 42s 204ms/step - loss: 0.0304 - accuracy: 0.9908 - val_loss: 0.0693 - val_accuracy: 0.9786\n",
            "Epoch 13/100\n",
            "206/206 [==============================] - 42s 203ms/step - loss: 0.0191 - accuracy: 0.9937 - val_loss: 0.3598 - val_accuracy: 0.9044\n",
            "Epoch 14/100\n",
            "206/206 [==============================] - 42s 204ms/step - loss: 0.0175 - accuracy: 0.9941 - val_loss: 0.5701 - val_accuracy: 0.8713\n",
            "Epoch 15/100\n",
            "206/206 [==============================] - 42s 203ms/step - loss: 0.0213 - accuracy: 0.9929 - val_loss: 2.1679 - val_accuracy: 0.7849\n",
            "Epoch 16/100\n",
            "206/206 [==============================] - 42s 203ms/step - loss: 0.0602 - accuracy: 0.9791 - val_loss: 5.0621 - val_accuracy: 0.5803\n",
            "Epoch 17/100\n",
            "206/206 [==============================] - 42s 204ms/step - loss: 0.0179 - accuracy: 0.9958 - val_loss: 7.9440 - val_accuracy: 0.5999\n",
            "Epoch 18/100\n",
            "206/206 [==============================] - 42s 203ms/step - loss: 0.0247 - accuracy: 0.9917 - val_loss: 0.0950 - val_accuracy: 0.9706\n",
            "Epoch 19/100\n",
            "206/206 [==============================] - 42s 203ms/step - loss: 0.0110 - accuracy: 0.9966 - val_loss: 0.3887 - val_accuracy: 0.9161\n",
            "Epoch 20/100\n",
            "206/206 [==============================] - 42s 204ms/step - loss: 0.0129 - accuracy: 0.9964 - val_loss: 0.0568 - val_accuracy: 0.9828\n",
            "Epoch 21/100\n",
            "206/206 [==============================] - 42s 203ms/step - loss: 0.0107 - accuracy: 0.9956 - val_loss: 0.3288 - val_accuracy: 0.9234\n",
            "Epoch 22/100\n",
            "206/206 [==============================] - 42s 203ms/step - loss: 0.0265 - accuracy: 0.9911 - val_loss: 0.2554 - val_accuracy: 0.9412\n",
            "Epoch 23/100\n",
            "206/206 [==============================] - 42s 204ms/step - loss: 0.0104 - accuracy: 0.9960 - val_loss: 0.0527 - val_accuracy: 0.9877\n",
            "Epoch 24/100\n",
            "206/206 [==============================] - 42s 203ms/step - loss: 0.0124 - accuracy: 0.9951 - val_loss: 2.5548 - val_accuracy: 0.6648\n",
            "Epoch 25/100\n",
            "206/206 [==============================] - 42s 203ms/step - loss: 0.0166 - accuracy: 0.9936 - val_loss: 0.0577 - val_accuracy: 0.9828\n",
            "Epoch 26/100\n",
            "206/206 [==============================] - 42s 203ms/step - loss: 0.0083 - accuracy: 0.9971 - val_loss: 0.1151 - val_accuracy: 0.9688\n",
            "Epoch 27/100\n",
            "206/206 [==============================] - 42s 203ms/step - loss: 0.0096 - accuracy: 0.9972 - val_loss: 0.0870 - val_accuracy: 0.9786\n",
            "Epoch 28/100\n",
            "206/206 [==============================] - 42s 203ms/step - loss: 0.0181 - accuracy: 0.9939 - val_loss: 2.3586 - val_accuracy: 0.6789\n",
            "Epoch 29/100\n",
            "206/206 [==============================] - 42s 203ms/step - loss: 0.0185 - accuracy: 0.9944 - val_loss: 0.1940 - val_accuracy: 0.9559\n",
            "Epoch 30/100\n",
            "206/206 [==============================] - 42s 203ms/step - loss: 0.0105 - accuracy: 0.9968 - val_loss: 0.0551 - val_accuracy: 0.9871\n",
            "Epoch 31/100\n",
            "206/206 [==============================] - 42s 203ms/step - loss: 0.0097 - accuracy: 0.9978 - val_loss: 1.1071 - val_accuracy: 0.8297\n",
            "Epoch 32/100\n",
            "206/206 [==============================] - 42s 203ms/step - loss: 0.0140 - accuracy: 0.9951 - val_loss: 0.1167 - val_accuracy: 0.9724\n",
            "Epoch 33/100\n",
            "206/206 [==============================] - 42s 203ms/step - loss: 0.0164 - accuracy: 0.9941 - val_loss: 0.1417 - val_accuracy: 0.9675\n",
            "Epoch 34/100\n",
            "206/206 [==============================] - 42s 203ms/step - loss: 0.0049 - accuracy: 0.9978 - val_loss: 0.0672 - val_accuracy: 0.9841\n",
            "Epoch 35/100\n",
            "206/206 [==============================] - 42s 203ms/step - loss: 0.0025 - accuracy: 0.9994 - val_loss: 2.6686 - val_accuracy: 0.6789\n",
            "Epoch 36/100\n",
            "206/206 [==============================] - 42s 203ms/step - loss: 0.0080 - accuracy: 0.9975 - val_loss: 0.3852 - val_accuracy: 0.9161\n",
            "Epoch 37/100\n",
            "206/206 [==============================] - 42s 203ms/step - loss: 0.0276 - accuracy: 0.9921 - val_loss: 0.1027 - val_accuracy: 0.9743\n",
            "Epoch 38/100\n",
            "206/206 [==============================] - 42s 203ms/step - loss: 0.0082 - accuracy: 0.9969 - val_loss: 0.0505 - val_accuracy: 0.9884\n",
            "Epoch 39/100\n",
            "206/206 [==============================] - 42s 203ms/step - loss: 0.0023 - accuracy: 0.9990 - val_loss: 0.1183 - val_accuracy: 0.9779\n",
            "Epoch 40/100\n",
            "206/206 [==============================] - 42s 203ms/step - loss: 0.0013 - accuracy: 0.9997 - val_loss: 0.0434 - val_accuracy: 0.9877\n",
            "Epoch 41/100\n",
            "206/206 [==============================] - 42s 203ms/step - loss: 0.0066 - accuracy: 0.9973 - val_loss: 2.3094 - val_accuracy: 0.6826\n",
            "Epoch 42/100\n",
            "206/206 [==============================] - 42s 203ms/step - loss: 0.0352 - accuracy: 0.9910 - val_loss: 0.3836 - val_accuracy: 0.9191\n",
            "Epoch 43/100\n",
            "206/206 [==============================] - 42s 203ms/step - loss: 0.0031 - accuracy: 0.9985 - val_loss: 0.0653 - val_accuracy: 0.9877\n",
            "Epoch 44/100\n",
            "206/206 [==============================] - 42s 203ms/step - loss: 0.0034 - accuracy: 0.9986 - val_loss: 0.3220 - val_accuracy: 0.9363\n",
            "Epoch 45/100\n",
            "206/206 [==============================] - 42s 203ms/step - loss: 0.0356 - accuracy: 0.9904 - val_loss: 0.5148 - val_accuracy: 0.9148\n",
            "Epoch 46/100\n",
            "206/206 [==============================] - 42s 203ms/step - loss: 0.0078 - accuracy: 0.9973 - val_loss: 0.0478 - val_accuracy: 0.9877\n",
            "Epoch 47/100\n",
            "206/206 [==============================] - 42s 203ms/step - loss: 0.0016 - accuracy: 0.9995 - val_loss: 0.0319 - val_accuracy: 0.9902\n",
            "Epoch 48/100\n",
            "206/206 [==============================] - 42s 204ms/step - loss: 2.4987e-04 - accuracy: 1.0000 - val_loss: 0.0306 - val_accuracy: 0.9914\n",
            "Epoch 49/100\n",
            "206/206 [==============================] - 42s 203ms/step - loss: 0.0072 - accuracy: 0.9972 - val_loss: 0.1132 - val_accuracy: 0.9786\n",
            "Epoch 50/100\n",
            "206/206 [==============================] - 42s 204ms/step - loss: 0.0102 - accuracy: 0.9965 - val_loss: 0.0943 - val_accuracy: 0.9730\n",
            "Epoch 51/100\n",
            "206/206 [==============================] - 42s 203ms/step - loss: 0.0059 - accuracy: 0.9971 - val_loss: 0.3659 - val_accuracy: 0.9295\n",
            "Epoch 52/100\n",
            "206/206 [==============================] - 42s 203ms/step - loss: 0.0040 - accuracy: 0.9986 - val_loss: 0.0461 - val_accuracy: 0.9859\n",
            "Epoch 53/100\n",
            "206/206 [==============================] - 42s 203ms/step - loss: 0.0072 - accuracy: 0.9967 - val_loss: 0.1863 - val_accuracy: 0.9638\n",
            "Epoch 54/100\n",
            "206/206 [==============================] - 42s 203ms/step - loss: 0.0064 - accuracy: 0.9985 - val_loss: 0.1007 - val_accuracy: 0.9786\n",
            "Epoch 55/100\n",
            "206/206 [==============================] - 42s 203ms/step - loss: 0.0045 - accuracy: 0.9991 - val_loss: 0.2195 - val_accuracy: 0.9491\n",
            "Epoch 56/100\n",
            "206/206 [==============================] - 42s 204ms/step - loss: 0.0043 - accuracy: 0.9985 - val_loss: 0.0810 - val_accuracy: 0.9835\n",
            "Epoch 57/100\n",
            "206/206 [==============================] - 42s 203ms/step - loss: 0.0063 - accuracy: 0.9981 - val_loss: 0.0611 - val_accuracy: 0.9810\n",
            "Epoch 58/100\n",
            "206/206 [==============================] - 42s 203ms/step - loss: 0.0036 - accuracy: 0.9989 - val_loss: 0.0274 - val_accuracy: 0.9933\n",
            "Epoch 59/100\n",
            "206/206 [==============================] - 42s 203ms/step - loss: 8.0770e-04 - accuracy: 1.0000 - val_loss: 0.0291 - val_accuracy: 0.9926\n",
            "Epoch 60/100\n",
            "206/206 [==============================] - 42s 203ms/step - loss: 0.0010 - accuracy: 0.9998 - val_loss: 0.0482 - val_accuracy: 0.9884\n",
            "Epoch 61/100\n",
            "206/206 [==============================] - 42s 204ms/step - loss: 0.0168 - accuracy: 0.9960 - val_loss: 0.2570 - val_accuracy: 0.9485\n",
            "Epoch 62/100\n",
            "206/206 [==============================] - 42s 203ms/step - loss: 0.0045 - accuracy: 0.9985 - val_loss: 0.0277 - val_accuracy: 0.9933\n",
            "Epoch 63/100\n",
            "206/206 [==============================] - 42s 203ms/step - loss: 0.0016 - accuracy: 0.9995 - val_loss: 0.1654 - val_accuracy: 0.9596\n",
            "Epoch 64/100\n",
            "206/206 [==============================] - 42s 203ms/step - loss: 0.0296 - accuracy: 0.9925 - val_loss: 0.1347 - val_accuracy: 0.9761\n",
            "Epoch 65/100\n",
            "206/206 [==============================] - 42s 204ms/step - loss: 0.0079 - accuracy: 0.9973 - val_loss: 0.0469 - val_accuracy: 0.9890\n",
            "Epoch 66/100\n",
            "206/206 [==============================] - 42s 203ms/step - loss: 0.0022 - accuracy: 0.9987 - val_loss: 0.2900 - val_accuracy: 0.9338\n",
            "Epoch 67/100\n",
            "206/206 [==============================] - 42s 203ms/step - loss: 0.0063 - accuracy: 0.9969 - val_loss: 0.1191 - val_accuracy: 0.9755\n",
            "Epoch 68/100\n",
            "206/206 [==============================] - 42s 203ms/step - loss: 0.0083 - accuracy: 0.9977 - val_loss: 0.0327 - val_accuracy: 0.9908\n",
            "Epoch 69/100\n",
            "206/206 [==============================] - 42s 204ms/step - loss: 0.0107 - accuracy: 0.9963 - val_loss: 0.0358 - val_accuracy: 0.9896\n",
            "Epoch 70/100\n",
            "206/206 [==============================] - 42s 203ms/step - loss: 0.0015 - accuracy: 0.9996 - val_loss: 0.0254 - val_accuracy: 0.9926\n",
            "Epoch 71/100\n",
            "206/206 [==============================] - 42s 203ms/step - loss: 3.3190e-04 - accuracy: 1.0000 - val_loss: 0.1103 - val_accuracy: 0.9737\n",
            "Epoch 72/100\n",
            "206/206 [==============================] - 42s 204ms/step - loss: 0.0030 - accuracy: 0.9991 - val_loss: 0.1375 - val_accuracy: 0.9675\n",
            "Epoch 73/100\n",
            "206/206 [==============================] - 42s 203ms/step - loss: 0.0121 - accuracy: 0.9961 - val_loss: 0.0318 - val_accuracy: 0.9920\n",
            "Epoch 74/100\n",
            "206/206 [==============================] - 42s 203ms/step - loss: 3.7023e-04 - accuracy: 1.0000 - val_loss: 0.0467 - val_accuracy: 0.9877\n",
            "Epoch 75/100\n",
            "206/206 [==============================] - 42s 203ms/step - loss: 4.6010e-04 - accuracy: 1.0000 - val_loss: 0.0326 - val_accuracy: 0.9914\n",
            "Epoch 76/100\n",
            "206/206 [==============================] - 42s 204ms/step - loss: 3.0616e-04 - accuracy: 1.0000 - val_loss: 0.0245 - val_accuracy: 0.9939\n",
            "Epoch 77/100\n",
            "206/206 [==============================] - 42s 204ms/step - loss: 1.4472e-04 - accuracy: 1.0000 - val_loss: 0.0285 - val_accuracy: 0.9920\n",
            "Epoch 78/100\n",
            "206/206 [==============================] - 42s 203ms/step - loss: 6.2272e-05 - accuracy: 1.0000 - val_loss: 0.0288 - val_accuracy: 0.9920\n",
            "Epoch 79/100\n",
            "206/206 [==============================] - 42s 203ms/step - loss: 9.4127e-05 - accuracy: 1.0000 - val_loss: 0.0388 - val_accuracy: 0.9871\n",
            "Epoch 80/100\n",
            "206/206 [==============================] - 42s 203ms/step - loss: 3.2687e-04 - accuracy: 1.0000 - val_loss: 0.0324 - val_accuracy: 0.9896\n",
            "Epoch 81/100\n",
            "206/206 [==============================] - 42s 203ms/step - loss: 0.0346 - accuracy: 0.9923 - val_loss: 0.8130 - val_accuracy: 0.8382\n",
            "Epoch 82/100\n",
            "206/206 [==============================] - 42s 203ms/step - loss: 0.0098 - accuracy: 0.9974 - val_loss: 0.0375 - val_accuracy: 0.9908\n",
            "Epoch 83/100\n",
            "206/206 [==============================] - 42s 203ms/step - loss: 0.0093 - accuracy: 0.9973 - val_loss: 0.2437 - val_accuracy: 0.9620\n",
            "Epoch 84/100\n",
            "206/206 [==============================] - 42s 203ms/step - loss: 0.0094 - accuracy: 0.9970 - val_loss: 0.0569 - val_accuracy: 0.9835\n",
            "Epoch 85/100\n",
            "206/206 [==============================] - 42s 203ms/step - loss: 0.0036 - accuracy: 0.9988 - val_loss: 0.0319 - val_accuracy: 0.9908\n",
            "Epoch 86/100\n",
            "206/206 [==============================] - 42s 203ms/step - loss: 0.0024 - accuracy: 0.9993 - val_loss: 0.0847 - val_accuracy: 0.9804\n",
            "Epoch 87/100\n",
            "206/206 [==============================] - 42s 203ms/step - loss: 2.6931e-04 - accuracy: 1.0000 - val_loss: 0.0331 - val_accuracy: 0.9908\n",
            "Epoch 88/100\n",
            "206/206 [==============================] - 42s 203ms/step - loss: 0.0011 - accuracy: 0.9997 - val_loss: 0.0428 - val_accuracy: 0.9884\n",
            "Epoch 89/100\n",
            "206/206 [==============================] - 42s 203ms/step - loss: 1.7558e-04 - accuracy: 1.0000 - val_loss: 0.0299 - val_accuracy: 0.9920\n",
            "Epoch 90/100\n",
            "206/206 [==============================] - 42s 203ms/step - loss: 2.9168e-04 - accuracy: 0.9999 - val_loss: 0.0439 - val_accuracy: 0.9908\n",
            "Epoch 91/100\n",
            "206/206 [==============================] - 42s 203ms/step - loss: 5.3096e-04 - accuracy: 1.0000 - val_loss: 0.0440 - val_accuracy: 0.9902\n",
            "Epoch 92/100\n",
            "206/206 [==============================] - 42s 204ms/step - loss: 0.0033 - accuracy: 0.9991 - val_loss: 0.2898 - val_accuracy: 0.9589\n",
            "Epoch 93/100\n",
            "206/206 [==============================] - 42s 203ms/step - loss: 0.0041 - accuracy: 0.9985 - val_loss: 0.0726 - val_accuracy: 0.9828\n",
            "Epoch 94/100\n",
            "206/206 [==============================] - 42s 204ms/step - loss: 0.0129 - accuracy: 0.9959 - val_loss: 0.0447 - val_accuracy: 0.9859\n",
            "Epoch 95/100\n",
            "206/206 [==============================] - 42s 203ms/step - loss: 0.0019 - accuracy: 0.9996 - val_loss: 1.2089 - val_accuracy: 0.8388\n",
            "Epoch 96/100\n",
            "206/206 [==============================] - 42s 203ms/step - loss: 0.0098 - accuracy: 0.9972 - val_loss: 0.1345 - val_accuracy: 0.9724\n",
            "Epoch 97/100\n",
            "206/206 [==============================] - 42s 203ms/step - loss: 0.0038 - accuracy: 0.9986 - val_loss: 0.0351 - val_accuracy: 0.9933\n",
            "Epoch 98/100\n",
            "206/206 [==============================] - 42s 203ms/step - loss: 7.9063e-04 - accuracy: 1.0000 - val_loss: 0.0312 - val_accuracy: 0.9920\n",
            "Epoch 99/100\n",
            "206/206 [==============================] - 42s 203ms/step - loss: 1.6118e-04 - accuracy: 1.0000 - val_loss: 0.0256 - val_accuracy: 0.9926\n",
            "Epoch 100/100\n",
            "206/206 [==============================] - 42s 203ms/step - loss: 0.0075 - accuracy: 0.9978 - val_loss: 0.0907 - val_accuracy: 0.9810\n",
            "CPU times: user 1h 26min 48s, sys: 1min 26s, total: 1h 28min 15s\n",
            "Wall time: 1h 9min 58s\n"
          ],
          "name": "stdout"
        }
      ]
    },
    {
      "cell_type": "markdown",
      "metadata": {
        "id": "I-QQleYP9gfk"
      },
      "source": [
        ""
      ]
    },
    {
      "cell_type": "markdown",
      "metadata": {
        "id": "MolFE4I3xjPG"
      },
      "source": [
        "### Visualização Accuracy / Loss (Arquitetura Proposta)"
      ]
    },
    {
      "cell_type": "code",
      "metadata": {
        "colab": {
          "base_uri": "https://localhost:8080/",
          "height": 513
        },
        "id": "m_jiCL2ZxjPS",
        "outputId": "0eb60065-8783-486d-9047-4ac698adca1c"
      },
      "source": [
        "plt.figure(figsize=(8, 8))\n",
        "loss_train = history.history['accuracy']\n",
        "loss_val = history.history['val_accuracy']\n",
        "epochs = range(0,100)\n",
        "plt.plot(epochs, loss_train, 'b', label='Acurácia de treino')\n",
        "plt.plot(epochs, loss_val, 'g', label='Acurácia de validação')\n",
        "plt.title('Acurácia de treino e validação')\n",
        "plt.xlabel('Epochs')\n",
        "plt.ylabel('Accuracy')\n",
        "plt.legend()\n",
        "plt.grid()\n",
        "plt.show()"
      ],
      "execution_count": null,
      "outputs": [
        {
          "output_type": "display_data",
          "data": {
            "image/png": "[encoded data removed]",
            "text/plain": [
              "<Figure size 576x576 with 1 Axes>"
            ]
          },
          "metadata": {
            "tags": [],
            "needs_background": "light"
          }
        }
      ]
    },
    {
      "cell_type": "code",
      "metadata": {
        "colab": {
          "base_uri": "https://localhost:8080/",
          "height": 483
        },
        "id": "fR8AIvxwxjPS",
        "outputId": "7ee18c35-8110-408a-f598-82323d5e5d6e"
      },
      "source": [
        "pd.DataFrame(history.history).plot(figsize=(8,8))\n",
        "plt.grid()\n",
        "plt.show()"
      ],
      "execution_count": null,
      "outputs": [
        {
          "output_type": "display_data",
          "data": {
            "image/png": "[encoded data removed]",
            "text/plain": [
              "<Figure size 576x576 with 1 Axes>"
            ]
          },
          "metadata": {
            "tags": [],
            "needs_background": "light"
          }
        }
      ]
    },
    {
      "cell_type": "code",
      "metadata": {
        "id": "XntemrqUxjPS"
      },
      "source": [
        "# Avaliação dp desempenh da CNN\n",
        "def plotAccucaria(history):\n",
        "    epochs = [i for i in range(100)]\n",
        "    fig , ax = plt.subplots(1,2)\n",
        "    train_acc = history.history['accuracy']\n",
        "    train_loss = history.history['loss']\n",
        "    val_acc = history.history['val_accuracy']\n",
        "    val_loss = history.history['val_loss']\n",
        "    fig.set_size_inches(20,10)\n",
        "    ax[0].plot(epochs , train_acc , 'b-' , label = 'Acurácia de treinamento')\n",
        "    ax[0].plot(epochs , val_acc , 'g-' , label = 'Acurária de validação')\n",
        "    ax[0].set_title('Acurácia de treinamento e validação')\n",
        "    ax[0].legend()\n",
        "    ax[0].set_xlabel(\"Épocas\")\n",
        "    ax[0].set_ylabel(\"Acurácia\")\n",
        "    ax[0].grid()\n",
        "    ax[1].grid()\n",
        "    ax[1].plot(epochs , train_loss , 'b.-' , label = 'Perda no treinamento')\n",
        "    ax[1].plot(epochs , val_loss , 'r.-' , label = 'Perda na validação')\n",
        "    ax[1].set_title('Perdas no treinamento e validação')\n",
        "    ax[1].legend()\n",
        "    ax[1].set_xlabel(\"Épocas\")\n",
        "    ax[1].set_ylabel(\"Perdas\")\n",
        "    \n",
        "    plt.show()"
      ],
      "execution_count": null,
      "outputs": []
    },
    {
      "cell_type": "code",
      "metadata": {
        "colab": {
          "base_uri": "https://localhost:8080/",
          "height": 624
        },
        "id": "dMwx-WMbxjPS",
        "outputId": "da3c2f50-520c-4963-acb5-a37b9a567c7c"
      },
      "source": [
        "# Usando a função plotAcuracia\n",
        "plotAccucaria(history)"
      ],
      "execution_count": null,
      "outputs": [
        {
          "output_type": "display_data",
          "data": {
            "image/png": "[encoded data removed]",
            "text/plain": [
              "<Figure size 1440x720 with 2 Axes>"
            ]
          },
          "metadata": {
            "tags": [],
            "needs_background": "light"
          }
        }
      ]
    },
    {
      "cell_type": "markdown",
      "metadata": {
        "id": "kyXni0NMN4sy"
      },
      "source": [
        "### Resultados - Arquitetura Xception poposta"
      ]
    },
    {
      "cell_type": "code",
      "metadata": {
        "colab": {
          "base_uri": "https://localhost:8080/"
        },
        "id": "HU-qLDgt3Mv-",
        "outputId": "eda42397-6b90-4f60-bd01-75c33935b9eb"
      },
      "source": [
        "# Evaluate\n",
        "score = model.evaluate(test_images, verbose=1, steps=52)\n",
        "print(\"Perda do modelo = \", score[0] * 100, \"%\")\n",
        "print(\"Acurácia do modelo = \", score[1] *100, \"%\")"
      ],
      "execution_count": null,
      "outputs": [
        {
          "output_type": "stream",
          "text": [
            "52/52 [==============================] - 4s 72ms/step - loss: 0.1661 - accuracy: 0.9720\n"
          ],
          "name": "stdout"
        }
      ]
    },
    {
      "cell_type": "code",
      "metadata": {
        "colab": {
          "base_uri": "https://localhost:8080/"
        },
        "id": "Gdhbg7Pn3dn9",
        "outputId": "c20d9398-ae26-4821-8358-e7f2841d5883"
      },
      "source": [
        "CLASS_NAMES = list(train_images.class_indices.keys())\n",
        "CLASS_NAMES"
      ],
      "execution_count": null,
      "outputs": [
        {
          "output_type": "execute_result",
          "data": {
            "text/plain": [
              "['BASOPHIL', 'EOSINOPHIL', 'LYMPHOCYTE', 'MONOCYTE', 'NEUTROPHIL']"
            ]
          },
          "metadata": {
            "tags": []
          },
          "execution_count": 159
        }
      ]
    },
    {
      "cell_type": "code",
      "metadata": {
        "colab": {
          "base_uri": "https://localhost:8080/"
        },
        "id": "oNirbfOoQCDg",
        "outputId": "1237a1de-84fa-4c35-96b8-f16600b38a85"
      },
      "source": [
        "predictions = np.argmax(model.predict(test_images, verbose=1, steps=65), axis=1)\n",
        "acc = accuracy_score(test_images.labels, predictions)\n",
        "cm = tf.math.confusion_matrix(test_images.labels, predictions)\n",
        "clr = classification_report(test_images.labels, predictions, target_names=CLASS_NAMES)\n",
        "\n",
        "print(\"Test Accuracy: {:.3f}%\".format(acc * 100))"
      ],
      "execution_count": null,
      "outputs": [
        {
          "output_type": "stream",
          "text": [
            "65/65 [==============================] - 4s 70ms/step\n",
            "Test Accuracy: 13.052%\n"
          ],
          "name": "stdout"
        }
      ]
    },
    {
      "cell_type": "code",
      "metadata": {
        "colab": {
          "base_uri": "https://localhost:8080/",
          "height": 751
        },
        "id": "_wjY43t93pbb",
        "outputId": "27f8f09e-9fff-4290-d152-0386477ee116"
      },
      "source": [
        "plt.figure(figsize=(8, 8))\n",
        "sns.heatmap(cm, annot=True, fmt='g', vmin=0, cmap='Blues', cbar=False, linecolor = 'black', linewidth = 1)\n",
        "plt.xticks(ticks= np.arange(5) + 0.5, labels=CLASS_NAMES)\n",
        "plt.yticks(ticks= np.arange(5) + 0.5, labels=CLASS_NAMES)\n",
        "\n",
        "plt.xlabel(\"Classes previstas\")\n",
        "plt.ylabel(\"Classes reais\")\n",
        "\n",
        "plt.title(\"Matriz de confusão\")\n",
        "plt.show()\n",
        "\n",
        "print(\"Relatório de classificação:\\n----------------------\\n\", clr)"
      ],
      "execution_count": null,
      "outputs": [
        {
          "output_type": "display_data",
          "data": {
            "image/png": "[encoded data removed]",
            "text/plain": [
              "<Figure size 576x576 with 1 Axes>"
            ]
          },
          "metadata": {
            "tags": [],
            "needs_background": "light"
          }
        },
        {
          "output_type": "stream",
          "text": [
            "Relatório de classificação:\n",
            "----------------------\n",
            "               precision    recall  f1-score   support\n",
            "\n",
            "    BASOPHIL       0.00      0.00      0.00       244\n",
            "  EOSINOPHIL       0.18      0.18      0.18       624\n",
            "  LYMPHOCYTE       0.00      0.00      0.00       243\n",
            "    MONOCYTE       0.00      0.00      0.00       284\n",
            "  NEUTROPHIL       0.23      0.24      0.24       666\n",
            "\n",
            "    accuracy                           0.13      2061\n",
            "   macro avg       0.08      0.08      0.08      2061\n",
            "weighted avg       0.13      0.13      0.13      2061\n",
            "\n"
          ],
          "name": "stdout"
        }
      ]
    },
    {
      "cell_type": "markdown",
      "metadata": {
        "id": "iAZIYY9DYdY0"
      },
      "source": [
        "# Ambiente Computacional Utilizado\n",
        "Com o Colab Pro, você tem prioridade no acesso a nossas GPUs mais rápidas. Por exemplo, algumas vezes você terá GPUs T4 ou P100, quando a maioria dos usuários do Colab recebem uma GPU K80, mais lenta. É possível ver qual é a GPU atribuída a qualquer momento, executando a célula a seguir."
      ]
    },
    {
      "cell_type": "code",
      "metadata": {
        "colab": {
          "base_uri": "https://localhost:8080/"
        },
        "id": "IksasOqrYY8F",
        "outputId": "d475198f-493f-4036-e0ae-7209be23ec20"
      },
      "source": [
        "gpu_info = !nvidia-smi\n",
        "gpu_info = '\\n'.join(gpu_info)\n",
        "if gpu_info.find('failed') >= 0:\n",
        "  print('Select the Runtime > \"Change runtime type\" menu to enable a GPU accelerator, ')\n",
        "  print('and then re-execute this cell.')\n",
        "else:\n",
        "  print(gpu_info)"
      ],
      "execution_count": null,
      "outputs": [
        {
          "output_type": "stream",
          "text": [
            "Sat Aug  7 20:51:10 2021       \n",
            "+-----------------------------------------------------------------------------+\n",
            "| NVIDIA-SMI 470.42.01    Driver Version: 460.32.03    CUDA Version: 11.2     |\n",
            "|-------------------------------+----------------------+----------------------+\n",
            "| GPU  Name        Persistence-M| Bus-Id        Disp.A | Volatile Uncorr. ECC |\n",
            "| Fan  Temp  Perf  Pwr:Usage/Cap|         Memory-Usage | GPU-Util  Compute M. |\n",
            "|                               |                      |               MIG M. |\n",
            "|===============================+======================+======================|\n",
            "|   0  Tesla P100-PCIE...  Off  | 00000000:00:04.0 Off |                    0 |\n",
            "| N/A   38C    P0    32W / 250W |   7709MiB / 16280MiB |      0%      Default |\n",
            "|                               |                      |                  N/A |\n",
            "+-------------------------------+----------------------+----------------------+\n",
            "                                                                               \n",
            "+-----------------------------------------------------------------------------+\n",
            "| Processes:                                                                  |\n",
            "|  GPU   GI   CI        PID   Type   Process name                  GPU Memory |\n",
            "|        ID   ID                                                   Usage      |\n",
            "|=============================================================================|\n",
            "|  No running processes found                                                 |\n",
            "+-----------------------------------------------------------------------------+\n"
          ],
          "name": "stdout"
        }
      ]
    },
    {
      "cell_type": "code",
      "metadata": {
        "colab": {
          "base_uri": "https://localhost:8080/"
        },
        "id": "pJDHgMm8YnSF",
        "outputId": "2ac6a877-62ef-48ab-dca8-439cf001e546"
      },
      "source": [
        "# É possível ver quanta memória há disponível a qualquer momento, executando o seguinte código.\n",
        "from psutil import virtual_memory\n",
        "ram_gb = virtual_memory().total / 1e9\n",
        "print('Your runtime has {:.1f} gigabytes of available RAM\\n'.format(ram_gb))\n",
        "\n",
        "if ram_gb < 20:\n",
        "  print('To enable a high-RAM runtime, select the Runtime > \"Change runtime type\"')\n",
        "  print('menu, and then select High-RAM in the Runtime shape dropdown. Then, ')\n",
        "  print('re-execute this cell.')\n",
        "else:\n",
        "  print('You are using a high-RAM runtime!')"
      ],
      "execution_count": null,
      "outputs": [
        {
          "output_type": "stream",
          "text": [
            "Your runtime has 27.3 gigabytes of available RAM\n",
            "\n",
            "You are using a high-RAM runtime!\n"
          ],
          "name": "stdout"
        }
      ]
    }
  ]
}