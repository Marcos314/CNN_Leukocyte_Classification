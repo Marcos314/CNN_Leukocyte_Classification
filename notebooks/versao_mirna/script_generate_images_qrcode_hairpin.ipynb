{
 "cells": [
  {
   "cell_type": "markdown",
   "metadata": {},
   "source": [
    "### Gerar QRcode a partir das sequências\n",
    "\n",
    "- Obter os qrcode atráves das sequências dos miRNAs."
   ]
  },
  {
   "cell_type": "code",
   "execution_count": 1,
   "metadata": {},
   "outputs": [
    {
     "name": "stdout",
     "output_type": "stream",
     "text": [
      "Requirement already satisfied: biopython in /home/marcos/anaconda3/lib/python3.7/site-packages (1.78)\n",
      "Requirement already satisfied: numpy in /home/marcos/anaconda3/lib/python3.7/site-packages (from biopython) (1.19.5)\n"
     ]
    }
   ],
   "source": [
    "!pip install biopython"
   ]
  },
  {
   "cell_type": "code",
   "execution_count": 1,
   "metadata": {},
   "outputs": [],
   "source": [
    "# Imports\n",
    "from Bio import Entrez\n",
    "from Bio import SeqIO\n",
    "import pandas as pd"
   ]
  },
  {
   "cell_type": "code",
   "execution_count": 11,
   "metadata": {},
   "outputs": [
    {
     "name": "stdout",
     "output_type": "stream",
     "text": [
      "Found 1398 short sequences\n"
     ]
    }
   ],
   "source": [
    "array_seq = []\n",
    "file = '/home/marcos/Desktop/TCC_2020/dados/hairpin.fa'\n",
    "\n",
    "input_seq_iterator = SeqIO.parse(file, \"fasta\")\n",
    "# Build a list of short sequences:\n",
    "short_sequences = [record for record in input_seq_iterator if len(record.seq) < 60]\n",
    "\n",
    "print(\"Found %i short sequences\" % len(short_sequences))\n",
    "\n",
    "SeqIO.write(short_sequences, \"/home/marcos/Desktop/TCC_2020/dados/short_seqs.fasta\", \"fasta\")\n",
    "\n",
    "file2 = '/home/marcos/Desktop/TCC_2020/dados/short_seqs.fasta'\n",
    "\n",
    "for i in SeqIO.parse(file2, \"fasta\"):\n",
    "    array_seq.append(str(i.seq))\n",
    "\n",
    "#print(array_seq)\n",
    "\n"
   ]
  },
  {
   "cell_type": "code",
   "execution_count": 12,
   "metadata": {},
   "outputs": [
    {
     "name": "stdout",
     "output_type": "stream",
     "text": [
      "1398\n"
     ]
    }
   ],
   "source": [
    "# Número de seqências obtidas\n",
    "print(len(array_seq))"
   ]
  },
  {
   "cell_type": "code",
   "execution_count": 14,
   "metadata": {},
   "outputs": [
    {
     "name": "stdout",
     "output_type": "stream",
     "text": [
      "59\n"
     ]
    }
   ],
   "source": [
    "# Tamanho da primeira sequência da lista\n",
    "print(len(array_seq[1]))"
   ]
  },
  {
   "cell_type": "markdown",
   "metadata": {},
   "source": [
    "### Transformando sequências em códigos QR"
   ]
  },
  {
   "cell_type": "code",
   "execution_count": 15,
   "metadata": {},
   "outputs": [
    {
     "name": "stdout",
     "output_type": "stream",
     "text": [
      "Requirement already satisfied: qrcode in /home/marcos/anaconda3/lib/python3.7/site-packages (6.1)\r\n",
      "Requirement already satisfied: six in /home/marcos/anaconda3/lib/python3.7/site-packages (from qrcode) (1.15.0)\r\n"
     ]
    }
   ],
   "source": [
    "#!pip install qrcode"
   ]
  },
  {
   "cell_type": "code",
   "execution_count": 16,
   "metadata": {},
   "outputs": [],
   "source": [
    "import qrcode\n",
    "import shutil"
   ]
  },
  {
   "cell_type": "code",
   "execution_count": 17,
   "metadata": {
    "scrolled": true
   },
   "outputs": [
    {
     "data": {
      "image/png": "[encoded data removed]",
      "text/plain": [
       "<qrcode.image.pil.PilImage at 0x7fbbaf8abad0>"
      ]
     },
     "execution_count": 17,
     "metadata": {},
     "output_type": "execute_result"
    }
   ],
   "source": [
    "img = qrcode.make(array_seq[0])\n",
    "img"
   ]
  },
  {
   "cell_type": "code",
   "execution_count": 8,
   "metadata": {},
   "outputs": [
    {
     "data": {
      "image/png": "[encoded data removed]",
      "text/plain": [
       "<qrcode.image.pil.PilImage at 0x7fbbaf964410>"
      ]
     },
     "execution_count": 8,
     "metadata": {},
     "output_type": "execute_result"
    }
   ],
   "source": [
    "img = qrcode.make(array_seq[0])\n",
    "img"
   ]
  },
  {
   "cell_type": "code",
   "execution_count": 19,
   "metadata": {},
   "outputs": [
    {
     "name": "stdout",
     "output_type": "stream",
     "text": [
      "Sequências lidas 500\n",
      "Sequências lidas 1000\n"
     ]
    }
   ],
   "source": [
    "# TENTAR PARALELIZAR O PROCESSO USANDO DASK\n",
    "count = 0\n",
    "for seq in array_seq:\n",
    "    count+=1    \n",
    "    # Gerando qrcode a partir do array_seq  \n",
    "    img = qrcode.make(seq)\n",
    "    \n",
    "    # Salvando a imagem\n",
    "    filename = (f'seq{count}.jpeg')\n",
    "    img.save(filename)\n",
    "    \n",
    "    # Salvando as imagens em um diretório especifico\n",
    "    shutil.move(filename, '/home/marcos/Desktop/TCC_2020/notebooks/images_sequence_qrcode_hairpin')        \n",
    "    \n",
    "    if count % 500 == 0:\n",
    "        print(f'Sequências lidas {count}')"
   ]
  },
  {
   "cell_type": "code",
   "execution_count": null,
   "metadata": {},
   "outputs": [],
   "source": []
  }
 ],
 "metadata": {
  "kernelspec": {
   "display_name": "Python 3",
   "language": "python",
   "name": "python3"
  },
  "language_info": {
   "codemirror_mode": {
    "name": "ipython",
    "version": 3
   },
   "file_extension": ".py",
   "mimetype": "text/x-python",
   "name": "python",
   "nbconvert_exporter": "python",
   "pygments_lexer": "ipython3",
   "version": "3.7.6"
  }
 },
 "nbformat": 4,
 "nbformat_minor": 4
}
