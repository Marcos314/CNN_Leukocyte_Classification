{
 "cells": [
  {
   "cell_type": "markdown",
   "metadata": {},
   "source": [
    "# Criação do dataset\n",
    "\n",
    "Este notebook gera um novo adataset usando como base o dataset originalmente obtido de https://github.com/Shenggan/BCCD_Dataset\n",
    "\n",
    "As imagens originais foram submetidas a um aumento de contraste e sem seguida rotacionadas em 45 graus sucessivamente, gerando imagens com as seguintes rotações: 0, 45, 90, 135, 180, 225, 270, 315.\n",
    "\n",
    "Esta estratégia expande o dataset gerando variações de posicionamento das células alvo."
   ]
  },
  {
   "cell_type": "code",
   "execution_count": 1,
   "metadata": {},
   "outputs": [],
   "source": [
    "import os, errno\n",
    "import pathlib\n",
    "import pandas as pd\n",
    "from PIL import Image, ImageFilter\n",
    "from PIL import ImageEnhance\n",
    "from pathlib import Path"
   ]
  },
  {
   "cell_type": "code",
   "execution_count": 2,
   "metadata": {},
   "outputs": [],
   "source": [
    "path_base = \"~/TCC_2020/dataset/\"\n",
    "blood_images = path_base + \"blood/\""
   ]
  },
  {
   "cell_type": "code",
   "execution_count": 3,
   "metadata": {},
   "outputs": [
    {
     "ename": "FileNotFoundError",
     "evalue": "[Errno 2] No such file or directory: '~/TCC_2020/dataset/blood/'",
     "output_type": "error",
     "traceback": [
      "\u001b[0;31m---------------------------------------------------------------------------\u001b[0m",
      "\u001b[0;31mFileNotFoundError\u001b[0m                         Traceback (most recent call last)",
      "\u001b[0;32m<ipython-input-3-e3dcf9689195>\u001b[0m in \u001b[0;36m<module>\u001b[0;34m\u001b[0m\n\u001b[0;32m----> 1\u001b[0;31m \u001b[0marquivos\u001b[0m \u001b[0;34m=\u001b[0m \u001b[0mos\u001b[0m\u001b[0;34m.\u001b[0m\u001b[0mlistdir\u001b[0m\u001b[0;34m(\u001b[0m\u001b[0mblood_images\u001b[0m\u001b[0;34m)\u001b[0m\u001b[0;34m\u001b[0m\u001b[0;34m\u001b[0m\u001b[0m\n\u001b[0m",
      "\u001b[0;31mFileNotFoundError\u001b[0m: [Errno 2] No such file or directory: '~/TCC_2020/dataset/blood/'"
     ]
    }
   ],
   "source": [
    "arquivos = os.listdir(blood_images)"
   ]
  },
  {
   "cell_type": "code",
   "execution_count": 48,
   "metadata": {},
   "outputs": [
    {
     "name": "stdout",
     "output_type": "stream",
     "text": [
      "366 imagens no total.\n",
      "\n",
      "['BloodImage_00013.jpg', 'BloodImage_00149.jpg', 'BloodImage_00351.jpg', 'BloodImage_00068.jpg', 'BloodImage_00269.jpg']\n"
     ]
    }
   ],
   "source": [
    "print(f\"{len(arquivos)} imagens no total.\\n\")\n",
    "print(arquivos[:5])"
   ]
  },
  {
   "cell_type": "code",
   "execution_count": 53,
   "metadata": {},
   "outputs": [
    {
     "data": {
      "text/html": [
       "<div>\n",
       "<style scoped>\n",
       "    .dataframe tbody tr th:only-of-type {\n",
       "        vertical-align: middle;\n",
       "    }\n",
       "\n",
       "    .dataframe tbody tr th {\n",
       "        vertical-align: top;\n",
       "    }\n",
       "\n",
       "    .dataframe thead th {\n",
       "        text-align: right;\n",
       "    }\n",
       "</style>\n",
       "<table border=\"1\" class=\"dataframe\">\n",
       "  <thead>\n",
       "    <tr style=\"text-align: right;\">\n",
       "      <th></th>\n",
       "      <th>Image</th>\n",
       "      <th>Category</th>\n",
       "    </tr>\n",
       "  </thead>\n",
       "  <tbody>\n",
       "    <tr>\n",
       "      <th>0</th>\n",
       "      <td>0</td>\n",
       "      <td>NEUTROPHIL</td>\n",
       "    </tr>\n",
       "    <tr>\n",
       "      <th>1</th>\n",
       "      <td>1</td>\n",
       "      <td>NEUTROPHIL</td>\n",
       "    </tr>\n",
       "    <tr>\n",
       "      <th>2</th>\n",
       "      <td>2</td>\n",
       "      <td>NEUTROPHIL</td>\n",
       "    </tr>\n",
       "    <tr>\n",
       "      <th>3</th>\n",
       "      <td>3</td>\n",
       "      <td>NEUTROPHIL</td>\n",
       "    </tr>\n",
       "    <tr>\n",
       "      <th>4</th>\n",
       "      <td>4</td>\n",
       "      <td>NEUTROPHIL</td>\n",
       "    </tr>\n",
       "    <tr>\n",
       "      <th>...</th>\n",
       "      <td>...</td>\n",
       "      <td>...</td>\n",
       "    </tr>\n",
       "    <tr>\n",
       "      <th>406</th>\n",
       "      <td>406</td>\n",
       "      <td>NaN</td>\n",
       "    </tr>\n",
       "    <tr>\n",
       "      <th>407</th>\n",
       "      <td>407</td>\n",
       "      <td>NEUTROPHIL</td>\n",
       "    </tr>\n",
       "    <tr>\n",
       "      <th>408</th>\n",
       "      <td>408</td>\n",
       "      <td>NEUTROPHIL</td>\n",
       "    </tr>\n",
       "    <tr>\n",
       "      <th>409</th>\n",
       "      <td>409</td>\n",
       "      <td>NEUTROPHIL</td>\n",
       "    </tr>\n",
       "    <tr>\n",
       "      <th>410</th>\n",
       "      <td>410</td>\n",
       "      <td>EOSINOPHIL</td>\n",
       "    </tr>\n",
       "  </tbody>\n",
       "</table>\n",
       "<p>411 rows × 2 columns</p>\n",
       "</div>"
      ],
      "text/plain": [
       "     Image    Category\n",
       "0        0  NEUTROPHIL\n",
       "1        1  NEUTROPHIL\n",
       "2        2  NEUTROPHIL\n",
       "3        3  NEUTROPHIL\n",
       "4        4  NEUTROPHIL\n",
       "..     ...         ...\n",
       "406    406         NaN\n",
       "407    407  NEUTROPHIL\n",
       "408    408  NEUTROPHIL\n",
       "409    409  NEUTROPHIL\n",
       "410    410  EOSINOPHIL\n",
       "\n",
       "[411 rows x 2 columns]"
      ]
     },
     "execution_count": 53,
     "metadata": {},
     "output_type": "execute_result"
    }
   ],
   "source": [
    "labels = pd.read_csv(path_base + \"labels.csv\", usecols = [1, 2])\n",
    "labels"
   ]
  },
  {
   "cell_type": "code",
   "execution_count": 8,
   "metadata": {},
   "outputs": [
    {
     "name": "stdout",
     "output_type": "stream",
     "text": [
      "208 NEUTROPHIL\n",
      "3 BASOPHIL\n",
      "89 EOSINOPHIL\n",
      "21 MONOCYTE\n",
      "33 LYMPHOCYTE\n"
     ]
    }
   ],
   "source": [
    "# Criando listas com os numeros de imagens de cada categoria\n",
    "# A lista é criada relacionando do nome do arquivo com seu label em (labels.csv)\n",
    "# Algumas imagens contem mais de um tipo de célula, exemplo: 176 = MONOCYTE, LYMPHOCYTE\n",
    "# São descartadas imagens com label duplo não idênctico ou sem label (nan)\n",
    "# Tais imagens são descartadas porque a quantidade de imagens com mais de \n",
    "# um tipo celular é insuficiente para treinar a rede para reconhecer mais de uma classe simultaneamente\n",
    "# Apesar de gerar as imagens, da mesma forma, não serão usados BASOPHIL porque há poucas amostras (3 apenas)\n",
    "# Esta será uma limitação desta IA: reconhecerá apenas NEUTROPHIL, EOSINOPHIL, MONOCYTE e LYMPHOCYTE individualmente presentes em imagens de lâminas\n",
    "\n",
    "NEUTROPHIL = []\n",
    "BASOPHIL   = []\n",
    "EOSINOPHIL = []\n",
    "MONOCYTE   = []\n",
    "LYMPHOCYTE = []\n",
    "for index, label in labels.iterrows():\n",
    "    if label['Category'] == 'NEUTROPHIL':\n",
    "        NEUTROPHIL.append(label['Image'])\n",
    "    if label['Category'] == 'BASOPHIL':\n",
    "        BASOPHIL.append(label['Image'])\n",
    "    if label['Category'] == 'EOSINOPHIL':\n",
    "        EOSINOPHIL.append(label['Image'])\n",
    "    if label['Category'] == 'MONOCYTE':\n",
    "        MONOCYTE.append(label['Image'])\n",
    "    if label['Category'] == 'LYMPHOCYTE':\n",
    "        LYMPHOCYTE.append(label['Image'])\n",
    "    if \",\" in str(label['Category']):\n",
    "        categoria_dupla =  str(label['Category']).split(\",\")\n",
    "        if categoria_dupla[0] == 'NEUTROPHIL' and categoria_dupla[1] == 'NEUTROPHIL':\n",
    "            NEUTROPHIL.append(label['Image'])\n",
    "        if categoria_dupla[0] == 'BASOPHIL' and categoria_dupla[1] == 'BASOPHIL':\n",
    "            BASOPHIL.append(label['Image'])\n",
    "        if categoria_dupla[0] == 'EOSINOPHIL' and categoria_dupla[1] == 'EOSINOPHIL':\n",
    "            EOSINOPHIL.append(label['Image'])\n",
    "        if categoria_dupla[0] == 'MONOCYTE' and categoria_dupla[1] == 'MONOCYTE':\n",
    "            MONOCYTE.append(label['Image'])\n",
    "        if categoria_dupla[0] == 'LYMPHOCYTE' and categoria_dupla[1] == 'LYMPHOCYTE':\n",
    "            LYMPHOCYTE.append(label['Image'])\n",
    "        \n",
    "print(f\"{len(NEUTROPHIL)} NEUTROPHIL\")\n",
    "print(f\"{len(BASOPHIL)} BASOPHIL\")\n",
    "print(f\"{len(EOSINOPHIL)} EOSINOPHIL\")\n",
    "print(f\"{len(MONOCYTE)} MONOCYTE\")\n",
    "print(f\"{len(LYMPHOCYTE)} LYMPHOCYTE\")"
   ]
  },
  {
   "cell_type": "code",
   "execution_count": 49,
   "metadata": {},
   "outputs": [
    {
     "data": {
      "text/plain": [
       "[8, 132, 171]"
      ]
     },
     "execution_count": 49,
     "metadata": {},
     "output_type": "execute_result"
    }
   ],
   "source": [
    "BASOPHIL"
   ]
  },
  {
   "cell_type": "code",
   "execution_count": 41,
   "metadata": {},
   "outputs": [],
   "source": [
    "def imgTratarSalvar(imgPathOrigem, imgPathDestino, imgName, imgType):\n",
    "    '''\n",
    "    TODO Documentar a funcao e tratar excecoes de acesso a pasta e existencia ou nao do arquivo\n",
    "    '''\n",
    "    # Imagem original\n",
    "    im = Image.open( str(imgPathOrigem + image) )\n",
    "    \n",
    "    # Mudanca de contraste da imagem original\n",
    "    enh = ImageEnhance.Contrast(im).enhance(2)\n",
    "    \n",
    "    # Rotacoes na imagem com contraste aumentado\n",
    "    enhTransposed45 = enh.rotate(45)\n",
    "    enhTransposed90 = enh.rotate(90)\n",
    "    enhTransposed135 = enh.rotate(135)\n",
    "    enhTransposed180 = enh.rotate(180)\n",
    "    enhTransposed225 = enh.rotate(225)\n",
    "    enhTransposed270 = enh.rotate(270)\n",
    "    enhTransposed315 = enh.rotate(315)\n",
    "\n",
    "    # Salvando todas as novas imagens - 640 x 480 pxl\n",
    "    enh.save(imgPathDestino + imgType + \"_enhanced_\" + image[-9:])\n",
    "    enhTransposed45.save(imgPathDestino + imgType + \"_enhanced45_\" + image[-9:])\n",
    "    enhTransposed90.save(imgPathDestino + imgType + \"_enhanced90_\" + image[-9:])\n",
    "    enhTransposed135.save(imgPathDestino + imgType + \"_enhanced135_\" + image[-9:])\n",
    "    enhTransposed180.save(imgPathDestino + imgType + \"_enhanced180_\" + image[-9:])\n",
    "    enhTransposed225.save(imgPathDestino + imgType + \"_enhanced225_\" + image[-9:])\n",
    "    enhTransposed270.save(imgPathDestino + imgType + \"_enhanced270_\" + image[-9:])\n",
    "    enhTransposed315.save(imgPathDestino + imgType + \"_enhanced315_\" + image[-9:])"
   ]
  },
  {
   "cell_type": "code",
   "execution_count": 47,
   "metadata": {},
   "outputs": [],
   "source": [
    "'''\n",
    "TO DO Tratar excecoes de acesso a pasta e existencia do arquivo\n",
    "'''\n",
    "\n",
    "imgPathDestino = \"~/TCC_2020/dataset/novo/\"\n",
    "\n",
    "BASOPHIL_PATH = imgPathDestino + \"BASOPHIL/\"\n",
    "Path(BASOPHIL_PATH).mkdir(parents=True, exist_ok=True)\n",
    "\n",
    "NEUTROPHIL_PATH = imgPathDestino + \"NEUTROPHIL/\"\n",
    "Path(NEUTROPHIL_PATH).mkdir(parents=True, exist_ok=True)\n",
    "\n",
    "EOSINOPHIL_PATH = imgPathDestino + \"EOSINOPHIL/\"\n",
    "Path(EOSINOPHIL_PATH).mkdir(parents=True, exist_ok=True)\n",
    "\n",
    "MONOCYTE_PATH = imgPathDestino + \"MONOCYTE/\"\n",
    "Path(MONOCYTE_PATH).mkdir(parents=True, exist_ok=True)\n",
    "\n",
    "LYMPHOCYTE_PATH = imgPathDestino + \"LYMPHOCYTE/\"\n",
    "Path(LYMPHOCYTE_PATH).mkdir(parents=True, exist_ok=True)\n",
    "\n",
    "for basophil in BASOPHIL:\n",
    "    for image in arquivos:\n",
    "        if basophil == int(image[-9:-4]):\n",
    "            imgType = \"basophil\"\n",
    "            imgTratarSalvar( blood_images, BASOPHIL_PATH, image, imgType )\n",
    "\n",
    "for neutrophil in NEUTROPHIL:\n",
    "    for image in arquivos:\n",
    "        if neutrophil == int(image[-9:-4]):\n",
    "            imgType = \"neutrophil\"\n",
    "            imgTratarSalvar( blood_images, NEUTROPHIL_PATH, image, imgType )\n",
    "            \n",
    "for eosinophil in EOSINOPHIL:\n",
    "    for image in arquivos:\n",
    "        if eosinophil == int(image[-9:-4]):\n",
    "            imgType = \"eosinophil\"\n",
    "            imgTratarSalvar( blood_images, EOSINOPHIL_PATH, image, imgType )\n",
    "            \n",
    "for monocyte in MONOCYTE:\n",
    "    for image in arquivos:\n",
    "        if monocyte == int(image[-9:-4]):\n",
    "            imgType = \"monocyte\"\n",
    "            imgTratarSalvar( blood_images, MONOCYTE_PATH, image, imgType )\n",
    "            \n",
    "for lymphocite in LYMPHOCYTE:\n",
    "    for image in arquivos:\n",
    "        if lymphocite == int(image[-9:-4]):\n",
    "            imgType = \"lymphocite\"\n",
    "            imgTratarSalvar( blood_images, LYMPHOCYTE_PATH, image, imgType )            "
   ]
  }
 ],
 "metadata": {
  "kernelspec": {
   "display_name": "Python 3",
   "language": "python",
   "name": "python3"
  },
  "language_info": {
   "codemirror_mode": {
    "name": "ipython",
    "version": 3
   },
   "file_extension": ".py",
   "mimetype": "text/x-python",
   "name": "python",
   "nbconvert_exporter": "python",
   "pygments_lexer": "ipython3",
   "version": "3.8.5"
  }
 },
 "nbformat": 4,
 "nbformat_minor": 4
}
