{
  "nbformat": 4,
  "nbformat_minor": 0,
  "metadata": {
    "colab": {
      "name": "transform_data.ipynb",
      "provenance": [],
      "mount_file_id": "16tr863DHDT8J-Xp30xkM8oWHgiAi5hOC",
      "authorship_tag": "ABX9TyMq2/BHkx5DHGmaMdINxVjX",
      "include_colab_link": true
    },
    "kernelspec": {
      "name": "python3",
      "display_name": "Python 3"
    }
  },
  "cells": [
    {
      "cell_type": "markdown",
      "metadata": {
        "id": "view-in-github",
        "colab_type": "text"
      },
      "source": [
        "<a href=\"https://colab.research.google.com/github/Marcos314/TCC_2020/blob/master/transform_data.ipynb\" target=\"_parent\"><img src=\"https://colab.research.google.com/assets/colab-badge.svg\" alt=\"Open In Colab\"/></a>"
      ]
    },
    {
      "cell_type": "markdown",
      "metadata": {
        "id": "kzGE96rV7kQl",
        "colab_type": "text"
      },
      "source": [
        "## Transformação do dataset tarbase_data.csv\n",
        "- Selecionar apenas as espécies de interesse\n",
        "- Adcionar uma coluna com as sequencias de cada mirna"
      ]
    },
    {
      "cell_type": "code",
      "metadata": {
        "id": "0gYQGr4YnHbP",
        "colab_type": "code",
        "colab": {}
      },
      "source": [
        "# Import\n",
        "import pandas as pd"
      ],
      "execution_count": null,
      "outputs": []
    },
    {
      "cell_type": "code",
      "metadata": {
        "id": "IsjsS59UnRMV",
        "colab_type": "code",
        "colab": {}
      },
      "source": [
        "df = pd.read_csv('/content/drive/My Drive/TCC - 2020/tarbase_data.csv', sep='\\t')"
      ],
      "execution_count": null,
      "outputs": []
    },
    {
      "cell_type": "code",
      "metadata": {
        "id": "7QpSICmUn2nH",
        "colab_type": "code",
        "colab": {
          "base_uri": "https://localhost:8080/",
          "height": 34
        },
        "outputId": "4c958749-bced-4b41-d718-1584bfc6a6dd"
      },
      "source": [
        "df.shape"
      ],
      "execution_count": null,
      "outputs": [
        {
          "output_type": "execute_result",
          "data": {
            "text/plain": [
              "(649378, 12)"
            ]
          },
          "metadata": {
            "tags": []
          },
          "execution_count": 8
        }
      ]
    },
    {
      "cell_type": "code",
      "metadata": {
        "id": "r_MCEhptn95B",
        "colab_type": "code",
        "colab": {
          "base_uri": "https://localhost:8080/",
          "height": 467
        },
        "outputId": "683d127d-9d1d-4c6f-cd06-55da468e9251"
      },
      "source": [
        "df.head()"
      ],
      "execution_count": null,
      "outputs": [
        {
          "output_type": "execute_result",
          "data": {
            "text/html": [
              "<div>\n",
              "<style scoped>\n",
              "    .dataframe tbody tr th:only-of-type {\n",
              "        vertical-align: middle;\n",
              "    }\n",
              "\n",
              "    .dataframe tbody tr th {\n",
              "        vertical-align: top;\n",
              "    }\n",
              "\n",
              "    .dataframe thead th {\n",
              "        text-align: right;\n",
              "    }\n",
              "</style>\n",
              "<table border=\"1\" class=\"dataframe\">\n",
              "  <thead>\n",
              "    <tr style=\"text-align: right;\">\n",
              "      <th></th>\n",
              "      <th>geneId</th>\n",
              "      <th>geneName</th>\n",
              "      <th>mirna</th>\n",
              "      <th>species</th>\n",
              "      <th>cell_line</th>\n",
              "      <th>tissue</th>\n",
              "      <th>category</th>\n",
              "      <th>method</th>\n",
              "      <th>positive_negative</th>\n",
              "      <th>direct_indirect</th>\n",
              "      <th>up_down</th>\n",
              "      <th>condition</th>\n",
              "    </tr>\n",
              "  </thead>\n",
              "  <tbody>\n",
              "    <tr>\n",
              "      <th>0</th>\n",
              "      <td>0910001A06Rik</td>\n",
              "      <td>0910001A06Rik</td>\n",
              "      <td>mmu-miR-124-3p</td>\n",
              "      <td>Mus musculus</td>\n",
              "      <td>NaN</td>\n",
              "      <td>NaN</td>\n",
              "      <td>NaN</td>\n",
              "      <td>Microarrays</td>\n",
              "      <td>POSITIVE</td>\n",
              "      <td>INDIRECT</td>\n",
              "      <td>UP</td>\n",
              "      <td>NaN</td>\n",
              "    </tr>\n",
              "    <tr>\n",
              "      <th>1</th>\n",
              "      <td>1200004M23Rik</td>\n",
              "      <td>1200004M23Rik</td>\n",
              "      <td>mmu-miR-124-3p</td>\n",
              "      <td>Mus musculus</td>\n",
              "      <td>NaN</td>\n",
              "      <td>NaN</td>\n",
              "      <td>NaN</td>\n",
              "      <td>Microarrays</td>\n",
              "      <td>POSITIVE</td>\n",
              "      <td>INDIRECT</td>\n",
              "      <td>DOWN</td>\n",
              "      <td>NaN</td>\n",
              "    </tr>\n",
              "    <tr>\n",
              "      <th>2</th>\n",
              "      <td>1700027J05Rik</td>\n",
              "      <td>1700027J05Rik</td>\n",
              "      <td>mmu-miR-124-3p</td>\n",
              "      <td>Mus musculus</td>\n",
              "      <td>NaN</td>\n",
              "      <td>NaN</td>\n",
              "      <td>NaN</td>\n",
              "      <td>Microarrays</td>\n",
              "      <td>POSITIVE</td>\n",
              "      <td>INDIRECT</td>\n",
              "      <td>UP</td>\n",
              "      <td>NaN</td>\n",
              "    </tr>\n",
              "    <tr>\n",
              "      <th>3</th>\n",
              "      <td>1810015A11Rik</td>\n",
              "      <td>1810015A11Rik</td>\n",
              "      <td>mmu-miR-124-3p</td>\n",
              "      <td>Mus musculus</td>\n",
              "      <td>NaN</td>\n",
              "      <td>NaN</td>\n",
              "      <td>NaN</td>\n",
              "      <td>Microarrays</td>\n",
              "      <td>POSITIVE</td>\n",
              "      <td>INDIRECT</td>\n",
              "      <td>DOWN</td>\n",
              "      <td>NaN</td>\n",
              "    </tr>\n",
              "    <tr>\n",
              "      <th>4</th>\n",
              "      <td>2310047A01Rik</td>\n",
              "      <td>2310047A01Rik</td>\n",
              "      <td>mmu-miR-124-3p</td>\n",
              "      <td>Mus musculus</td>\n",
              "      <td>NaN</td>\n",
              "      <td>NaN</td>\n",
              "      <td>NaN</td>\n",
              "      <td>Microarrays</td>\n",
              "      <td>POSITIVE</td>\n",
              "      <td>INDIRECT</td>\n",
              "      <td>DOWN</td>\n",
              "      <td>NaN</td>\n",
              "    </tr>\n",
              "  </tbody>\n",
              "</table>\n",
              "</div>"
            ],
            "text/plain": [
              "          geneId       geneName  ... up_down condition\n",
              "0  0910001A06Rik  0910001A06Rik  ...      UP       NaN\n",
              "1  1200004M23Rik  1200004M23Rik  ...    DOWN       NaN\n",
              "2  1700027J05Rik  1700027J05Rik  ...      UP       NaN\n",
              "3  1810015A11Rik  1810015A11Rik  ...    DOWN       NaN\n",
              "4  2310047A01Rik  2310047A01Rik  ...    DOWN       NaN\n",
              "\n",
              "[5 rows x 12 columns]"
            ]
          },
          "metadata": {
            "tags": []
          },
          "execution_count": 9
        }
      ]
    },
    {
      "cell_type": "code",
      "metadata": {
        "id": "ngdDu7lWn_NZ",
        "colab_type": "code",
        "colab": {}
      },
      "source": [
        "# Filtrando as 5 espécies observadas\n",
        "df = df.loc[df['species'].isin(['Arabidopsis thaliana','Oryza sativa','Zea mays','Medicago truncatula','Vitis vinifera'])]"
      ],
      "execution_count": null,
      "outputs": []
    },
    {
      "cell_type": "code",
      "metadata": {
        "id": "msBGrPbcHs37",
        "colab_type": "code",
        "colab": {
          "base_uri": "https://localhost:8080/",
          "height": 34
        },
        "outputId": "2d30c14e-9dec-46b3-8bca-77e084d1ff83"
      },
      "source": [
        "df.shape"
      ],
      "execution_count": null,
      "outputs": [
        {
          "output_type": "execute_result",
          "data": {
            "text/plain": [
              "(2660, 12)"
            ]
          },
          "metadata": {
            "tags": []
          },
          "execution_count": 12
        }
      ]
    },
    {
      "cell_type": "code",
      "metadata": {
        "id": "bxL5cGCfHt3G",
        "colab_type": "code",
        "colab": {
          "base_uri": "https://localhost:8080/",
          "height": 351
        },
        "outputId": "84ece217-55f8-495b-cfd9-fa941bf47b1f"
      },
      "source": [
        "df.head()"
      ],
      "execution_count": null,
      "outputs": [
        {
          "output_type": "execute_result",
          "data": {
            "text/html": [
              "<div>\n",
              "<style scoped>\n",
              "    .dataframe tbody tr th:only-of-type {\n",
              "        vertical-align: middle;\n",
              "    }\n",
              "\n",
              "    .dataframe tbody tr th {\n",
              "        vertical-align: top;\n",
              "    }\n",
              "\n",
              "    .dataframe thead th {\n",
              "        text-align: right;\n",
              "    }\n",
              "</style>\n",
              "<table border=\"1\" class=\"dataframe\">\n",
              "  <thead>\n",
              "    <tr style=\"text-align: right;\">\n",
              "      <th></th>\n",
              "      <th>geneId</th>\n",
              "      <th>geneName</th>\n",
              "      <th>mirna</th>\n",
              "      <th>species</th>\n",
              "      <th>cell_line</th>\n",
              "      <th>tissue</th>\n",
              "      <th>category</th>\n",
              "      <th>method</th>\n",
              "      <th>positive_negative</th>\n",
              "      <th>direct_indirect</th>\n",
              "      <th>up_down</th>\n",
              "      <th>condition</th>\n",
              "    </tr>\n",
              "  </thead>\n",
              "  <tbody>\n",
              "    <tr>\n",
              "      <th>51</th>\n",
              "      <td>AC233070_21.1(mtr)</td>\n",
              "      <td>AC233070_21.1(mtr)</td>\n",
              "      <td>mtr-miR396a-5p</td>\n",
              "      <td>Medicago truncatula</td>\n",
              "      <td>NaN</td>\n",
              "      <td>NaN</td>\n",
              "      <td>NaN</td>\n",
              "      <td>Degradome</td>\n",
              "      <td>POSITIVE</td>\n",
              "      <td>INDIRECT</td>\n",
              "      <td>DOWN</td>\n",
              "      <td>NaN</td>\n",
              "    </tr>\n",
              "    <tr>\n",
              "      <th>52</th>\n",
              "      <td>AC233070_21.1(mtr)</td>\n",
              "      <td>AC233070_21.1(mtr)</td>\n",
              "      <td>mtr-miR396b-5p</td>\n",
              "      <td>Medicago truncatula</td>\n",
              "      <td>NaN</td>\n",
              "      <td>NaN</td>\n",
              "      <td>NaN</td>\n",
              "      <td>Degradome</td>\n",
              "      <td>POSITIVE</td>\n",
              "      <td>INDIRECT</td>\n",
              "      <td>DOWN</td>\n",
              "      <td>NaN</td>\n",
              "    </tr>\n",
              "    <tr>\n",
              "      <th>53</th>\n",
              "      <td>AC233100_46.1(mtr)</td>\n",
              "      <td>AC233100_46.1(mtr)</td>\n",
              "      <td>mtr-miR1507-3p</td>\n",
              "      <td>Medicago truncatula</td>\n",
              "      <td>NaN</td>\n",
              "      <td>NaN</td>\n",
              "      <td>NaN</td>\n",
              "      <td>Degradome</td>\n",
              "      <td>POSITIVE</td>\n",
              "      <td>INDIRECT</td>\n",
              "      <td>DOWN</td>\n",
              "      <td>NaN</td>\n",
              "    </tr>\n",
              "    <tr>\n",
              "      <th>54</th>\n",
              "      <td>AC233680_24.1(mtr)</td>\n",
              "      <td>AC233680_24.1(mtr)</td>\n",
              "      <td>mtr-miR2643a</td>\n",
              "      <td>Medicago truncatula</td>\n",
              "      <td>NaN</td>\n",
              "      <td>NaN</td>\n",
              "      <td>NaN</td>\n",
              "      <td>Degradome</td>\n",
              "      <td>POSITIVE</td>\n",
              "      <td>INDIRECT</td>\n",
              "      <td>DOWN</td>\n",
              "      <td>NaN</td>\n",
              "    </tr>\n",
              "    <tr>\n",
              "      <th>55</th>\n",
              "      <td>AC233685_3.1(mtr)</td>\n",
              "      <td>AC233685_3.1(mtr)</td>\n",
              "      <td>mtr-miR159a</td>\n",
              "      <td>Medicago truncatula</td>\n",
              "      <td>NaN</td>\n",
              "      <td>NaN</td>\n",
              "      <td>NaN</td>\n",
              "      <td>Degradome</td>\n",
              "      <td>POSITIVE</td>\n",
              "      <td>INDIRECT</td>\n",
              "      <td>DOWN</td>\n",
              "      <td>NaN</td>\n",
              "    </tr>\n",
              "  </tbody>\n",
              "</table>\n",
              "</div>"
            ],
            "text/plain": [
              "                geneId            geneName  ... up_down condition\n",
              "51  AC233070_21.1(mtr)  AC233070_21.1(mtr)  ...    DOWN       NaN\n",
              "52  AC233070_21.1(mtr)  AC233070_21.1(mtr)  ...    DOWN       NaN\n",
              "53  AC233100_46.1(mtr)  AC233100_46.1(mtr)  ...    DOWN       NaN\n",
              "54  AC233680_24.1(mtr)  AC233680_24.1(mtr)  ...    DOWN       NaN\n",
              "55   AC233685_3.1(mtr)   AC233685_3.1(mtr)  ...    DOWN       NaN\n",
              "\n",
              "[5 rows x 12 columns]"
            ]
          },
          "metadata": {
            "tags": []
          },
          "execution_count": 13
        }
      ]
    },
    {
      "cell_type": "code",
      "metadata": {
        "id": "mUQvRbOIH91I",
        "colab_type": "code",
        "colab": {
          "base_uri": "https://localhost:8080/",
          "height": 197
        },
        "outputId": "1a2f5e25-c8dd-4b5a-e116-e34e86166e0d"
      },
      "source": [
        "# Eliminando algumas colunas\n",
        "df = df.drop(columns=['category','method','positive_negative','direct_indirect','up_down','condition','cell_line','tissue'])\n",
        "df.head()"
      ],
      "execution_count": null,
      "outputs": [
        {
          "output_type": "execute_result",
          "data": {
            "text/html": [
              "<div>\n",
              "<style scoped>\n",
              "    .dataframe tbody tr th:only-of-type {\n",
              "        vertical-align: middle;\n",
              "    }\n",
              "\n",
              "    .dataframe tbody tr th {\n",
              "        vertical-align: top;\n",
              "    }\n",
              "\n",
              "    .dataframe thead th {\n",
              "        text-align: right;\n",
              "    }\n",
              "</style>\n",
              "<table border=\"1\" class=\"dataframe\">\n",
              "  <thead>\n",
              "    <tr style=\"text-align: right;\">\n",
              "      <th></th>\n",
              "      <th>geneId</th>\n",
              "      <th>geneName</th>\n",
              "      <th>mirna</th>\n",
              "      <th>species</th>\n",
              "    </tr>\n",
              "  </thead>\n",
              "  <tbody>\n",
              "    <tr>\n",
              "      <th>51</th>\n",
              "      <td>AC233070_21.1(mtr)</td>\n",
              "      <td>AC233070_21.1(mtr)</td>\n",
              "      <td>mtr-miR396a-5p</td>\n",
              "      <td>Medicago truncatula</td>\n",
              "    </tr>\n",
              "    <tr>\n",
              "      <th>52</th>\n",
              "      <td>AC233070_21.1(mtr)</td>\n",
              "      <td>AC233070_21.1(mtr)</td>\n",
              "      <td>mtr-miR396b-5p</td>\n",
              "      <td>Medicago truncatula</td>\n",
              "    </tr>\n",
              "    <tr>\n",
              "      <th>53</th>\n",
              "      <td>AC233100_46.1(mtr)</td>\n",
              "      <td>AC233100_46.1(mtr)</td>\n",
              "      <td>mtr-miR1507-3p</td>\n",
              "      <td>Medicago truncatula</td>\n",
              "    </tr>\n",
              "    <tr>\n",
              "      <th>54</th>\n",
              "      <td>AC233680_24.1(mtr)</td>\n",
              "      <td>AC233680_24.1(mtr)</td>\n",
              "      <td>mtr-miR2643a</td>\n",
              "      <td>Medicago truncatula</td>\n",
              "    </tr>\n",
              "    <tr>\n",
              "      <th>55</th>\n",
              "      <td>AC233685_3.1(mtr)</td>\n",
              "      <td>AC233685_3.1(mtr)</td>\n",
              "      <td>mtr-miR159a</td>\n",
              "      <td>Medicago truncatula</td>\n",
              "    </tr>\n",
              "  </tbody>\n",
              "</table>\n",
              "</div>"
            ],
            "text/plain": [
              "                geneId            geneName           mirna              species\n",
              "51  AC233070_21.1(mtr)  AC233070_21.1(mtr)  mtr-miR396a-5p  Medicago truncatula\n",
              "52  AC233070_21.1(mtr)  AC233070_21.1(mtr)  mtr-miR396b-5p  Medicago truncatula\n",
              "53  AC233100_46.1(mtr)  AC233100_46.1(mtr)  mtr-miR1507-3p  Medicago truncatula\n",
              "54  AC233680_24.1(mtr)  AC233680_24.1(mtr)    mtr-miR2643a  Medicago truncatula\n",
              "55   AC233685_3.1(mtr)   AC233685_3.1(mtr)     mtr-miR159a  Medicago truncatula"
            ]
          },
          "metadata": {
            "tags": []
          },
          "execution_count": 14
        }
      ]
    },
    {
      "cell_type": "code",
      "metadata": {
        "id": "bmjBl_TAID7w",
        "colab_type": "code",
        "colab": {
          "base_uri": "https://localhost:8080/",
          "height": 34
        },
        "outputId": "915ea7eb-f856-4cc3-d53d-6710f7eed792"
      },
      "source": [
        "df.shape"
      ],
      "execution_count": null,
      "outputs": [
        {
          "output_type": "execute_result",
          "data": {
            "text/plain": [
              "(2660, 4)"
            ]
          },
          "metadata": {
            "tags": []
          },
          "execution_count": 15
        }
      ]
    },
    {
      "cell_type": "code",
      "metadata": {
        "id": "nveTu1UhIG3Q",
        "colab_type": "code",
        "colab": {}
      },
      "source": [
        ""
      ],
      "execution_count": null,
      "outputs": []
    }
  ]
}